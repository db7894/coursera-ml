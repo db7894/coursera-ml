{
 "cells": [
  {
   "cell_type": "markdown",
   "metadata": {},
   "source": [
    "## Matrix-Vector Products"
   ]
  },
  {
   "cell_type": "markdown",
   "metadata": {},
   "source": [
    "Example:\n",
    "Current health states of AIDS:\n",
    "\n",
    "- 85% asymptomatic\n",
    "- 10% symptomatic\n",
    "- 5% aids\n",
    "- 0% death\n",
    "\n",
    "The following matrix gives the probabilities of moving from one health state to another in a year.\n",
    "$$\\left[\\begin{array}{cccc}\n",
    "0.90 & 0.07 & 0.02 & 0.01\t\\\\\n",
    "0 & 0.93 & 0.05 & 0.02\t\\\\\n",
    "0 & 0 & 0.85 & 0.15\t\\\\\n",
    "0 & 0 & 0 & 1.00\n",
    "\\end{array}\\right]$$\n"
   ]
  },
  {
   "cell_type": "markdown",
   "metadata": {},
   "source": [
    "This matrix corresponds to:\n",
    "![Markov Health](images/markov_health.jpg)"
   ]
  },
  {
   "cell_type": "code",
   "execution_count": null,
   "metadata": {
    "collapsed": true
   },
   "outputs": [],
   "source": []
  }
 ],
 "metadata": {
  "kernelspec": {
   "display_name": "Python 3",
   "language": "python",
   "name": "python3"
  },
  "language_info": {
   "codemirror_mode": {
    "name": "ipython",
    "version": 3
   },
   "file_extension": ".py",
   "mimetype": "text/x-python",
   "name": "python",
   "nbconvert_exporter": "python",
   "pygments_lexer": "ipython3",
   "version": "3.5.3"
  }
 },
 "nbformat": 4,
 "nbformat_minor": 2
}
