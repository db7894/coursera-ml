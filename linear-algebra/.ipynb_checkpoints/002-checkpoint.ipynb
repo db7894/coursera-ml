{
 "cells": [
  {
   "cell_type": "markdown",
   "metadata": {},
   "source": [
    "# Background Removal w SVD"
   ]
  },
  {
   "cell_type": "code",
   "execution_count": 2,
   "metadata": {
    "scrolled": true
   },
   "outputs": [
    {
     "name": "stdout",
     "output_type": "stream",
     "text": [
      "Imageio: 'ffmpeg-win32-v3.2.4.exe' was not found on your computer; downloading it now.\n",
      "Try 1. Download from https://github.com/imageio/imageio-binaries/raw/master/ffmpeg/ffmpeg-win32-v3.2.4.exe (34.1 MB)\n",
      "Downloading: 8192/35749888 bytes (0.065536/35749888 bytes (0.2%319488/35749888 bytes (0.9671744/35749888 bytes (1.91122304/35749888 bytes (3.1%1400832/35749888 bytes (3.9%1826816/35749888 bytes (5.1%2351104/35749888 bytes (6.6%2809856/35749888 bytes (7.9%3407872/35749888 bytes (9.5%3661824/35749888 bytes (10.24268032/35749888 bytes (11.94710400/35749888 bytes (13.25128192/35749888 bytes (14.35480448/35749888 bytes (15.35799936/35749888 bytes (16.26062080/35749888 bytes (17.06332416/35749888 bytes (17.76643712/35749888 bytes (18.67233536/35749888 bytes (20.27684096/35749888 bytes (21.58323072/35749888 bytes (23.38937472/35749888 bytes (25.09543680/35749888 bytes (26.710174464/35749888 bytes (28.5%10723328/35749888 bytes (30.0%11149312/35749888 bytes (31.2%11509760/35749888 bytes (32.2%11968512/35749888 bytes (33.5%12394496/35749888 bytes (34.7%12820480/35749888 bytes (35.9%13254656/35749888 bytes (37.1%13631488/35749888 bytes (38.1%14041088/35749888 bytes (39.3%14532608/35749888 bytes (40.7%14884864/35749888 bytes (41.6%15261696/35749888 bytes (42.7%15630336/35749888 bytes (43.7%16171008/35749888 bytes (45.2%16547840/35749888 bytes (46.3%16990208/35749888 bytes (47.5%17432576/35749888 bytes (48.8%17727488/35749888 bytes (49.6%18268160/35749888 bytes (51.1%18563072/35749888 bytes (51.9%19210240/35749888 bytes (53.7%19587072/35749888 bytes (54.8%20070400/35749888 bytes (56.1%20488192/35749888 bytes (57.3%20742144/35749888 bytes (58.0%21307392/35749888 bytes (59.6%21340160/35749888 bytes (59.7%21831680/35749888 bytes (61.1%22093824/35749888 bytes (61.8%22495232/35749888 bytes (62.9%22831104/35749888 bytes (63.9%23379968/35749888 bytes (65.4%24018944/35749888 bytes (67.2%24453120/35749888 bytes (68.4%24780800/35749888 bytes (69.3%25206784/35749888 bytes (70.5%25485312/35749888 bytes (71.3%26001408/35749888 bytes (72.7%26640384/35749888 bytes (74.5%27123712/35749888 bytes (75.9%27639808/35749888 bytes (77.3%28155904/35749888 bytes (78.8%28712960/35749888 bytes (80.3%29122560/35749888 bytes (81.5%29417472/35749888 bytes (82.3%29884416/35749888 bytes (83.6%30195712/35749888 bytes (84.5%30638080/35749888 bytes (85.7%31080448/35749888 bytes (86.9%31399936/35749888 bytes (87.8%31973376/35749888 bytes (89.4%32407552/35749888 bytes (90.7%32694272/35749888 bytes (91.5%33259520/35749888 bytes (93.0%33726464/35749888 bytes (94.3%33906688/35749888 bytes (94.8%34217984/35749888 bytes (95.7%34578432/35749888 bytes (96.7%35135488/35749888 bytes (98.3%35708928/35749888 bytes (99.9%35749888/35749888 bytes (100.0%)\n",
      "  Done\n",
      "File saved as C:\\Users\\Daniel Bashir\\AppData\\Local\\imageio\\ffmpeg\\ffmpeg-win32-v3.2.4.exe.\n"
     ]
    }
   ],
   "source": [
    "import imageio\n",
    "imageio.plugins.ffmpeg.download()"
   ]
  },
  {
   "cell_type": "code",
   "execution_count": 3,
   "metadata": {
    "collapsed": true
   },
   "outputs": [],
   "source": [
    "import moviepy.editor as mpe\n",
    "import numpy as np\n",
    "import scipy\n",
    "\n",
    "%matplotlib inline\n",
    "import matplotlib.pyplot as plt"
   ]
  },
  {
   "cell_type": "code",
   "execution_count": 5,
   "metadata": {},
   "outputs": [],
   "source": [
    "# Suppress: Whether or not suppress printing of small \n",
    "# floating point values using scientific notation\n",
    "np.set_printoptions(precision=4, suppress=True)"
   ]
  },
  {
   "cell_type": "code",
   "execution_count": 6,
   "metadata": {},
   "outputs": [
    {
     "ename": "OSError",
     "evalue": "MoviePy error: the file movie/Video_003.avi could not be found!\nPlease check that you entered the correct path.",
     "output_type": "error",
     "traceback": [
      "\u001b[1;31m---------------------------------------------------------------------------\u001b[0m",
      "\u001b[1;31mOSError\u001b[0m                                   Traceback (most recent call last)",
      "\u001b[1;32m<ipython-input-6-61a33ee99fb5>\u001b[0m in \u001b[0;36m<module>\u001b[1;34m()\u001b[0m\n\u001b[1;32m----> 1\u001b[1;33m \u001b[0mvideo\u001b[0m \u001b[1;33m=\u001b[0m \u001b[0mmpe\u001b[0m\u001b[1;33m.\u001b[0m\u001b[0mVideoFileClip\u001b[0m\u001b[1;33m(\u001b[0m\u001b[1;34m\"movie/Video_003.avi\"\u001b[0m\u001b[1;33m)\u001b[0m\u001b[1;33m\u001b[0m\u001b[0m\n\u001b[0m",
      "\u001b[1;32mC:\\Python35\\lib\\site-packages\\moviepy\\video\\io\\VideoFileClip.py\u001b[0m in \u001b[0;36m__init__\u001b[1;34m(self, filename, has_mask, audio, audio_buffersize, target_resolution, resize_algorithm, audio_fps, audio_nbytes, verbose, fps_source)\u001b[0m\n\u001b[0;32m     89\u001b[0m                                          \u001b[0mtarget_resolution\u001b[0m\u001b[1;33m=\u001b[0m\u001b[0mtarget_resolution\u001b[0m\u001b[1;33m,\u001b[0m\u001b[1;33m\u001b[0m\u001b[0m\n\u001b[0;32m     90\u001b[0m                                          \u001b[0mresize_algo\u001b[0m\u001b[1;33m=\u001b[0m\u001b[0mresize_algorithm\u001b[0m\u001b[1;33m,\u001b[0m\u001b[1;33m\u001b[0m\u001b[0m\n\u001b[1;32m---> 91\u001b[1;33m                                          fps_source=fps_source)\n\u001b[0m\u001b[0;32m     92\u001b[0m \u001b[1;33m\u001b[0m\u001b[0m\n\u001b[0;32m     93\u001b[0m         \u001b[1;31m# Make some of the reader's attributes accessible from the clip\u001b[0m\u001b[1;33m\u001b[0m\u001b[1;33m\u001b[0m\u001b[0m\n",
      "\u001b[1;32mC:\\Python35\\lib\\site-packages\\moviepy\\video\\io\\ffmpeg_reader.py\u001b[0m in \u001b[0;36m__init__\u001b[1;34m(self, filename, print_infos, bufsize, pix_fmt, check_duration, target_resolution, resize_algo, fps_source)\u001b[0m\n\u001b[0;32m     31\u001b[0m         \u001b[0mself\u001b[0m\u001b[1;33m.\u001b[0m\u001b[0mproc\u001b[0m \u001b[1;33m=\u001b[0m \u001b[1;32mNone\u001b[0m\u001b[1;33m\u001b[0m\u001b[0m\n\u001b[0;32m     32\u001b[0m         infos = ffmpeg_parse_infos(filename, print_infos, check_duration,\n\u001b[1;32m---> 33\u001b[1;33m                                    fps_source)\n\u001b[0m\u001b[0;32m     34\u001b[0m         \u001b[0mself\u001b[0m\u001b[1;33m.\u001b[0m\u001b[0mfps\u001b[0m \u001b[1;33m=\u001b[0m \u001b[0minfos\u001b[0m\u001b[1;33m[\u001b[0m\u001b[1;34m'video_fps'\u001b[0m\u001b[1;33m]\u001b[0m\u001b[1;33m\u001b[0m\u001b[0m\n\u001b[0;32m     35\u001b[0m         \u001b[0mself\u001b[0m\u001b[1;33m.\u001b[0m\u001b[0msize\u001b[0m \u001b[1;33m=\u001b[0m \u001b[0minfos\u001b[0m\u001b[1;33m[\u001b[0m\u001b[1;34m'video_size'\u001b[0m\u001b[1;33m]\u001b[0m\u001b[1;33m\u001b[0m\u001b[0m\n",
      "\u001b[1;32mC:\\Python35\\lib\\site-packages\\moviepy\\video\\io\\ffmpeg_reader.py\u001b[0m in \u001b[0;36mffmpeg_parse_infos\u001b[1;34m(filename, print_infos, check_duration, fps_source)\u001b[0m\n\u001b[0;32m    270\u001b[0m         raise IOError((\"MoviePy error: the file %s could not be found!\\n\"\n\u001b[0;32m    271\u001b[0m                       \u001b[1;34m\"Please check that you entered the correct \"\u001b[0m\u001b[1;33m\u001b[0m\u001b[0m\n\u001b[1;32m--> 272\u001b[1;33m                       \"path.\")%filename)\n\u001b[0m\u001b[0;32m    273\u001b[0m \u001b[1;33m\u001b[0m\u001b[0m\n\u001b[0;32m    274\u001b[0m     \u001b[0mresult\u001b[0m \u001b[1;33m=\u001b[0m \u001b[0mdict\u001b[0m\u001b[1;33m(\u001b[0m\u001b[1;33m)\u001b[0m\u001b[1;33m\u001b[0m\u001b[0m\n",
      "\u001b[1;31mOSError\u001b[0m: MoviePy error: the file movie/Video_003.avi could not be found!\nPlease check that you entered the correct path."
     ]
    }
   ],
   "source": [
    "video = mpe.VideoFileClip(\"movie/Video_003.avi\")"
   ]
  },
  {
   "cell_type": "code",
   "execution_count": null,
   "metadata": {
    "collapsed": true
   },
   "outputs": [],
   "source": []
  }
 ],
 "metadata": {
  "kernelspec": {
   "display_name": "Python 3",
   "language": "python",
   "name": "python3"
  },
  "language_info": {
   "codemirror_mode": {
    "name": "ipython",
    "version": 3
   },
   "file_extension": ".py",
   "mimetype": "text/x-python",
   "name": "python",
   "nbconvert_exporter": "python",
   "pygments_lexer": "ipython3",
   "version": "3.5.3"
  }
 },
 "nbformat": 4,
 "nbformat_minor": 2
}
