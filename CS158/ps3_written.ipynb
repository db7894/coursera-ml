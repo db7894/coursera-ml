{
 "cells": [
  {
   "cell_type": "code",
   "execution_count": 1,
   "metadata": {
    "collapsed": true
   },
   "outputs": [],
   "source": [
    "from IPython.display import IFrame"
   ]
  },
  {
   "cell_type": "code",
   "execution_count": 2,
   "metadata": {},
   "outputs": [
    {
     "data": {
      "text/html": [
       "\n",
       "        <iframe\n",
       "            width=\"1000\"\n",
       "            height=\"1000\"\n",
       "            src=\"ps3_exercises.pdf\"\n",
       "            frameborder=\"0\"\n",
       "            allowfullscreen\n",
       "        ></iframe>\n",
       "        "
      ],
      "text/plain": [
       "<IPython.lib.display.IFrame at 0x24a3d05a7f0>"
      ]
     },
     "execution_count": 2,
     "metadata": {},
     "output_type": "execute_result"
    }
   ],
   "source": [
    "IFrame(\"ps3_exercises.pdf\", width=1000, height=1000)"
   ]
  },
  {
   "cell_type": "markdown",
   "metadata": {},
   "source": [
    "## 1 Linear Regression"
   ]
  },
  {
   "cell_type": "markdown",
   "metadata": {},
   "source": [
    "A could be linear or quadratic regression. B could be linear. C is neither."
   ]
  },
  {
   "cell_type": "markdown",
   "metadata": {},
   "source": [
    "## 2 Locally Weighted Linear Regression"
   ]
  },
  {
   "cell_type": "markdown",
   "metadata": {},
   "source": [
    "We know that without weights we can write $$J(\\theta) = \\frac{1}{2}\\sum_{i=1}^n \\left(\\theta^T x^{(i)} - y^{(i)}\\right)^2 = (X\\theta - y)^T(X\\theta - y)$$"
   ]
  },
  {
   "cell_type": "markdown",
   "metadata": {},
   "source": [
    "When we wan to add weights, this is done by training example--in particular, a diagonal matrix $W$ where the diagonal entries are the $w^{(i)}$--for example the first diagonal entry is $w^{(0)}$ and so on, will produce the correct multiplication."
   ]
  },
  {
   "cell_type": "markdown",
   "metadata": {},
   "source": []
  },
  {
   "cell_type": "markdown",
   "metadata": {},
   "source": [
    "The likelihood of seeing a dataset would be $$\\prod_{i=1}^n \\frac{1}{\\sqrt{2\\pi}\\sigma^{(i)}} \\text{exp}\\left( -\\frac{(y^{(i)} - \\theta^Tx^{(i)})^2}{2(\\sigma^{(i)})^2}\\right)$$"
   ]
  },
  {
   "cell_type": "markdown",
   "metadata": {},
   "source": [
    "Converting to the log likelihood we have $$\\log \\mathcal{L} = -\\frac{1}{2}n\\log(2\\pi(\\sigma^{(i)})^2) - \\sum_{i=1}^n\\left(\\frac{1}{2(\\sigma^{(i)})^2}(y^{(i)} - \\theta^Tx^{(i)})^2\\right)$$ where we removed the constant"
   ]
  },
  {
   "cell_type": "markdown",
   "metadata": {},
   "source": [
    "so we have the same locally-weighted linear regression, where $w^{(i)} = \\frac{1}{2(\\sigma^{(i)})^2}$."
   ]
  },
  {
   "cell_type": "markdown",
   "metadata": {},
   "source": []
  }
 ],
 "metadata": {
  "kernelspec": {
   "display_name": "Python 3",
   "language": "python",
   "name": "python3"
  },
  "language_info": {
   "codemirror_mode": {
    "name": "ipython",
    "version": 3
   },
   "file_extension": ".py",
   "mimetype": "text/x-python",
   "name": "python",
   "nbconvert_exporter": "python",
   "pygments_lexer": "ipython3",
   "version": "3.5.3"
  }
 },
 "nbformat": 4,
 "nbformat_minor": 2
}
