{
 "cells": [
  {
   "cell_type": "code",
   "execution_count": 1,
   "metadata": {
    "collapsed": true
   },
   "outputs": [],
   "source": [
    "from IPython.display import IFrame"
   ]
  },
  {
   "cell_type": "code",
   "execution_count": 2,
   "metadata": {},
   "outputs": [
    {
     "data": {
      "text/html": [
       "\n",
       "        <iframe\n",
       "            width=\"1000\"\n",
       "            height=\"1000\"\n",
       "            src=\"ps4_exercises.pdf\"\n",
       "            frameborder=\"0\"\n",
       "            allowfullscreen\n",
       "        ></iframe>\n",
       "        "
      ],
      "text/plain": [
       "<IPython.lib.display.IFrame at 0x13a950536d8>"
      ]
     },
     "execution_count": 2,
     "metadata": {},
     "output_type": "execute_result"
    }
   ],
   "source": [
    "IFrame(\"ps4_exercises.pdf\", width=1000, height=1000)"
   ]
  },
  {
   "cell_type": "markdown",
   "metadata": {},
   "source": [
    "## 1 Logistic Regression"
   ]
  },
  {
   "cell_type": "markdown",
   "metadata": {},
   "source": [
    "Note that $\\log h_{\\theta}(x^i) = -\\log(1+e^{-\\theta x^i})$ and $\\log(1-h_{\\theta}(x^i)) = -\\theta x^i - \\log(1+e^{-\\theta x^i})$"
   ]
  },
  {
   "cell_type": "markdown",
   "metadata": {},
   "source": [
    "We can then simplify the cost function to $$J(\\theta) = -\\frac{1}{n} \\sum_{i=1}^n \\left[-y^i \\log(1+e^{-\\theta x^i}) + (1-y^i)\\left(-\\theta x^i - \\log(1+e^{-\\theta x^i})\\right) \\right] = -\\frac{1}{n}\\sum_{i=1}^n\\left[ y^i\\theta x^i - \\log(1+e^{\\theta x^i}) \\right]$$"
   ]
  },
  {
   "cell_type": "markdown",
   "metadata": {},
   "source": [
    "We then just need to compute partials $$\\frac{\\partial}{\\partial \\theta_j} y^i\\theta x^i = y^i x^i_j$$ and $$\\frac{\\partial}{\\partial \\theta_j}\\log(1+e^{\\theta x^i}) = \\frac{x^i_j e^{\\theta x^i}}{1+e^{\\theta x^i}} = x^i_j h_{\\theta}(x^i)$$"
   ]
  },
  {
   "cell_type": "markdown",
   "metadata": {},
   "source": [
    "Then $$\\frac{\\partial}{\\partial \\theta_j} J(\\theta) = -\\frac{1}{n} \\sum_{i=1}^n \\left[ y^i x^i_j - x^i_j h_{\\theta}(x^i) \\right]$$"
   ]
  },
  {
   "cell_type": "markdown",
   "metadata": {},
   "source": [
    "and the second partial is $$\\frac{\\partial^2}{\\partial \\theta_j \\partial \\theta_k} = -\\frac{1}{n}\\sum_{i=1}^n \\frac{\\partial}{\\partial\\theta_k} x^i_j h_{\\theta}(x^i)$$"
   ]
  },
  {
   "cell_type": "markdown",
   "metadata": {},
   "source": [
    "and $$\\frac{\\partial}{\\partial\\theta_k} x^i_j h_{\\theta}(x^i) = \\frac{\\partial}{\\partial\\theta_k} x^i_j \\frac{1}{1+e^{-\\theta  x^i}} = x^i_j \\frac{-x^i_j e^{-\\theta x^i}}{(1+e^{-\\theta  x^i})^2}$$"
   ]
  },
  {
   "cell_type": "markdown",
   "metadata": {},
   "source": []
  }
 ],
 "metadata": {
  "kernelspec": {
   "display_name": "Python 3",
   "language": "python",
   "name": "python3"
  },
  "language_info": {
   "codemirror_mode": {
    "name": "ipython",
    "version": 3
   },
   "file_extension": ".py",
   "mimetype": "text/x-python",
   "name": "python",
   "nbconvert_exporter": "python",
   "pygments_lexer": "ipython3",
   "version": "3.6.1"
  }
 },
 "nbformat": 4,
 "nbformat_minor": 2
}
