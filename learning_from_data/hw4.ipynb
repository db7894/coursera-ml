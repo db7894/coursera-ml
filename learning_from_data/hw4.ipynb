{
 "cells": [
  {
   "cell_type": "code",
   "execution_count": 1,
   "metadata": {
    "collapsed": true
   },
   "outputs": [],
   "source": [
    "from IPython.display import IFrame"
   ]
  },
  {
   "cell_type": "code",
   "execution_count": 2,
   "metadata": {},
   "outputs": [
    {
     "data": {
      "text/html": [
       "\n",
       "        <iframe\n",
       "            width=\"1000\"\n",
       "            height=\"1000\"\n",
       "            src=\"hw4.pdf\"\n",
       "            frameborder=\"0\"\n",
       "            allowfullscreen\n",
       "        ></iframe>\n",
       "        "
      ],
      "text/plain": [
       "<IPython.lib.display.IFrame at 0x1be11eb84e0>"
      ]
     },
     "execution_count": 2,
     "metadata": {},
     "output_type": "execute_result"
    }
   ],
   "source": [
    "IFrame(\"hw4.pdf\", width=1000, height=1000)"
   ]
  },
  {
   "cell_type": "markdown",
   "metadata": {},
   "source": [
    "## Problem 1"
   ]
  },
  {
   "cell_type": "markdown",
   "metadata": {},
   "source": [
    "__[d]__"
   ]
  },
  {
   "cell_type": "markdown",
   "metadata": {},
   "source": [
    "Recall our relation of $\\epsilon$ and $\\delta$ from lecture: $$ \\epsilon = \\sqrt{ \\dfrac{8}{N} \\ln{\\dfrac{4 m_{\\mathcal{H}}(2N)}{\\delta}} } $$\n",
    "where plugging in the bound $ m_{\\mathcal{H}}(N) = N^{d_{VC}} $ gives $$ \\epsilon = \\sqrt{ \\dfrac{8}{N} \\ln{\\dfrac{4 \\cdot (2N)^{d_{VC}}}{\\delta}} }. $$"
   ]
  },
  {
   "cell_type": "markdown",
   "metadata": {},
   "source": [
    "We want 95% confidence that the generalization error is at most 0.05, or, in other words, $ \\epsilon = 0.05 $ and $ \\delta = 0.05 $, and we are given $ d_{VC} = 10 $. We want to find $N$ in the above equation, so we can plug these values in."
   ]
  },
  {
   "cell_type": "markdown",
   "metadata": {},
   "source": [
    "Plugging into our handy-dandy Wolfram Alpha and solving for $N$, we get $$ N = 452,957, $$ which is closest to the answer $ 460,000 $."
   ]
  },
  {
   "cell_type": "markdown",
   "metadata": {},
   "source": [
    "## Problem 2"
   ]
  },
  {
   "cell_type": "markdown",
   "metadata": {},
   "source": [
    "With $ d_{VC} = 50 $ and $ \\delta = 0.05 $, we want to plot the bounds\n",
    "1. $$ \\epsilon \\leq \\sqrt{ \\dfrac{8}{N} \\ln{\\dfrac{4 m_{\\mathcal{H}}(2N)}{\\delta}} } $$\n",
    "2. $$ \\epsilon \\leq \\sqrt{ \\dfrac{2 \\ln(2Nm_{\\mathcal{H}}(N))}{N} } + \\sqrt{ \\dfrac{2}{N} \\ln \\dfrac{1}{\\delta} } + \\dfrac{1}{N} $$\n",
    "3. $$ \\epsilon \\leq \\sqrt{ \\dfrac{1}{N} \\left( 2 \\epsilon + \\ln \\dfrac{6m_{\\mathcal{H}}(2N)}{\\delta} \\right) }$$\n",
    "4. $$ \\epsilon \\leq \\sqrt{ \\dfrac{1}{2N} \\left( 4\\epsilon(1+\\epsilon) + \\ln \\dfrac{4m_{\\mathcal{H}}(N^2)}{\\delta} \\right) }$$"
   ]
  },
  {
   "cell_type": "markdown",
   "metadata": {},
   "source": [
    "Let's try just one of these to see how things go."
   ]
  },
  {
   "cell_type": "code",
   "execution_count": 3,
   "metadata": {
    "collapsed": true
   },
   "outputs": [],
   "source": [
    "import numpy as np\n",
    "import math\n",
    "import matplotlib.pyplot as plt"
   ]
  },
  {
   "cell_type": "code",
   "execution_count": 4,
   "metadata": {
    "collapsed": true
   },
   "outputs": [],
   "source": [
    "def VC_bound(n):\n",
    "    return math.sqrt( (8 / n) * math.log((n**(50)) / 0.05) )"
   ]
  },
  {
   "cell_type": "code",
   "execution_count": 10,
   "metadata": {
    "collapsed": true
   },
   "outputs": [],
   "source": [
    "def RP_bound(n):\n",
    "    return math.sqrt( (2 * math.log( 2 * n * n**(50) ) / n) ) + math.sqrt( (2 / n) * math.log(1 / 0.05) ) + (1/n)"
   ]
  },
  {
   "cell_type": "code",
   "execution_count": null,
   "metadata": {
    "collapsed": true
   },
   "outputs": [],
   "source": [
    "def PVB_bound(n):\n",
    "    return math.sqrt( (8 / n) * ( 2 math.log((n**(50)) / 0.05) ) )"
   ]
  },
  {
   "cell_type": "code",
   "execution_count": 24,
   "metadata": {
    "collapsed": true
   },
   "outputs": [],
   "source": [
    "delta = 100\n",
    "xrange = np.arange(1, 10000, delta)\n",
    "yrange = np.arange(1, 10000, delta)\n",
    "n, e = np.meshgrid(xrange,yrange)"
   ]
  },
  {
   "cell_type": "code",
   "execution_count": 25,
   "metadata": {},
   "outputs": [
    {
     "name": "stderr",
     "output_type": "stream",
     "text": [
      "C:\\Python35\\lib\\site-packages\\ipykernel_launcher.py:2: RuntimeWarning: invalid value encountered in log\n",
      "  \n"
     ]
    }
   ],
   "source": [
    "F = e\n",
    "G = np.sqrt( (1 / n) * ( 2*e + np.log( (6 * n**(50)) / 0.05 )  ) )\n",
    "# G = np.vectorize(G1)"
   ]
  },
  {
   "cell_type": "code",
   "execution_count": 26,
   "metadata": {},
   "outputs": [
    {
     "data": {
      "image/png": "[encoded data removed]",
      "text/plain": [
       "<matplotlib.figure.Figure at 0x1be12f59080>"
      ]
     },
     "metadata": {},
     "output_type": "display_data"
    }
   ],
   "source": [
    "plt.contour((F - G), [0])\n",
    "plt.show()"
   ]
  },
  {
   "cell_type": "code",
   "execution_count": null,
   "metadata": {
    "collapsed": true
   },
   "outputs": [],
   "source": [
    "def D_bound(n):\n",
    "    return math.sqrt( (1 / n) * math.log((n**(50)) / 0.05) )"
   ]
  },
  {
   "cell_type": "code",
   "execution_count": 7,
   "metadata": {
    "collapsed": true
   },
   "outputs": [],
   "source": [
    "f = np.vectorize(VC_bound)"
   ]
  },
  {
   "cell_type": "code",
   "execution_count": 12,
   "metadata": {
    "collapsed": true
   },
   "outputs": [],
   "source": [
    "f2 = np.vectorize(RP_bound)"
   ]
  },
  {
   "cell_type": "code",
   "execution_count": null,
   "metadata": {
    "collapsed": true
   },
   "outputs": [],
   "source": [
    "# we'll write the confusing PVB bound so it can  be placed below."
   ]
  },
  {
   "cell_type": "code",
   "execution_count": 13,
   "metadata": {},
   "outputs": [
    {
     "data": {
      "image/png": "[encoded data removed]",
      "text/plain": [
       "<matplotlib.figure.Figure at 0x1be12c5e160>"
      ]
     },
     "metadata": {},
     "output_type": "display_data"
    }
   ],
   "source": [
    "t = np.arange(1.0, 10000.0, 100)\n",
    "\n",
    "plt.plot(t, f(t), 'r', t, f2(t), 'b')\n",
    "plt.xlabel(\"Number of examples, N\")\n",
    "plt.ylabel(\"Generalization Error\")\n",
    "plt.show()"
   ]
  },
  {
   "cell_type": "code",
   "execution_count": null,
   "metadata": {
    "collapsed": true
   },
   "outputs": [],
   "source": []
  },
  {
   "cell_type": "markdown",
   "metadata": {},
   "source": [
    "## Problem 3"
   ]
  },
  {
   "cell_type": "markdown",
   "metadata": {},
   "source": []
  },
  {
   "cell_type": "markdown",
   "metadata": {},
   "source": [
    "## Problem 4"
   ]
  },
  {
   "cell_type": "markdown",
   "metadata": {},
   "source": [
    "We want to minimize the mean-squared error $ \\left( \\overline{g}(x) - f(x) \\right)^2 $, or in this case the area of $ \\left( \\hat{a}x - \\sin(\\pi x) \\right)^2 $."
   ]
  },
  {
   "cell_type": "markdown",
   "metadata": {},
   "source": [
    "So we'll minimize $$ \\int_{-1}^{1} \\left( \\sin(\\pi x) - \\hat{a}x \\right)^2 dx $$"
   ]
  },
  {
   "cell_type": "markdown",
   "metadata": {},
   "source": [
    "We'll ask wolfram for \"derivative of integral of (sin(pi*x)-(a*x))^2 from -1 to 1 with respect to a\", which gives $$ \\dfrac{4a}{3} - \\dfrac{4}{\\pi}. $$"
   ]
  },
  {
   "cell_type": "markdown",
   "metadata": {},
   "source": [
    "We'll simulate this by picking two random points from $ \\sin(\\pi x) $ in the interval $ [-1,1] $, approximating with $ax$ to get the minimum squared error and use that."
   ]
  },
  {
   "cell_type": "code",
   "execution_count": 28,
   "metadata": {},
   "outputs": [
    {
     "data": {
      "text/plain": [
       "1.2246467991473532e-16"
      ]
     },
     "execution_count": 28,
     "metadata": {},
     "output_type": "execute_result"
    }
   ],
   "source": [
    "math.sin(math.pi)"
   ]
  },
  {
   "cell_type": "code",
   "execution_count": 37,
   "metadata": {
    "collapsed": true
   },
   "outputs": [],
   "source": [
    "def pick_two_points():\n",
    "    # returns two random values from sin(pi * x) in the interval x = [-1,1], with both the x and y values.\n",
    "    x1 = np.random.uniform(-1,1,2)\n",
    "    x2 = np.random.uniform(-1,1,2)\n",
    "    \n",
    "    x1[1] = math.sin(math.pi * x1[1])\n",
    "    x2[1] = math.sin(math.pi * x2[1])\n",
    "    \n",
    "    return x1,x2"
   ]
  },
  {
   "cell_type": "code",
   "execution_count": 32,
   "metadata": {
    "collapsed": true
   },
   "outputs": [],
   "source": [
    "x1 = np.random.uniform(-1,1,2)\n",
    "x2 = np.random.uniform(-1,1,2)"
   ]
  },
  {
   "cell_type": "code",
   "execution_count": 33,
   "metadata": {},
   "outputs": [
    {
     "data": {
      "text/plain": [
       "(array([-0.90496046,  0.63287953]), array([ 0.48959264,  0.68920082]))"
      ]
     },
     "execution_count": 33,
     "metadata": {},
     "output_type": "execute_result"
    }
   ],
   "source": [
    "x1,x2"
   ]
  },
  {
   "cell_type": "code",
   "execution_count": 34,
   "metadata": {},
   "outputs": [
    {
     "data": {
      "text/plain": [
       "0.63287952534754166"
      ]
     },
     "execution_count": 34,
     "metadata": {},
     "output_type": "execute_result"
    }
   ],
   "source": [
    "x1[1]"
   ]
  },
  {
   "cell_type": "code",
   "execution_count": 35,
   "metadata": {
    "collapsed": true
   },
   "outputs": [],
   "source": [
    "x1[1] = math.sin(math.pi * x1[1])"
   ]
  },
  {
   "cell_type": "code",
   "execution_count": 36,
   "metadata": {},
   "outputs": [
    {
     "data": {
      "text/plain": [
       "array([-0.90496046,  0.91412441])"
      ]
     },
     "execution_count": 36,
     "metadata": {},
     "output_type": "execute_result"
    }
   ],
   "source": [
    "x1"
   ]
  },
  {
   "cell_type": "code",
   "execution_count": null,
   "metadata": {
    "collapsed": true
   },
   "outputs": [],
   "source": [
    "def approx_points(pt1, pt2):\n",
    "    \"\"\"\n",
    "    creates a line of the form y = ax that gives the best approximation to the line between two points\n",
    "    \"\"\""
   ]
  }
 ],
 "metadata": {
  "kernelspec": {
   "display_name": "Python 3",
   "language": "python",
   "name": "python3"
  },
  "language_info": {
   "codemirror_mode": {
    "name": "ipython",
    "version": 3
   },
   "file_extension": ".py",
   "mimetype": "text/x-python",
   "name": "python",
   "nbconvert_exporter": "python",
   "pygments_lexer": "ipython3",
   "version": "3.5.3"
  }
 },
 "nbformat": 4,
 "nbformat_minor": 2
}
