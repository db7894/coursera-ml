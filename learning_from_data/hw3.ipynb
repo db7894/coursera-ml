{
 "cells": [
  {
   "cell_type": "code",
   "execution_count": 1,
   "metadata": {
    "collapsed": true
   },
   "outputs": [],
   "source": [
    "from IPython.display import IFrame"
   ]
  },
  {
   "cell_type": "code",
   "execution_count": 2,
   "metadata": {},
   "outputs": [
    {
     "data": {
      "text/html": [
       "\n",
       "        <iframe\n",
       "            width=\"1000\"\n",
       "            height=\"1000\"\n",
       "            src=\"hw3.pdf\"\n",
       "            frameborder=\"0\"\n",
       "            allowfullscreen\n",
       "        ></iframe>\n",
       "        "
      ],
      "text/plain": [
       "<IPython.lib.display.IFrame at 0x14cdc689438>"
      ]
     },
     "execution_count": 2,
     "metadata": {},
     "output_type": "execute_result"
    }
   ],
   "source": [
    "IFrame(\"hw3.pdf\", width=1000, height=1000)"
   ]
  },
  {
   "cell_type": "markdown",
   "metadata": {},
   "source": [
    "## Problem 1"
   ]
  },
  {
   "cell_type": "markdown",
   "metadata": {},
   "source": [
    "__[b]__\n",
    "\n",
    "According to the problem, we have $$ \\mathbb{P}[ \\vert E_{in}(g) - E_{out}(g) \\vert > \\epsilon ] \\leq 2Me^{-2\\epsilon^2N}. $$\n",
    "We are given $\\epsilon = 0.05$, and want the minimum $N$ such that $ 2Me^{-2\\epsilon^2N} \\leq 0.03 $."
   ]
  },
  {
   "cell_type": "markdown",
   "metadata": {},
   "source": [
    "If we rearrange and plug in $M=1$ , we first have $$ e^{-2\\epsilon^2N} \\leq \\dfrac{0.03}{2} $$\n",
    "and taking the $\\ln$ of both sides, we get $$ -2\\epsilon^2N \\leq \\ln(0.015). $$\n",
    "\n",
    "Flipping signs and plugging in $N=0.05$, $$ 2(0.05)^2N \\geq -\\ln(0.015) $$\n",
    "and we can now solve for $N$: $$ N \\geq 840 $$ which is closest to the answer $1000$."
   ]
  },
  {
   "cell_type": "markdown",
   "metadata": {},
   "source": [
    "## Problem 2"
   ]
  },
  {
   "cell_type": "markdown",
   "metadata": {},
   "source": [
    "__[c]__\n",
    "\n",
    "To do $M=10$ and the next problem, let's solve for $N$ in a more general case, leaving in $M$. $$ e^{-2\\epsilon^2N} \\leq \\dfrac{0.03}{2M} $$ and taking the $\\ln$ gives us $$ -2\\epsilon^2N \\leq \\ln(\\dfrac{0.015}{M}). $$ Again, flipping signs and dividing by $2\\epsilon$, we get $$ N \\geq -\\dfrac{1}{2(0.05)^2}\\ln(\\dfrac{0.015}{M}). $$\n",
    "\n",
    "Finally, plugging in $M=10$ gives us $$ N \\geq 1301. $$\n",
    "This makes sense--we have a larger value for $M$ meaning that there is a looser bound on the probaility that in-sample and out-of-sample error vary by more than $\\epsilon$. So, to counteract that, we need a larger value for $N$, the number of examples in our sample. We expect an even higher value for problem 3. "
   ]
  },
  {
   "cell_type": "markdown",
   "metadata": {},
   "source": [
    "## Problem 3"
   ]
  },
  {
   "cell_type": "markdown",
   "metadata": {},
   "source": [
    "__[d]__\n",
    "\n",
    "As before, we have $$ N \\geq -\\dfrac{1}{2(0.05)^2}\\ln(\\dfrac{0.015}{M}). $$ We plug in $M=100$ to get $$ N \\geq 1761. $$"
   ]
  },
  {
   "cell_type": "markdown",
   "metadata": {},
   "source": [
    "## Problem 4"
   ]
  },
  {
   "cell_type": "markdown",
   "metadata": {},
   "source": [
    "__[b]__\n",
    "\n",
    "Since we have a perceptron in $\\mathbb{R}^3$, what we are trying to do is shatter a set of points in 3-D space with a plane.\n",
    "Let's consider $k=3$. If the points are colinear then we are stuck, but it is not hard to visualize that if we lay out the points like a triangle then we are fine. Recall that the break point is that point at which for __any__  arrangement of that number of points, there is __some__ dichotomy that we cannot generate. \n",
    "\n",
    "Therefore, if for $k$ points, there exists an arramgement of those points where we can generate __all__ possibile dichotomies, then $k$ is not a break point.\n",
    "\n",
    "So it makes sense that $k=4$."
   ]
  },
  {
   "cell_type": "markdown",
   "metadata": {},
   "source": [
    "## Problem 5"
   ]
  },
  {
   "cell_type": "markdown",
   "metadata": {},
   "source": [
    "__[b]__"
   ]
  },
  {
   "cell_type": "markdown",
   "metadata": {},
   "source": [
    "We know $$ m_{\\mathcal{H}}(N) \\leq \\sum_{i=0}^{k-1}{N \\choose i} $$"
   ]
  },
  {
   "cell_type": "markdown",
   "metadata": {},
   "source": [
    "If we let $k=2$ then we get $N+1$, or i)."
   ]
  },
  {
   "cell_type": "markdown",
   "metadata": {},
   "source": [
    "Let's consider (ii), which says $$ m_{\\mathcal{H}}(N) = 1 + N + {N \\choose 2}. $$"
   ]
  },
  {
   "cell_type": "markdown",
   "metadata": {},
   "source": [
    "If we take $N=1$, we get $$ m_{\\mathcal{H}}(1) = 2, $$ meaning that our hypothesis set $\\mathcal{H}$ can generate __two__ hypotheses for a single point. \n",
    "\n",
    "If we take $N=2$, we get $$ m_{\\mathcal{H}}(1) = 4, $$ meaning that our hypothesis set can generate __four__ hypotheses for two points, which is consistent with what we would get if we were to count this by hand. So this growth function makes sense."
   ]
  },
  {
   "cell_type": "markdown",
   "metadata": {},
   "source": [
    "(iii) looks sketchy, so let's check if it can be a growth function. This is $$ \\sum_{i=1}^{\\lfloor\\sqrt{N} \\rfloor}{N \\choose i}$$"
   ]
  },
  {
   "cell_type": "markdown",
   "metadata": {},
   "source": [
    "If $N=1$, then the formula tells us the growth function is exactly $N$, which is just $1$. This means that $1$ is the maximum number of dichotomies that can be generated by $\\mathcal{H}$ on $N=1$ points. This means that all $h \\in \\mathcal{H}$ generate the same dichotomy, since the entire hypothesis set is only capable of generating one dichotomy on that one point."
   ]
  },
  {
   "cell_type": "markdown",
   "metadata": {},
   "source": [
    "Now let us take two points. We know that for each point, $\\mathcal{H}$ can only generate one dichotomy, and that for any hypothesis, the dichotomy produced will thus be the same as if we had used any other hypothesis. So if we take two different points then the dichotomies produced on them by any hypothesis $h \\in \\mathcal{H}$ will be the same, meaning that $m_{\\mathcal{H}}(2) = 1$. But the formula gives $m_{\\mathcal{H}}(2) = 2$, so this cannot be a growth function."
   ]
  },
  {
   "cell_type": "markdown",
   "metadata": {},
   "source": [
    "(iv) states that $$ m_{\\mathcal{H}}(N) = 2^{\\lfloor N/2 \\rfloor}. $$"
   ]
  },
  {
   "cell_type": "markdown",
   "metadata": {},
   "source": [
    "If we consider $N=1$, then we have $$ m_{\\mathcal{H}}(1) = 1, $$ meaning that for a single point, $\\mathcal{H}$ can only generate one dichotomy. Thus by the same logic as for (iii), if we have a point $x$, then for any $h \\in \\mathcal{H}$, $h(x)$ will be the same."
   ]
  },
  {
   "cell_type": "markdown",
   "metadata": {},
   "source": [
    "Now if we have two points $x$ and $y$, then the growth function is again $1$ because any hypothesis $h \\in \\mathcal{H}$ will assign each point the same dichotomy, since for each of these two points $\\mathcal{H}$ _can_ only generate a single dichotomy. But again for $N=2$, the growth function gives $m_{\\mathcal{H}}(2) = 2$, contradicting what we just argued. So (iv) is __not__ a growth function."
   ]
  },
  {
   "cell_type": "markdown",
   "metadata": {},
   "source": [
    "We have seen an example of (i) before, and know that the upper bound on a growth function is $2^N$, so we are finished."
   ]
  },
  {
   "cell_type": "markdown",
   "metadata": {},
   "source": [
    "## Problem 6"
   ]
  },
  {
   "cell_type": "markdown",
   "metadata": {},
   "source": [
    "Recall that for one interval the break point is $3$. This is for the (tricky) reason that our interval assigns points _inside_ it to +1 and outside to -1, so if we have 3 points where the middle is -1 and the outer two are +1 then we're shit outta luck."
   ]
  },
  {
   "cell_type": "markdown",
   "metadata": {},
   "source": []
  },
  {
   "cell_type": "markdown",
   "metadata": {},
   "source": [
    "## Problem 7"
   ]
  },
  {
   "cell_type": "markdown",
   "metadata": {},
   "source": []
  },
  {
   "cell_type": "markdown",
   "metadata": {},
   "source": [
    "## Problem 8"
   ]
  },
  {
   "cell_type": "markdown",
   "metadata": {},
   "source": []
  },
  {
   "cell_type": "markdown",
   "metadata": {},
   "source": [
    "## Problem 9"
   ]
  },
  {
   "cell_type": "markdown",
   "metadata": {},
   "source": []
  },
  {
   "cell_type": "markdown",
   "metadata": {},
   "source": [
    "## Problem 10"
   ]
  },
  {
   "cell_type": "markdown",
   "metadata": {},
   "source": []
  }
 ],
 "metadata": {
  "kernelspec": {
   "display_name": "Python 3",
   "language": "python",
   "name": "python3"
  },
  "language_info": {
   "codemirror_mode": {
    "name": "ipython",
    "version": 3
   },
   "file_extension": ".py",
   "mimetype": "text/x-python",
   "name": "python",
   "nbconvert_exporter": "python",
   "pygments_lexer": "ipython3",
   "version": "3.5.3"
  }
 },
 "nbformat": 4,
 "nbformat_minor": 2
}
