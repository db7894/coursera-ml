{
 "cells": [
  {
   "cell_type": "code",
   "execution_count": 1,
   "metadata": {
    "collapsed": true
   },
   "outputs": [],
   "source": [
    "import cvxopt as cvo\n",
    "import numpy as np"
   ]
  },
  {
   "cell_type": "code",
   "execution_count": 2,
   "metadata": {
    "collapsed": true
   },
   "outputs": [],
   "source": [
    "#using cvxopt notation, it takes minimizes x in the following equation:\n",
    "# 0.5 * xT * P * x + qT * x with constrants G*x <= h, Ax = b"
   ]
  },
  {
   "cell_type": "code",
   "execution_count": 3,
   "metadata": {
    "collapsed": true
   },
   "outputs": [],
   "source": [
    "thresh = 1.0e-5\n",
    "cvo.solvers.options['show_progress'] = False"
   ]
  },
  {
   "cell_type": "code",
   "execution_count": 4,
   "metadata": {
    "collapsed": true
   },
   "outputs": [],
   "source": [
    "def linear_kernel(self, X):\n",
    "    return X.dot(X.T)"
   ]
  },
  {
   "cell_type": "code",
   "execution_count": 8,
   "metadata": {
    "collapsed": true
   },
   "outputs": [],
   "source": [
    "def get_constraints(self, nb_ex):\n",
    "    \"\"\"\n",
    "    return G, h for the optimization constraint Gx <= h. In this case, it's (-1T)a >= 0 where a is alpha is x\n",
    "    \"\"\"\n",
    "    G = cvo.matrix(np.multiply(-1, np.ones(nb_ex)))\n",
    "    h = cvo.matrix(np.zeros(nb_ex))\n",
    "    \n",
    "    return G, h"
   ]
  },
  {
   "cell_type": "code",
   "execution_count": 5,
   "metadata": {
    "collapsed": true
   },
   "outputs": [],
   "source": [
    "def X_reshape(self, X):\n",
    "    \"\"\"\n",
    "    reshape X matrix so that there are ones at the beginning\n",
    "    \"\"\"\n",
    "    nb_ex = X.shape[0]\n",
    "    aug_X = np.C_[np.ones(nb_ex), X]\n",
    "    return aug_X"
   ]
  },
  {
   "cell_type": "code",
   "execution_count": 6,
   "metadata": {
    "collapsed": true
   },
   "outputs": [],
   "source": [
    "def calc_error(self, X, Y):\n",
    "    nb_ex = X.shape[0]\n",
    "    predictions = np.sign(predict(X))\n",
    "    incorrects = np.sum(np.not_equal(predictions, np.sign(Y)))\n",
    "    failure_prob = float(incorrects) / float(nb_ex)\n",
    "    \n",
    "    return failure_prob"
   ]
  },
  {
   "cell_type": "code",
   "execution_count": 7,
   "metadata": {
    "collapsed": true
   },
   "outputs": [],
   "source": [
    "def predict(self, X):\n",
    "    \"\"\"\n",
    "    for SVM, hypothesis is g(x) = sign(w*Tx + b*), where column vector [w* b*] <-- u* from QP solution\n",
    "    \"\"\"\n",
    "    aug_X = X_reshape(X)\n",
    "    cur_h = np.matmul(aug_X, weights)\n",
    "    \n",
    "    return cur_h"
   ]
  },
  {
   "cell_type": "code",
   "execution_count": null,
   "metadata": {
    "collapsed": true
   },
   "outputs": [],
   "source": [
    "def train(X, Y):\n",
    "    \"\"\"\n",
    "    we expect X as an N x d matrix and Y as an N x 1 matrix\n",
    "    \n",
    "    Problem formulation:\n",
    "        for cvo: qp(P,q,G,h,A,b) will perform the following:\n",
    "            - minimize .5(xT)Px + (qT)x\n",
    "            - subject to Gx <= h\n",
    "            - and Ax=b (for us, yTa = 0)\n",
    "\n",
    "        recall we wanted to do the following:\n",
    "            - minimize .5(wT)w\n",
    "            - subject to yn((wT)xn + b) >= 1 (n = 1, ..., N)\n",
    "            in order to find the fattest hyperplane separator to the data\n",
    "            \n",
    "        we have aT*[horrid matrix]*a + (-1T)a\n",
    "        \n",
    "        G and h are from another function, and we need Gx <= h, so recall that we also have a term sum(n=1)^N of a_n\n",
    "    \"\"\"\n",
    "    X = X.astype(float)\n",
    "    Y = Y.astype(float)\n",
    "    nb_ex, dim = X.shape\n",
    "    \n",
    "    q = cvo.matrix(np.multiply(-1, np.eye(nb_ex))) # this is out (-1T) that  is getting multiplied by alpha (x) as far as cvxopt is concerned\n",
    "    P = cvo.matrix(np.multiply(np.outer(Y,Y), linear_kernel(X))) # the quadratic coefficient matrix w/ first term y1y1*K(x1,x1)\n",
    "    A = cvo.matrix(Y.reshape(1,nb_ex), tc='d')\n",
    "    b = cvo.matrix(0.0) # 0\n",
    "    \n",
    "    G, h = get_constraints(nb_ex)\n",
    "    \n",
    "    # get cvo solution which gives us the alphas in 'x'\n",
    "    cvo_sol = cvo.solvers.qp(P,q,G,h,A,b)\n",
    "    alph = np.ravel(cvo_sol['x'])\n",
    "    \n",
    "    # get weight vector, sum(n=1, N) an*yn*xn\n",
    "    YnXn = np.multiply(Y.reshape(nb_ex, 1), X) # get second part\n",
    "    weights = np.sum(np.multiply(alph.reshape(nb_ex,1), YnXn), axis=0) # reshape to compatible\n",
    "    \n",
    "    # to get w_0 term, pick a support vector and solve the eqn yn(wTxn + b) = 1\n",
    "    # --> 1/yn = wTxn + b, (1/yn)-wTxn = b\n",
    "    alphas_thresh = np.grater_equal(alph, thresh) # get alphas greater than the defined threshold. gives SV by def'n\n",
    "    sv_idx = np.argmax(alphas_thresh)\n",
    "    wTxn = np.dot(weights, X[sv_idx]) # use the weight vector we got, and xn (example) is the support vector\n",
    "    b_val = (1.0 / Y[sv_idx]) - wTxn"
   ]
  }
 ],
 "metadata": {
  "kernelspec": {
   "display_name": "Python 3",
   "language": "python",
   "name": "python3"
  },
  "language_info": {
   "codemirror_mode": {
    "name": "ipython",
    "version": 3
   },
   "file_extension": ".py",
   "mimetype": "text/x-python",
   "name": "python",
   "nbconvert_exporter": "python",
   "pygments_lexer": "ipython3",
   "version": "3.5.3"
  }
 },
 "nbformat": 4,
 "nbformat_minor": 2
}
