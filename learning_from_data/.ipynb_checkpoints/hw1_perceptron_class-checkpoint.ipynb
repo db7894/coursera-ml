{
 "cells": [
  {
   "cell_type": "markdown",
   "metadata": {},
   "source": [
    "In this notebook, I'll write the perceptron from assignment 1, using class logic instead."
   ]
  },
  {
   "cell_type": "code",
   "execution_count": 1,
   "metadata": {
    "collapsed": true
   },
   "outputs": [],
   "source": [
    "import random\n",
    "import numpy as np\n",
    "import matplotlib.pyplot as plt\n",
    "import matplotlib.animation as animation\n",
    "import math\n",
    "import time\n",
    "from collections import namedtuple"
   ]
  },
  {
   "cell_type": "code",
   "execution_count": 2,
   "metadata": {
    "collapsed": true
   },
   "outputs": [],
   "source": [
    "class Perceptron:\n",
    "    def __init__(self, sample = None, dimensions = 2):\n",
    "        self.d = dimensions\n",
    "        self.w = np.zeros(dimensions) # init weights\n",
    "        self.sample = sample\n",
    "        self.b = 0 # bias\n",
    "        self.done = False\n",
    "        self.iterations = 0 # keep track\n",
    "    def iterate(self, plot = False):\n",
    "        self.iterations += 1\n",
    "        random.shuffle(self.sample)\n",
    "        for x in self.sample:\n",
    "            # check if x*w + b > 0\n",
    "            if (np.dot(x.x, self.w) + self.b > 0) != x.y:\n",
    "                self.w = self.w + ((x.y)*2-1) * x.x\n",
    "                self.b += (x.y)*2 - 1\n",
    "                print(self.iterations, self.w, self.b)\n",
    "                break\n",
    "            else:\n",
    "                print(\"done\")\n",
    "                self.done = True\n",
    "                return False\n",
    "            if plot:\n",
    "                self.plot()\n",
    "                return True\n",
    "            \n",
    "    def learn(self, plot=False):\n",
    "        while self.iterate(plot):\n",
    "            pass\n",
    "    def plot(self):\n",
    "        assert(self.d == 2) # can't plot otherwise.\n",
    "        plt.clf()\n",
    "        plt.axis([-1,1,-1,1])\n",
    "        for x in self.sample:\n",
    "            if x.y != 1:\n",
    "                plt.plot(x.x[0],x.x[1],'or')\n",
    "            else:\n",
    "                plt.plot(x.x[0],x.x[1],'ob')\n",
    "        n = np.linalg.norm(self.w)\n",
    "        if self.w[1] != 0:\n",
    "            ww = 1.25 * self.w/n\n",
    "            m = -self.w[0]/self.w[1]\n",
    "            b = -self.b/self.w[1]\n",
    "            l = np.linspace(-1,1)\n",
    "            plt.plot(l, m*l + b, '-k')\n",
    "            \n",
    "            plt.fill_between(l, m*l+b, math.copysign(1, self.w[1]), alpha=0.5)\n",
    "            plt.fill_between(l, m*l+b, math.copysign(1, -1*self.w[1]), color='r', alpha=0.5)"
   ]
  },
  {
   "cell_type": "code",
   "execution_count": 3,
   "metadata": {
    "collapsed": true
   },
   "outputs": [],
   "source": [
    "Point = namedtuple('Point', ['y', 'x'])"
   ]
  },
  {
   "cell_type": "code",
   "execution_count": 4,
   "metadata": {
    "collapsed": true
   },
   "outputs": [],
   "source": [
    "class Separable_Data:\n",
    "    def __init__(self, n = 1000, f = None, dimensions = 2, bounds = None):\n",
    "        if bounds == None:\n",
    "            bounds = [(-1,1) for _ in range(dimensions)]\n",
    "        if f == None:\n",
    "            f = self.make_f()\n",
    "        self.d = dimensions\n",
    "        self.bounds = bounds\n",
    "        self.f = f\n",
    "        self.data = []\n",
    "        self.generate_points(n)\n",
    "    def make_f(self):\n",
    "        up = random.randint(0,1)\n",
    "        x = random.random()*2 - 1\n",
    "        y = random.random()*2 - 1\n",
    "        m = math.tan(random.random() * 2 * 3.14)\n",
    "        print(\"m = {}, b = {}\".format(m, -m*x + y))\n",
    "        if up:\n",
    "            return lambda x0, x1:  x1 - m*x0 < -m*x + y\n",
    "        else:\n",
    "            return lambda x0, x1:  x1 - m*x0 > -m*x + y\n",
    "    def generate_points(self, n):\n",
    "        for i in range(n):\n",
    "            point = np.array([random.uniform(self.bounds[j][0], self.bounds[j][1]) for j in range(self.d)])\n",
    "            self.data.append(Point(self.f(*point), point))\n",
    "    def produce_sample(self, n):\n",
    "        return random.sample(self.data, n)"
   ]
  },
  {
   "cell_type": "code",
   "execution_count": 5,
   "metadata": {},
   "outputs": [
    {
     "name": "stdout",
     "output_type": "stream",
     "text": [
      "m = 0.2976977490327146, b = -0.18609417872487932\n"
     ]
    }
   ],
   "source": [
    "plt.axis([-1,1,-1,1])\n",
    "data = Separable_Data().produce_sample(70)\n",
    "p = Perceptron(sample = data)"
   ]
  },
  {
   "cell_type": "code",
   "execution_count": 6,
   "metadata": {
    "collapsed": true
   },
   "outputs": [],
   "source": [
    "fig = plt.figure()\n",
    "def animate(i):\n",
    "    p.iterate(plot=True)\n",
    "def g(repeats = 3):\n",
    "    while not p.done:\n",
    "        yield True\n",
    "    for _ in range(0,repeats):\n",
    "        yield True"
   ]
  },
  {
   "cell_type": "code",
   "execution_count": 7,
   "metadata": {
    "collapsed": true
   },
   "outputs": [],
   "source": [
    "ani = animation.FuncAnimation(fig, animate, frames = g(6), interval = 1000, save_count = 300)"
   ]
  },
  {
   "cell_type": "code",
   "execution_count": 8,
   "metadata": {},
   "outputs": [
    {
     "data": {
      "image/png": "[encoded data removed]",
      "text/plain": [
       "<matplotlib.figure.Figure at 0x1a252ad9a90>"
      ]
     },
     "metadata": {},
     "output_type": "display_data"
    },
    {
     "data": {
      "text/plain": [
       "<matplotlib.figure.Figure at 0x1a253967a20>"
      ]
     },
     "metadata": {},
     "output_type": "display_data"
    }
   ],
   "source": [
    "# ani.save('PERCEPTRON-{}.mp4'.format(int(time.time())), fps=2)\n",
    "# print(\"finished saving\")\n",
    "plt.show()"
   ]
  },
  {
   "cell_type": "code",
   "execution_count": null,
   "metadata": {
    "collapsed": true
   },
   "outputs": [],
   "source": []
  }
 ],
 "metadata": {
  "kernelspec": {
   "display_name": "Python 3",
   "language": "python",
   "name": "python3"
  },
  "language_info": {
   "codemirror_mode": {
    "name": "ipython",
    "version": 3
   },
   "file_extension": ".py",
   "mimetype": "text/x-python",
   "name": "python",
   "nbconvert_exporter": "python",
   "pygments_lexer": "ipython3",
   "version": "3.5.3"
  }
 },
 "nbformat": 4,
 "nbformat_minor": 2
}
