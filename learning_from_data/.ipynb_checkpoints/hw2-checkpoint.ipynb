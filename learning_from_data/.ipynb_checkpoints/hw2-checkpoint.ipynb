{
 "cells": [
  {
   "cell_type": "code",
   "execution_count": 1,
   "metadata": {
    "collapsed": true
   },
   "outputs": [],
   "source": [
    "from IPython.display import IFrame"
   ]
  },
  {
   "cell_type": "code",
   "execution_count": 2,
   "metadata": {},
   "outputs": [
    {
     "data": {
      "text/html": [
       "\n",
       "        <iframe\n",
       "            width=\"1000\"\n",
       "            height=\"1000\"\n",
       "            src=\"hw2.pdf\"\n",
       "            frameborder=\"0\"\n",
       "            allowfullscreen\n",
       "        ></iframe>\n",
       "        "
      ],
      "text/plain": [
       "<IPython.lib.display.IFrame at 0x1cdd9e3a400>"
      ]
     },
     "execution_count": 2,
     "metadata": {},
     "output_type": "execute_result"
    }
   ],
   "source": [
    "IFrame(\"hw2.pdf\", width=1000, height=1000)"
   ]
  },
  {
   "cell_type": "markdown",
   "metadata": {},
   "source": [
    "# Hoeffding Inequality"
   ]
  },
  {
   "cell_type": "code",
   "execution_count": 3,
   "metadata": {
    "collapsed": true
   },
   "outputs": [],
   "source": [
    "import numpy as np\n",
    "import random"
   ]
  },
  {
   "cell_type": "code",
   "execution_count": 12,
   "metadata": {
    "collapsed": true
   },
   "outputs": [],
   "source": [
    "class Coin:\n",
    "    \"\"\"\n",
    "    a simple coin class that gives us a utility to flip a single coin a given number of times (fair or unfair).\n",
    "    \"\"\"\n",
    "    def __init__(self, side=None):\n",
    "        self.side = side\n",
    "        self.heads_flipped = 0 # number of heads flipped in this coin's history\n",
    "        self.tails_flipped = 0\n",
    "        self.frac_heads = 0 # fraction of heads depending on num_flips\n",
    "    def flip(self, thresh=0.5, num_flips=1, track_flips=False):\n",
    "        \"\"\"\n",
    "        flip the coin, 50% probability of self.side changing to heads/tails or whatever thresh is\n",
    "        \"\"\"\n",
    "        self.heads_flipped = 0 # reset every time we do a number of flips.\n",
    "        self.tails_flipped = 0\n",
    "        \n",
    "        num_heads = 0\n",
    "        num_tails = 0\n",
    "        \n",
    "        if track_flips:\n",
    "            flips_so_far = []\n",
    "            \n",
    "        for i in range(num_flips):\n",
    "            val = np.random.uniform(0,1)\n",
    "            if val >= 0.5:\n",
    "                self.side = \"heads\"\n",
    "                self.heads_flipped += 1\n",
    "                num_heads += 1\n",
    "            else:\n",
    "                self.side = \"tails\"\n",
    "                self.tails_flipped += 1\n",
    "                num_tails += 1\n",
    "                \n",
    "            # print(\"Flipped \" + str(self.side))\n",
    "                \n",
    "            if track_flips:\n",
    "                flips_so_far.append(self.side) #append this flip\n",
    "        \n",
    "        self.frac_heads = self.heads_flipped / num_flips # store this fraction.\n",
    "        \n",
    "        if track_flips:\n",
    "            return num_heads, num_tails, flips_so_far\n",
    "        \n",
    "        return num_heads, num_tails"
   ]
  },
  {
   "cell_type": "code",
   "execution_count": 15,
   "metadata": {},
   "outputs": [],
   "source": [
    "c = Coin()\n",
    "heads, tails = c.flip(num_flips=10)"
   ]
  },
  {
   "cell_type": "code",
   "execution_count": 17,
   "metadata": {},
   "outputs": [
    {
     "data": {
      "text/plain": [
       "2"
      ]
     },
     "execution_count": 17,
     "metadata": {},
     "output_type": "execute_result"
    }
   ],
   "source": [
    "c.heads_flipped"
   ]
  },
  {
   "cell_type": "code",
   "execution_count": 19,
   "metadata": {
    "collapsed": true
   },
   "outputs": [],
   "source": [
    "def flip_coins(num_coins, num_flips):\n",
    "    \"\"\"\n",
    "    simulates the flipping of a number of coins--flips num_coins coins, flipping each for num_flips flips\n",
    "    \"\"\"\n",
    "    coins = []\n",
    "    for i in range(num_coins):\n",
    "        c = Coin()\n",
    "        c.flip(num_flips = num_flips)\n",
    "        coins.append(c) # so we can retrieve properties of individual coins.\n",
    "        # heads, tails = c.heads_flipped, c.tails_flipped # get number of heads/tails\n",
    "        \n",
    "    return coins"
   ]
  },
  {
   "cell_type": "code",
   "execution_count": 20,
   "metadata": {
    "collapsed": true
   },
   "outputs": [],
   "source": [
    "flipped_coins = flip_coins(5,10) # test this out."
   ]
  },
  {
   "cell_type": "code",
   "execution_count": 21,
   "metadata": {},
   "outputs": [
    {
     "data": {
      "text/plain": [
       "7"
      ]
     },
     "execution_count": 21,
     "metadata": {},
     "output_type": "execute_result"
    }
   ],
   "source": [
    "c = flipped_coins[0]\n",
    "c.heads_flipped"
   ]
  },
  {
   "cell_type": "code",
   "execution_count": 22,
   "metadata": {
    "collapsed": true
   },
   "outputs": [],
   "source": [
    "from operator import attrgetter"
   ]
  },
  {
   "cell_type": "code",
   "execution_count": 25,
   "metadata": {},
   "outputs": [],
   "source": [
    "d = min(flipped_coins, key=attrgetter('heads_flipped'))"
   ]
  },
  {
   "cell_type": "code",
   "execution_count": 26,
   "metadata": {},
   "outputs": [
    {
     "data": {
      "text/plain": [
       "4"
      ]
     },
     "execution_count": 26,
     "metadata": {},
     "output_type": "execute_result"
    }
   ],
   "source": [
    "d.heads_flipped"
   ]
  },
  {
   "cell_type": "code",
   "execution_count": 27,
   "metadata": {},
   "outputs": [
    {
     "name": "stdout",
     "output_type": "stream",
     "text": [
      "7\n",
      "6\n",
      "7\n",
      "7\n",
      "4\n"
     ]
    }
   ],
   "source": [
    "for coin in flipped_coins:\n",
    "    print(coin.heads_flipped)"
   ]
  },
  {
   "cell_type": "markdown",
   "metadata": {},
   "source": [
    "Appears to work!"
   ]
  },
  {
   "cell_type": "markdown",
   "metadata": {},
   "source": [
    "Nice, so this appears to work--we have flip_coins which will create an array of coins which have properties we can access. Now we need a function to run the full experiment."
   ]
  },
  {
   "cell_type": "code",
   "execution_count": 28,
   "metadata": {
    "collapsed": true
   },
   "outputs": [],
   "source": [
    "def run_experiment(num_coins, num_flips, num_runs):\n",
    "    \"\"\"\n",
    "    runs an experiment of flipping a certain number of coins\n",
    "    \"\"\"\n",
    "    v_one_avg = 0\n",
    "    v_rand_avg = 0\n",
    "    v_min_avg = 0\n",
    "    \n",
    "    for i in range(num_runs):\n",
    "        flipped_coins = flip_coins(num_coins, num_flips) # get an array of coins\n",
    "        \n",
    "        c_one = flipped_coins[0] # first coin\n",
    "        c_rand = random.choice(flipped_coins) # random coin\n",
    "        c_min = min(flipped_coins, key=attrgetter('heads_flipped')) # coin w/ min number heads flipped\n",
    "        \n",
    "        v_one = c_one.frac_heads\n",
    "        v_rand = c_rand.frac_heads\n",
    "        v_min = c_min.frac_heads\n",
    "        \n",
    "        v_one_avg += v_one\n",
    "        v_rand_avg += v_rand\n",
    "        v_min_avg += v_min\n",
    "        \n",
    "    v_one_avg /= num_runs\n",
    "    v_rand_avg /= num_runs\n",
    "    v_min_avg /= num_runs\n",
    "    \n",
    "    return v_one_avg, v_rand_avg, v_min_avg"
   ]
  },
  {
   "cell_type": "markdown",
   "metadata": {},
   "source": [
    "Now we'll run the experiment, and answer the questions."
   ]
  },
  {
   "cell_type": "code",
   "execution_count": 29,
   "metadata": {
    "collapsed": true
   },
   "outputs": [],
   "source": [
    "v_one_avg, v_rand_avg, v_min_avg = run_experiment(5,10,1) # test run."
   ]
  },
  {
   "cell_type": "code",
   "execution_count": 30,
   "metadata": {},
   "outputs": [
    {
     "data": {
      "text/plain": [
       "(0.4, 0.5, 0.4)"
      ]
     },
     "execution_count": 30,
     "metadata": {},
     "output_type": "execute_result"
    }
   ],
   "source": [
    "v_one_avg, v_rand_avg, v_min_avg"
   ]
  },
  {
   "cell_type": "markdown",
   "metadata": {},
   "source": [
    "Now we run 100,000 times, flipping 1,000 coins 10 times each."
   ]
  },
  {
   "cell_type": "code",
   "execution_count": null,
   "metadata": {
    "collapsed": true
   },
   "outputs": [],
   "source": [
    "v_one, v_rand, v_min = run_experiment(1000, 10, 100000)"
   ]
  },
  {
   "cell_type": "code",
   "execution_count": null,
   "metadata": {
    "collapsed": true
   },
   "outputs": [],
   "source": []
  }
 ],
 "metadata": {
  "kernelspec": {
   "display_name": "Python 3",
   "language": "python",
   "name": "python3"
  },
  "language_info": {
   "codemirror_mode": {
    "name": "ipython",
    "version": 3
   },
   "file_extension": ".py",
   "mimetype": "text/x-python",
   "name": "python",
   "nbconvert_exporter": "python",
   "pygments_lexer": "ipython3",
   "version": "3.5.3"
  }
 },
 "nbformat": 4,
 "nbformat_minor": 2
}
