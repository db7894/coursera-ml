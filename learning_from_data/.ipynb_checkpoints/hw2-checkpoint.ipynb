{
 "cells": [
  {
   "cell_type": "code",
   "execution_count": 1,
   "metadata": {
    "collapsed": true
   },
   "outputs": [],
   "source": [
    "from IPython.display import IFrame"
   ]
  },
  {
   "cell_type": "code",
   "execution_count": 2,
   "metadata": {},
   "outputs": [
    {
     "data": {
      "text/html": [
       "\n",
       "        <iframe\n",
       "            width=\"1000\"\n",
       "            height=\"1000\"\n",
       "            src=\"hw2.pdf\"\n",
       "            frameborder=\"0\"\n",
       "            allowfullscreen\n",
       "        ></iframe>\n",
       "        "
      ],
      "text/plain": [
       "<IPython.lib.display.IFrame at 0x1cdd9e3a400>"
      ]
     },
     "execution_count": 2,
     "metadata": {},
     "output_type": "execute_result"
    }
   ],
   "source": [
    "IFrame(\"hw2.pdf\", width=1000, height=1000)"
   ]
  },
  {
   "cell_type": "markdown",
   "metadata": {},
   "source": [
    "# Hoeffding Inequality"
   ]
  },
  {
   "cell_type": "code",
   "execution_count": 3,
   "metadata": {
    "collapsed": true
   },
   "outputs": [],
   "source": [
    "import numpy as np\n",
    "import random"
   ]
  },
  {
   "cell_type": "code",
   "execution_count": 12,
   "metadata": {
    "collapsed": true
   },
   "outputs": [],
   "source": [
    "class Coin:\n",
    "    \"\"\"\n",
    "    a simple coin class that gives us a utility to flip a single coin a given number of times (fair or unfair).\n",
    "    \"\"\"\n",
    "    def __init__(self, side=None):\n",
    "        self.side = side\n",
    "        self.heads_flipped = 0 # number of heads flipped in this coin's history\n",
    "        self.tails_flipped = 0\n",
    "        self.frac_heads = 0 # fraction of heads depending on num_flips\n",
    "    def flip(self, thresh=0.5, num_flips=1, track_flips=False):\n",
    "        \"\"\"\n",
    "        flip the coin, 50% probability of self.side changing to heads/tails or whatever thresh is\n",
    "        \"\"\"\n",
    "        self.heads_flipped = 0 # reset every time we do a number of flips.\n",
    "        self.tails_flipped = 0\n",
    "        \n",
    "        num_heads = 0\n",
    "        num_tails = 0\n",
    "        \n",
    "        if track_flips:\n",
    "            flips_so_far = []\n",
    "            \n",
    "        for i in range(num_flips):\n",
    "            val = np.random.uniform(0,1)\n",
    "            if val >= 0.5:\n",
    "                self.side = \"heads\"\n",
    "                self.heads_flipped += 1\n",
    "                num_heads += 1\n",
    "            else:\n",
    "                self.side = \"tails\"\n",
    "                self.tails_flipped += 1\n",
    "                num_tails += 1\n",
    "                \n",
    "            # print(\"Flipped \" + str(self.side))\n",
    "                \n",
    "            if track_flips:\n",
    "                flips_so_far.append(self.side) #append this flip\n",
    "        \n",
    "        self.frac_heads = self.heads_flipped / num_flips # store this fraction.\n",
    "        \n",
    "        if track_flips:\n",
    "            return num_heads, num_tails, flips_so_far\n",
    "        \n",
    "        return num_heads, num_tails"
   ]
  },
  {
   "cell_type": "code",
   "execution_count": 15,
   "metadata": {},
   "outputs": [],
   "source": [
    "c = Coin()\n",
    "heads, tails = c.flip(num_flips=10)"
   ]
  },
  {
   "cell_type": "code",
   "execution_count": 17,
   "metadata": {},
   "outputs": [
    {
     "data": {
      "text/plain": [
       "2"
      ]
     },
     "execution_count": 17,
     "metadata": {},
     "output_type": "execute_result"
    }
   ],
   "source": [
    "c.heads_flipped"
   ]
  },
  {
   "cell_type": "code",
   "execution_count": 33,
   "metadata": {
    "collapsed": true
   },
   "outputs": [],
   "source": [
    "def flip_coin_objects(num_coins, num_flips):\n",
    "    \"\"\"\n",
    "    simulates the flipping of a number of coins--flips num_coins coins, flipping each for num_flips flips\n",
    "    \"\"\"\n",
    "    coins = []\n",
    "    for i in range(num_coins):\n",
    "        c = Coin()\n",
    "        c.flip(num_flips = num_flips)\n",
    "        coins.append(c) # so we can retrieve properties of individual coins.\n",
    "        # heads, tails = c.heads_flipped, c.tails_flipped # get number of heads/tails\n",
    "        \n",
    "    return coins"
   ]
  },
  {
   "cell_type": "code",
   "execution_count": 20,
   "metadata": {
    "collapsed": true
   },
   "outputs": [],
   "source": [
    "flipped_coins = flip_coins(5,10) # test this out."
   ]
  },
  {
   "cell_type": "code",
   "execution_count": 21,
   "metadata": {},
   "outputs": [
    {
     "data": {
      "text/plain": [
       "7"
      ]
     },
     "execution_count": 21,
     "metadata": {},
     "output_type": "execute_result"
    }
   ],
   "source": [
    "c = flipped_coins[0]\n",
    "c.heads_flipped"
   ]
  },
  {
   "cell_type": "code",
   "execution_count": 22,
   "metadata": {
    "collapsed": true
   },
   "outputs": [],
   "source": [
    "from operator import attrgetter"
   ]
  },
  {
   "cell_type": "code",
   "execution_count": 25,
   "metadata": {},
   "outputs": [],
   "source": [
    "d = min(flipped_coins, key=attrgetter('heads_flipped'))"
   ]
  },
  {
   "cell_type": "code",
   "execution_count": 26,
   "metadata": {},
   "outputs": [
    {
     "data": {
      "text/plain": [
       "4"
      ]
     },
     "execution_count": 26,
     "metadata": {},
     "output_type": "execute_result"
    }
   ],
   "source": [
    "d.heads_flipped"
   ]
  },
  {
   "cell_type": "code",
   "execution_count": 27,
   "metadata": {},
   "outputs": [
    {
     "name": "stdout",
     "output_type": "stream",
     "text": [
      "7\n",
      "6\n",
      "7\n",
      "7\n",
      "4\n"
     ]
    }
   ],
   "source": [
    "for coin in flipped_coins:\n",
    "    print(coin.heads_flipped)"
   ]
  },
  {
   "cell_type": "markdown",
   "metadata": {},
   "source": [
    "Appears to work!"
   ]
  },
  {
   "cell_type": "markdown",
   "metadata": {},
   "source": [
    "Nice, so this appears to work--we have flip_coins which will create an array of coins which have properties we can access. Now we need a function to run the full experiment."
   ]
  },
  {
   "cell_type": "code",
   "execution_count": 34,
   "metadata": {
    "collapsed": true
   },
   "outputs": [],
   "source": [
    "def flip_coins(num_coins, num_flips, thresh=0.5):\n",
    "    head_freqs = []\n",
    "    for i in range(num_coins):\n",
    "        num_heads = 0\n",
    "        \n",
    "        for j in range(num_flips):\n",
    "            val = np.random.uniform(0,1)\n",
    "            if val >= 0.5:\n",
    "                num_heads += 1 # else don't do anything.\n",
    "            \n",
    "        heads_frac = num_heads / num_flips\n",
    "        head_freqs.append(heads_frac)\n",
    "        \n",
    "    return head_freqs"
   ]
  },
  {
   "cell_type": "code",
   "execution_count": 35,
   "metadata": {
    "collapsed": true
   },
   "outputs": [],
   "source": [
    "def run_experiment(num_coins, num_flips, num_runs):\n",
    "    \"\"\"\n",
    "    runs an experiment of flipping a certain number of coins\n",
    "    \"\"\"\n",
    "    v_one_avg = 0\n",
    "    v_rand_avg = 0\n",
    "    v_min_avg = 0\n",
    "    \n",
    "    for i in range(num_runs):\n",
    "        flipped_coins = flip_coins(num_coins, num_flips) # get an array of coins\n",
    "        \n",
    "        # we have the direct values of frequency of heads so we can just get the v's.\n",
    "        v_one = flipped_coins[0] # first coin\n",
    "        v_rand = random.choice(flipped_coins) # random coin\n",
    "        v_min = min(flipped_coins) # coin w/ min number heads flipped\n",
    "        \n",
    "        v_one_avg += v_one\n",
    "        v_rand_avg += v_rand\n",
    "        v_min_avg += v_min\n",
    "        \n",
    "    v_one_avg /= num_runs\n",
    "    v_rand_avg /= num_runs\n",
    "    v_min_avg /= num_runs\n",
    "    \n",
    "    return v_one_avg, v_rand_avg, v_min_avg"
   ]
  },
  {
   "cell_type": "code",
   "execution_count": 32,
   "metadata": {
    "collapsed": true
   },
   "outputs": [],
   "source": [
    "def run_experiment_object(num_coins, num_flips, num_runs):\n",
    "    \"\"\"\n",
    "    runs an experiment of flipping a certain number of coins (object version)\n",
    "    \"\"\"\n",
    "    v_one_avg = 0\n",
    "    v_rand_avg = 0\n",
    "    v_min_avg = 0\n",
    "    \n",
    "    for i in range(num_runs):\n",
    "        flipped_coins = flip_coins(num_coins, num_flips) # get an array of coins\n",
    "        \n",
    "        c_one = flipped_coins[0] # first coin\n",
    "        c_rand = random.choice(flipped_coins) # random coin\n",
    "        c_min = min(flipped_coins, key=attrgetter('heads_flipped')) # coin w/ min number heads flipped\n",
    "        \n",
    "        v_one = c_one.frac_heads\n",
    "        v_rand = c_rand.frac_heads\n",
    "        v_min = c_min.frac_heads\n",
    "        \n",
    "        v_one_avg += v_one\n",
    "        v_rand_avg += v_rand\n",
    "        v_min_avg += v_min\n",
    "        \n",
    "    v_one_avg /= num_runs\n",
    "    v_rand_avg /= num_runs\n",
    "    v_min_avg /= num_runs\n",
    "    \n",
    "    return v_one_avg, v_rand_avg, v_min_avg"
   ]
  },
  {
   "cell_type": "markdown",
   "metadata": {},
   "source": [
    "Now we'll run the experiment, and answer the questions."
   ]
  },
  {
   "cell_type": "code",
   "execution_count": 29,
   "metadata": {
    "collapsed": true
   },
   "outputs": [],
   "source": [
    "v_one_avg, v_rand_avg, v_min_avg = run_experiment(5,10,1) # test run."
   ]
  },
  {
   "cell_type": "code",
   "execution_count": 30,
   "metadata": {},
   "outputs": [
    {
     "data": {
      "text/plain": [
       "(0.4, 0.5, 0.4)"
      ]
     },
     "execution_count": 30,
     "metadata": {},
     "output_type": "execute_result"
    }
   ],
   "source": [
    "v_one_avg, v_rand_avg, v_min_avg"
   ]
  },
  {
   "cell_type": "markdown",
   "metadata": {},
   "source": [
    "Now we run 100,000 times, flipping 1,000 coins 10 times each."
   ]
  },
  {
   "cell_type": "code",
   "execution_count": 36,
   "metadata": {
    "collapsed": true
   },
   "outputs": [],
   "source": [
    "v_one, v_rand, v_min = run_experiment(1000, 10, 1)"
   ]
  },
  {
   "cell_type": "code",
   "execution_count": 37,
   "metadata": {},
   "outputs": [
    {
     "data": {
      "text/plain": [
       "(0.6, 0.4, 0.1)"
      ]
     },
     "execution_count": 37,
     "metadata": {},
     "output_type": "execute_result"
    }
   ],
   "source": [
    "v_one, v_rand, v_min"
   ]
  },
  {
   "cell_type": "markdown",
   "metadata": {},
   "source": [
    "Now we've got a version that doesn't create silly objects--let's run the full experiment."
   ]
  },
  {
   "cell_type": "code",
   "execution_count": 38,
   "metadata": {},
   "outputs": [
    {
     "ename": "KeyboardInterrupt",
     "evalue": "",
     "output_type": "error",
     "traceback": [
      "\u001b[1;31m---------------------------------------------------------------------------\u001b[0m",
      "\u001b[1;31mKeyboardInterrupt\u001b[0m                         Traceback (most recent call last)",
      "\u001b[1;32m<ipython-input-38-5003f1b06ad3>\u001b[0m in \u001b[0;36m<module>\u001b[1;34m()\u001b[0m\n\u001b[1;32m----> 1\u001b[1;33m \u001b[0mv_one\u001b[0m\u001b[1;33m,\u001b[0m \u001b[0mv_rand\u001b[0m\u001b[1;33m,\u001b[0m \u001b[0mv_min\u001b[0m \u001b[1;33m=\u001b[0m \u001b[0mrun_experiment\u001b[0m\u001b[1;33m(\u001b[0m\u001b[1;36m1000\u001b[0m\u001b[1;33m,\u001b[0m \u001b[1;36m10\u001b[0m\u001b[1;33m,\u001b[0m \u001b[1;36m100000\u001b[0m\u001b[1;33m)\u001b[0m\u001b[1;33m\u001b[0m\u001b[0m\n\u001b[0m",
      "\u001b[1;32m<ipython-input-35-d88aaeeb34fc>\u001b[0m in \u001b[0;36mrun_experiment\u001b[1;34m(num_coins, num_flips, num_runs)\u001b[0m\n\u001b[0;32m      8\u001b[0m \u001b[1;33m\u001b[0m\u001b[0m\n\u001b[0;32m      9\u001b[0m     \u001b[1;32mfor\u001b[0m \u001b[0mi\u001b[0m \u001b[1;32min\u001b[0m \u001b[0mrange\u001b[0m\u001b[1;33m(\u001b[0m\u001b[0mnum_runs\u001b[0m\u001b[1;33m)\u001b[0m\u001b[1;33m:\u001b[0m\u001b[1;33m\u001b[0m\u001b[0m\n\u001b[1;32m---> 10\u001b[1;33m         \u001b[0mflipped_coins\u001b[0m \u001b[1;33m=\u001b[0m \u001b[0mflip_coins\u001b[0m\u001b[1;33m(\u001b[0m\u001b[0mnum_coins\u001b[0m\u001b[1;33m,\u001b[0m \u001b[0mnum_flips\u001b[0m\u001b[1;33m)\u001b[0m \u001b[1;31m# get an array of coins\u001b[0m\u001b[1;33m\u001b[0m\u001b[0m\n\u001b[0m\u001b[0;32m     11\u001b[0m \u001b[1;33m\u001b[0m\u001b[0m\n\u001b[0;32m     12\u001b[0m         \u001b[1;31m# we have the direct values of frequency of heads so we can just get the v's.\u001b[0m\u001b[1;33m\u001b[0m\u001b[1;33m\u001b[0m\u001b[0m\n",
      "\u001b[1;32m<ipython-input-34-cfb8af3fedcb>\u001b[0m in \u001b[0;36mflip_coins\u001b[1;34m(num_coins, num_flips, thresh)\u001b[0m\n\u001b[0;32m      5\u001b[0m \u001b[1;33m\u001b[0m\u001b[0m\n\u001b[0;32m      6\u001b[0m         \u001b[1;32mfor\u001b[0m \u001b[0mj\u001b[0m \u001b[1;32min\u001b[0m \u001b[0mrange\u001b[0m\u001b[1;33m(\u001b[0m\u001b[0mnum_flips\u001b[0m\u001b[1;33m)\u001b[0m\u001b[1;33m:\u001b[0m\u001b[1;33m\u001b[0m\u001b[0m\n\u001b[1;32m----> 7\u001b[1;33m             \u001b[0mval\u001b[0m \u001b[1;33m=\u001b[0m \u001b[0mnp\u001b[0m\u001b[1;33m.\u001b[0m\u001b[0mrandom\u001b[0m\u001b[1;33m.\u001b[0m\u001b[0muniform\u001b[0m\u001b[1;33m(\u001b[0m\u001b[1;36m0\u001b[0m\u001b[1;33m,\u001b[0m\u001b[1;36m1\u001b[0m\u001b[1;33m)\u001b[0m\u001b[1;33m\u001b[0m\u001b[0m\n\u001b[0m\u001b[0;32m      8\u001b[0m             \u001b[1;32mif\u001b[0m \u001b[0mval\u001b[0m \u001b[1;33m>=\u001b[0m \u001b[1;36m0.5\u001b[0m\u001b[1;33m:\u001b[0m\u001b[1;33m\u001b[0m\u001b[0m\n\u001b[0;32m      9\u001b[0m                 \u001b[0mnum_heads\u001b[0m \u001b[1;33m+=\u001b[0m \u001b[1;36m1\u001b[0m \u001b[1;31m# else don't do anything.\u001b[0m\u001b[1;33m\u001b[0m\u001b[0m\n",
      "\u001b[1;31mKeyboardInterrupt\u001b[0m: "
     ]
    }
   ],
   "source": [
    "v_one, v_rand, v_min = run_experiment(1000, 10, 100000)"
   ]
  },
  {
   "cell_type": "code",
   "execution_count": null,
   "metadata": {
    "collapsed": true
   },
   "outputs": [],
   "source": [
    "v_one, v_rand, v_min"
   ]
  },
  {
   "cell_type": "code",
   "execution_count": null,
   "metadata": {
    "collapsed": true
   },
   "outputs": [],
   "source": []
  },
  {
   "cell_type": "markdown",
   "metadata": {},
   "source": [
    "## Problem 3"
   ]
  },
  {
   "cell_type": "markdown",
   "metadata": {},
   "source": [
    "We want the error of $h$ in approximating $y$, where there is a probability of $\\lambda$ that $y = f(x)$"
   ]
  },
  {
   "cell_type": "markdown",
   "metadata": {},
   "source": [
    "$h$ approximates $f$ and makes an error with probability $\\mu$. \n",
    "We want the probability $h$ makes an error on $y$, so there are two main  cases:\n",
    "1. $h$ is a correct approximation, but $y \\neq f(x)$.\n",
    "2. $h$ is incorrect, and $y = f(x)$. "
   ]
  },
  {
   "cell_type": "markdown",
   "metadata": {},
   "source": [
    "Taking probabilities for each case:\n",
    "1. $(1-\\mu)(1-\\lambda)$\n",
    "2. $\\mu \\lambda$"
   ]
  },
  {
   "cell_type": "markdown",
   "metadata": {},
   "source": [
    "__[e]__\n",
    "\n",
    "From the above, the answer is $$(1 - \\lambda)(1 - \\mu) + \\lambda \\mu$$"
   ]
  },
  {
   "cell_type": "markdown",
   "metadata": {},
   "source": [
    "## Problem 4"
   ]
  },
  {
   "cell_type": "markdown",
   "metadata": {},
   "source": [
    "__[d]__\n",
    "\n",
    "If the performance of $h$ is independent of $\\mu$, that means the performance doesn't depend on how closely it tracks $f$, meaning that $f$ must be completely different from the actual (noisy) target $y$. So we have $\\lambda = 1$."
   ]
  },
  {
   "cell_type": "markdown",
   "metadata": {},
   "source": [
    "# Linear Regression"
   ]
  },
  {
   "cell_type": "code",
   "execution_count": 39,
   "metadata": {
    "collapsed": true
   },
   "outputs": [],
   "source": [
    "def create_target_function():\n",
    "    \"\"\"\n",
    "    create target function by initializing a line passing thru two random points in R2.\n",
    "    \"\"\"\n",
    "    x1 = random.uniform(-1,1)\n",
    "    x2 = random.uniform(-1,1)\n",
    "    y1 = random.uniform(-1,1)\n",
    "    y2 = random.uniform(-1,1)\n",
    "    \n",
    "    target_function = (x1,y1,x2,y2)\n",
    "    \n",
    "    return target_function"
   ]
  },
  {
   "cell_type": "code",
   "execution_count": 40,
   "metadata": {
    "collapsed": true
   },
   "outputs": [],
   "source": [
    "def targetFunction(x1,y1,x2,y2,x3,y3):\n",
    "    u = (x2-x1)*(y3-y1) - (y2-y1)*(x3-x1)\n",
    "    if u >= 0:\n",
    "        return 1\n",
    "    elif u < 0:\n",
    "        return -1"
   ]
  },
  {
   "cell_type": "code",
   "execution_count": 41,
   "metadata": {
    "collapsed": true
   },
   "outputs": [],
   "source": [
    "def create_dataset(size):\n",
    "    dataset = []\n",
    "    for i in range(size):\n",
    "        x = np.random.uniform(-1,1,2) # generate (x,y)\n",
    "        x = np.insert(x,0,1)\n",
    "        dataset.append(x)\n",
    "        \n",
    "    return dataset"
   ]
  },
  {
   "cell_type": "markdown",
   "metadata": {},
   "source": [
    "Now we want to write the linear regression algorithm."
   ]
  },
  {
   "cell_type": "markdown",
   "metadata": {},
   "source": [
    "First, we'll try to do the normal eqn thing to see how  it goes."
   ]
  },
  {
   "cell_type": "code",
   "execution_count": 42,
   "metadata": {
    "collapsed": true
   },
   "outputs": [],
   "source": [
    "X = create_dataset(4)\n",
    "target_function = create_target_function()"
   ]
  },
  {
   "cell_type": "code",
   "execution_count": 43,
   "metadata": {},
   "outputs": [
    {
     "data": {
      "text/plain": [
       "[array([ 1.        ,  0.07728187,  0.77059638]),\n",
       " array([ 1.        ,  0.9786508 ,  0.72865224]),\n",
       " array([ 1.        ,  0.74650105,  0.49978432]),\n",
       " array([ 1.        , -0.35799172,  0.23422898])]"
      ]
     },
     "execution_count": 43,
     "metadata": {},
     "output_type": "execute_result"
    }
   ],
   "source": [
    "X"
   ]
  },
  {
   "cell_type": "code",
   "execution_count": 44,
   "metadata": {
    "collapsed": true
   },
   "outputs": [],
   "source": [
    "x1,y1,x2,y2 = target_function"
   ]
  },
  {
   "cell_type": "code",
   "execution_count": 47,
   "metadata": {
    "collapsed": true
   },
   "outputs": [],
   "source": [
    "y = []"
   ]
  },
  {
   "cell_type": "code",
   "execution_count": 48,
   "metadata": {},
   "outputs": [],
   "source": [
    "for x in X:\n",
    "    a,b = x[1],x[2]\n",
    "    val = targetFunction(x1,y1,x2,y2,a,b)\n",
    "    y.append(val)"
   ]
  },
  {
   "cell_type": "code",
   "execution_count": 96,
   "metadata": {},
   "outputs": [
    {
     "data": {
      "text/plain": [
       "[-1, 1, 1, -1]"
      ]
     },
     "execution_count": 96,
     "metadata": {},
     "output_type": "execute_result"
    }
   ],
   "source": [
    "y"
   ]
  },
  {
   "cell_type": "markdown",
   "metadata": {},
   "source": [
    "So we have 2 points above, 2 below the line."
   ]
  },
  {
   "cell_type": "code",
   "execution_count": 99,
   "metadata": {},
   "outputs": [
    {
     "data": {
      "text/plain": [
       "(3, 4)"
      ]
     },
     "execution_count": 99,
     "metadata": {},
     "output_type": "execute_result"
    }
   ],
   "source": [
    "np.linalg.pinv(X).shape"
   ]
  },
  {
   "cell_type": "code",
   "execution_count": 100,
   "metadata": {
    "collapsed": true
   },
   "outputs": [],
   "source": [
    "w = np.linalg.pinv(X).dot(y)"
   ]
  },
  {
   "cell_type": "code",
   "execution_count": 101,
   "metadata": {},
   "outputs": [
    {
     "data": {
      "text/plain": [
       "array([ 0.239723  ,  2.19832849, -1.85121591])"
      ]
     },
     "execution_count": 101,
     "metadata": {},
     "output_type": "execute_result"
    }
   ],
   "source": [
    "w"
   ]
  },
  {
   "cell_type": "markdown",
   "metadata": {},
   "source": [
    "This w indeed has the dimensionality we want. Now we want to confirm what happens when we take $w^Tx$."
   ]
  },
  {
   "cell_type": "code",
   "execution_count": 53,
   "metadata": {
    "collapsed": true
   },
   "outputs": [],
   "source": [
    "x = X[0]"
   ]
  },
  {
   "cell_type": "code",
   "execution_count": 54,
   "metadata": {},
   "outputs": [
    {
     "data": {
      "text/plain": [
       "array([ 1.        ,  0.07728187,  0.77059638])"
      ]
     },
     "execution_count": 54,
     "metadata": {},
     "output_type": "execute_result"
    }
   ],
   "source": [
    "x"
   ]
  },
  {
   "cell_type": "code",
   "execution_count": 56,
   "metadata": {},
   "outputs": [
    {
     "data": {
      "text/plain": [
       "(3, 4)"
      ]
     },
     "execution_count": 56,
     "metadata": {},
     "output_type": "execute_result"
    }
   ],
   "source": [
    "w.shape"
   ]
  },
  {
   "cell_type": "code",
   "execution_count": 57,
   "metadata": {
    "collapsed": true
   },
   "outputs": [],
   "source": [
    "w_t = w.T"
   ]
  },
  {
   "cell_type": "code",
   "execution_count": 58,
   "metadata": {},
   "outputs": [
    {
     "data": {
      "text/plain": [
       "(4, 3)"
      ]
     },
     "execution_count": 58,
     "metadata": {},
     "output_type": "execute_result"
    }
   ],
   "source": [
    "w_t.shape"
   ]
  },
  {
   "cell_type": "code",
   "execution_count": 60,
   "metadata": {},
   "outputs": [
    {
     "data": {
      "text/plain": [
       "(3,)"
      ]
     },
     "execution_count": 60,
     "metadata": {},
     "output_type": "execute_result"
    }
   ],
   "source": [
    "x.shape"
   ]
  },
  {
   "cell_type": "code",
   "execution_count": 61,
   "metadata": {},
   "outputs": [
    {
     "data": {
      "text/plain": [
       "(4,)"
      ]
     },
     "execution_count": 61,
     "metadata": {},
     "output_type": "execute_result"
    }
   ],
   "source": [
    "(w_t.dot(x)).shape"
   ]
  },
  {
   "cell_type": "markdown",
   "metadata": {},
   "source": [
    "Now recall that the dimensions of $w$ are $(d+1) \\times N$, where $N$ is the number of training examples and $(d+1)$ is the number of dimensions in them."
   ]
  },
  {
   "cell_type": "code",
   "execution_count": 64,
   "metadata": {
    "collapsed": true
   },
   "outputs": [],
   "source": [
    "def create_y_vals(dataset, target_function):\n",
    "    x1,y1,x2,y2 = target_function\n",
    "    \n",
    "    y = []\n",
    "    \n",
    "    for x in dataset:\n",
    "        a,b = x[1],x[2]\n",
    "        val = targetFunction(x1,y1,x2,y2,a,b)\n",
    "        y.append(val)\n",
    "        \n",
    "    return y"
   ]
  },
  {
   "cell_type": "code",
   "execution_count": 102,
   "metadata": {
    "collapsed": true
   },
   "outputs": [],
   "source": [
    "def linear_regression(dataset, target_function):\n",
    "    \"\"\"\n",
    "    perform the linear regression algorithm, using the normal equation\n",
    "    \n",
    "    return: w, where w = Xt * y, where Xt is the pseudo-inverse of X.\n",
    "    \"\"\"\n",
    "    X = dataset\n",
    "    x1,y1,x2,y2 = target_function # unpack\n",
    "    y = create_y_vals(dataset,target_function)\n",
    "    \n",
    "    X_inv = np.linalg.pinv(X)\n",
    "        \n",
    "    w = X_inv.dot(y)\n",
    "    \n",
    "    return w"
   ]
  },
  {
   "cell_type": "code",
   "execution_count": 104,
   "metadata": {
    "collapsed": true
   },
   "outputs": [],
   "source": [
    "def in_sample_error(dataset,target_function, regression):\n",
    "    \"\"\"\n",
    "    takes in a dataset and a regression output w, checks the in-sample error\n",
    "    \"\"\"\n",
    "    X = dataset\n",
    "    N = len(dataset)\n",
    "    w = regression\n",
    "    y = create_y_vals(dataset,target_function)\n",
    "    \n",
    "    m = X.dot(w) - y\n",
    "    \n",
    "    err = 1/N * ((m.T).dot(m))\n",
    "    #error = err[0]\n",
    "    \n",
    "    return err"
   ]
  },
  {
   "cell_type": "code",
   "execution_count": 93,
   "metadata": {},
   "outputs": [
    {
     "data": {
      "text/plain": [
       "(array([[ 1.        ,  0.07728187,  0.77059638],\n",
       "        [ 1.        ,  0.9786508 ,  0.72865224],\n",
       "        [ 1.        ,  0.74650105,  0.49978432],\n",
       "        [ 1.        , -0.35799172,  0.23422898]]), [-1, 1, 1, -1])"
      ]
     },
     "execution_count": 93,
     "metadata": {},
     "output_type": "execute_result"
    }
   ],
   "source": [
    "X,y"
   ]
  },
  {
   "cell_type": "code",
   "execution_count": 105,
   "metadata": {},
   "outputs": [
    {
     "data": {
      "text/plain": [
       "0.0011024236644580168"
      ]
     },
     "execution_count": 105,
     "metadata": {},
     "output_type": "execute_result"
    }
   ],
   "source": [
    "in_sample_error(X,target_function,w)"
   ]
  },
  {
   "cell_type": "code",
   "execution_count": 98,
   "metadata": {},
   "outputs": [
    {
     "data": {
      "text/plain": [
       "(array([[ 1.        ,  0.07728187,  0.77059638],\n",
       "        [ 1.        ,  0.9786508 ,  0.72865224],\n",
       "        [ 1.        ,  0.74650105,  0.49978432],\n",
       "        [ 1.        , -0.35799172,  0.23422898]]),\n",
       " array([[ 0.71622708, -0.06412281,  0.68398431, -1.09636558],\n",
       "        [ 0.75429046,  0.49237079,  0.60679345,  0.34487379],\n",
       "        [-2.21847563,  0.2441676 , -1.16977555,  1.29286767]]),\n",
       " [-1, 1, 1, -1])"
      ]
     },
     "execution_count": 98,
     "metadata": {},
     "output_type": "execute_result"
    }
   ],
   "source": [
    "X,w,y"
   ]
  },
  {
   "cell_type": "code",
   "execution_count": 68,
   "metadata": {},
   "outputs": [
    {
     "data": {
      "text/plain": [
       "array([[ 0.71622708, -0.06412281,  0.68398431, -1.09636558],\n",
       "       [ 0.75429046,  0.49237079,  0.60679345,  0.34487379],\n",
       "       [-2.21847563,  0.2441676 , -1.16977555,  1.29286767]])"
      ]
     },
     "execution_count": 68,
     "metadata": {},
     "output_type": "execute_result"
    }
   ],
   "source": [
    "w"
   ]
  },
  {
   "cell_type": "code",
   "execution_count": 69,
   "metadata": {
    "collapsed": true
   },
   "outputs": [],
   "source": [
    "N = len(X)"
   ]
  },
  {
   "cell_type": "code",
   "execution_count": 73,
   "metadata": {
    "collapsed": true
   },
   "outputs": [],
   "source": [
    "X = np.array(X)"
   ]
  },
  {
   "cell_type": "code",
   "execution_count": 74,
   "metadata": {},
   "outputs": [
    {
     "data": {
      "text/plain": [
       "array([[-0.93502923,  0.16208319, -0.17054636, -0.07343394],\n",
       "       [-0.16208319,  0.59564952,  0.42546364,  0.18319635],\n",
       "       [ 0.17054636,  0.42546364,  0.55232078, -0.19276195],\n",
       "       [-0.07343394, -0.18319635,  0.19276195, -0.91700046]])"
      ]
     },
     "execution_count": 74,
     "metadata": {},
     "output_type": "execute_result"
    }
   ],
   "source": [
    "X.dot(w)"
   ]
  },
  {
   "cell_type": "markdown",
   "metadata": {},
   "source": [
    "Quick test"
   ]
  },
  {
   "cell_type": "code",
   "execution_count": 76,
   "metadata": {},
   "outputs": [],
   "source": [
    "X_1 = np.array([[1,0.077,0.771],[1,0.978,0.729]])\n",
    "y_1 = np.array([[-1],[1]])"
   ]
  },
  {
   "cell_type": "code",
   "execution_count": 78,
   "metadata": {},
   "outputs": [],
   "source": [
    "X_inv = np.linalg.pinv(X_1)"
   ]
  },
  {
   "cell_type": "code",
   "execution_count": 80,
   "metadata": {},
   "outputs": [
    {
     "data": {
      "text/plain": [
       "array([[ 0.65395679, -0.02844377],\n",
       "       [-1.08390997,  1.10644663],\n",
       "       [ 0.55707429, -0.07360911]])"
      ]
     },
     "execution_count": 80,
     "metadata": {},
     "output_type": "execute_result"
    }
   ],
   "source": [
    "X_inv"
   ]
  },
  {
   "cell_type": "code",
   "execution_count": 83,
   "metadata": {},
   "outputs": [],
   "source": [
    "w = X_inv.dot(y_1)"
   ]
  },
  {
   "cell_type": "code",
   "execution_count": 85,
   "metadata": {},
   "outputs": [
    {
     "data": {
      "text/plain": [
       "(2, 1)"
      ]
     },
     "execution_count": 85,
     "metadata": {},
     "output_type": "execute_result"
    }
   ],
   "source": [
    "(X_1.dot(w)).shape"
   ]
  },
  {
   "cell_type": "code",
   "execution_count": 88,
   "metadata": {
    "collapsed": true
   },
   "outputs": [],
   "source": [
    "mat = X_1.dot(w) - y_1"
   ]
  },
  {
   "cell_type": "code",
   "execution_count": 89,
   "metadata": {},
   "outputs": [
    {
     "data": {
      "text/plain": [
       "(2, 1)"
      ]
     },
     "execution_count": 89,
     "metadata": {},
     "output_type": "execute_result"
    }
   ],
   "source": [
    "mat.shape"
   ]
  },
  {
   "cell_type": "code",
   "execution_count": 90,
   "metadata": {
    "collapsed": true
   },
   "outputs": [],
   "source": [
    "err = 0.5 * ((mat.T).dot(mat))"
   ]
  },
  {
   "cell_type": "code",
   "execution_count": 91,
   "metadata": {},
   "outputs": [
    {
     "data": {
      "text/plain": [
       "array([[  8.87468518e-31]])"
      ]
     },
     "execution_count": 91,
     "metadata": {},
     "output_type": "execute_result"
    }
   ],
   "source": [
    "err"
   ]
  },
  {
   "cell_type": "code",
   "execution_count": null,
   "metadata": {
    "collapsed": true
   },
   "outputs": [],
   "source": []
  }
 ],
 "metadata": {
  "kernelspec": {
   "display_name": "Python 3",
   "language": "python",
   "name": "python3"
  },
  "language_info": {
   "codemirror_mode": {
    "name": "ipython",
    "version": 3
   },
   "file_extension": ".py",
   "mimetype": "text/x-python",
   "name": "python",
   "nbconvert_exporter": "python",
   "pygments_lexer": "ipython3",
   "version": "3.5.3"
  }
 },
 "nbformat": 4,
 "nbformat_minor": 2
}
