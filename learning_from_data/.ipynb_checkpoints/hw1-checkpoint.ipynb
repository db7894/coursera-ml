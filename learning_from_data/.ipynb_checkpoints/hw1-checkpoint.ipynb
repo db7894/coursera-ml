{
 "cells": [
  {
   "cell_type": "code",
   "execution_count": 1,
   "metadata": {
    "collapsed": true
   },
   "outputs": [],
   "source": [
    "from IPython.display import IFrame"
   ]
  },
  {
   "cell_type": "code",
   "execution_count": 6,
   "metadata": {
    "scrolled": false
   },
   "outputs": [
    {
     "data": {
      "text/html": [
       "\n",
       "        <iframe\n",
       "            width=\"1000\"\n",
       "            height=\"1000\"\n",
       "            src=\"hw1.pdf\"\n",
       "            frameborder=\"0\"\n",
       "            allowfullscreen\n",
       "        ></iframe>\n",
       "        "
      ],
      "text/plain": [
       "<IPython.lib.display.IFrame at 0x1b7fca5e978>"
      ]
     },
     "execution_count": 6,
     "metadata": {},
     "output_type": "execute_result"
    }
   ],
   "source": [
    "IFrame(\"hw1.pdf\", width=1000, height=1000)"
   ]
  },
  {
   "cell_type": "markdown",
   "metadata": {},
   "source": [
    "# Responses"
   ]
  },
  {
   "cell_type": "markdown",
   "metadata": {},
   "source": [
    "## Problem 1"
   ]
  },
  {
   "cell_type": "markdown",
   "metadata": {},
   "source": [
    "__[d]__\n",
    "1. Not learning--recall that one of the key components of a problem that requires Learning is that the target function is __unknown__. In this case, we have exact specifications we can use to classify coins. \n",
    "2. Supervised Learning--we have labeled coins and want to infer decision boundaries so that we can infer a target function that tells us which coins belong to which category. This is not Unsupervised because __we are given labels__.\n",
    "3. Reinforcement Learning--this uses a penalty/reward system to iteratively improve Tic-Tac-Toe playing. "
   ]
  },
  {
   "cell_type": "markdown",
   "metadata": {},
   "source": [
    "## Problem 2"
   ]
  },
  {
   "cell_type": "markdown",
   "metadata": {},
   "source": [
    "__[a]__--(ii) and (iv) are good choices for ML. In (ii), we don't know exactly how to weight/value certain things from a credit card transaction to decide whether it is fraudulent, but we can learn it (given data). Similarly, determining the optimal cycle for traffic lights depends on a number of variables, and it's non-trivial to decide how to weight/use them. "
   ]
  },
  {
   "cell_type": "markdown",
   "metadata": {},
   "source": [
    "## Problem 3"
   ]
  },
  {
   "cell_type": "markdown",
   "metadata": {},
   "source": [
    "__[c]__\n",
    "For the first bag, $ \\mathbb{P}[pick \\ black \\ | \\ picked \\ black]_1 = 1 $ since there are 2 black balls. For the second, since there is one black and one white ball, $ \\mathbb{P}[pick \\ black \\ | \\ picked \\ black]_2 = 0 $. The probability of picking either bag is $ \\dfrac{1}{2} $, so the total probability that the second ball we pick is black after randomly selecting one of the two bags is $$ \\dfrac{1}{2} \\cdot \\mathbb{P}[pick \\ black \\ | \\ picked \\ black]_1 + \\dfrac{1}{2} \\cdot \\mathbb{P}[pick \\ black \\ | \\ picked \\ black]_2 = \\dfrac{1}{2} $$"
   ]
  },
  {
   "cell_type": "markdown",
   "metadata": {},
   "source": [
    "## Problem 4"
   ]
  },
  {
   "cell_type": "markdown",
   "metadata": {},
   "source": [
    "__[b]__\n",
    "If we draw ten marbles, then the probality we get no reds is $$ \\mathbb{P}[\\nu = 0] = \\mathbb{P}[drew \\ ten \\ greens] = 0.45^{10} = 3.405 \\times 10^{-4}. $$"
   ]
  },
  {
   "cell_type": "markdown",
   "metadata": {},
   "source": [
    "## Problem 5"
   ]
  },
  {
   "cell_type": "code",
   "execution_count": 2,
   "metadata": {
    "collapsed": true
   },
   "outputs": [],
   "source": [
    "import numpy as np"
   ]
  },
  {
   "cell_type": "code",
   "execution_count": 12,
   "metadata": {
    "collapsed": true
   },
   "outputs": [],
   "source": [
    "s = np.random.uniform(0,1,2)"
   ]
  },
  {
   "cell_type": "code",
   "execution_count": 13,
   "metadata": {},
   "outputs": [
    {
     "data": {
      "text/plain": [
       "array([ 0.36057611,  0.57849578])"
      ]
     },
     "execution_count": 13,
     "metadata": {},
     "output_type": "execute_result"
    }
   ],
   "source": [
    "s"
   ]
  },
  {
   "cell_type": "code",
   "execution_count": 14,
   "metadata": {},
   "outputs": [
    {
     "name": "stdout",
     "output_type": "stream",
     "text": [
      "0.360576106197\n",
      "0.5784957793\n"
     ]
    }
   ],
   "source": [
    "for sample in s:\n",
    "    print(sample)"
   ]
  },
  {
   "cell_type": "code",
   "execution_count": 15,
   "metadata": {
    "collapsed": true
   },
   "outputs": [],
   "source": [
    "prob_red = 0.55\n",
    "def draw_sample(prob, num_samples):\n",
    "    s = np.random.uniform(0,1,num_samples)\n",
    "    return s"
   ]
  },
  {
   "cell_type": "markdown",
   "metadata": {},
   "source": [
    "We want the probability that at least one sample of 10 marbles out of 1000 has $ \\nu = 0 $. That's one minus the probability that no sample has $\\nu = 0$, or the probability that all samples have at least one red marble.\n",
    "\n",
    "The probability that an individual sample has at least one red marble comes from the last problem--it is 1 minus the answer we got there, or $$ 0.99965949371. $$"
   ]
  },
  {
   "cell_type": "markdown",
   "metadata": {},
   "source": [
    "So this means that we draw 1000 red marbles. So $$ \\mathbb{P}[\\text{at least one } \\nu = 0] = 1 - \\mathbb{P}[\\text{no} \\nu = 0] $$ $$ = 1 - 0.99965949371^{1000} \\approx 0.289 . $$\n",
    "\n",
    "The answer is __[c]__"
   ]
  },
  {
   "cell_type": "markdown",
   "metadata": {},
   "source": [
    "## Problem 6"
   ]
  },
  {
   "cell_type": "markdown",
   "metadata": {},
   "source": [
    "There are 8 possible target functions that agree with $\\textit{D}$. If we actually inspect the 5 training examples, we notice that an XOR of the three values would agree with everything there."
   ]
  },
  {
   "cell_type": "markdown",
   "metadata": {},
   "source": [
    "## Problems 7-10"
   ]
  },
  {
   "cell_type": "code",
   "execution_count": 21,
   "metadata": {
    "collapsed": true
   },
   "outputs": [],
   "source": [
    "def pick_two_random_points():\n",
    "    # returns two random values, each in [-1,1]\n",
    "    pt1 = np.random.uniform(-1,1,2)\n",
    "    pt2 = np.random.uniform(-1,1,2)\n",
    "    return pt1,pt2"
   ]
  },
  {
   "cell_type": "code",
   "execution_count": 3,
   "metadata": {
    "collapsed": true
   },
   "outputs": [],
   "source": [
    "import matplotlib.pyplot as plt\n",
    "% matplotlib inline"
   ]
  },
  {
   "cell_type": "code",
   "execution_count": 36,
   "metadata": {
    "collapsed": true
   },
   "outputs": [],
   "source": [
    "def draw_line_from_random_pts():\n",
    "    pt1, pt2 = pick_two_random_points()\n",
    "    # compute coefficients\n",
    "    coefficients = np.polyfit([pt1[0], pt1[1]], [pt2[0], pt2[1]], 1) \n",
    "\n",
    "    # create a polynomial object with the coefficients\n",
    "    polynomial = np.poly1d(coefficients)\n",
    "\n",
    "    # for the line to extend beyond the two points, \n",
    "    # create the linespace using the min and max of the x_lim\n",
    "    # I'm using -1 and 1 here\n",
    "    x_axis = np.linspace(-1, 1)\n",
    "\n",
    "    # compute the y for each x using the polynomial\n",
    "    y_axis = polynomial(x_axis)\n",
    "    \n",
    "    fig = plt.figure()\n",
    "    axes = plt.axes()\n",
    "    axes.plot(x_axis, y_axis)\n",
    "    plt.axhline(0, color='k')\n",
    "    plt.axvline(0, color='k')\n",
    "    axes.plot(pt1[0], pt2[0], pt1[1], pt2[1], marker='o', color='red')"
   ]
  },
  {
   "cell_type": "code",
   "execution_count": 37,
   "metadata": {},
   "outputs": [
    {
     "data": {
      "image/png": "[encoded data removed]",
      "text/plain": [
       "<matplotlib.figure.Figure at 0x1b7fda5de10>"
      ]
     },
     "metadata": {},
     "output_type": "display_data"
    }
   ],
   "source": [
    "draw_line_from_random_pts()"
   ]
  },
  {
   "cell_type": "code",
   "execution_count": 32,
   "metadata": {
    "collapsed": true
   },
   "outputs": [],
   "source": [
    "pt1, pt2 = pick_two_random_points()"
   ]
  },
  {
   "cell_type": "code",
   "execution_count": 33,
   "metadata": {
    "collapsed": true
   },
   "outputs": [],
   "source": [
    "# compute coefficients\n",
    "coefficients = np.polyfit([pt1[0], pt1[1]], [pt2[0], pt2[1]], 1)\n",
    "\n",
    "# create a polynomial object with the coefficients\n",
    "polynomial = np.poly1d(coefficients)"
   ]
  },
  {
   "cell_type": "code",
   "execution_count": 34,
   "metadata": {},
   "outputs": [
    {
     "data": {
      "text/plain": [
       "poly1d([ 1.03485446, -0.40126896])"
      ]
     },
     "execution_count": 34,
     "metadata": {},
     "output_type": "execute_result"
    }
   ],
   "source": [
    "polynomial # coeff"
   ]
  },
  {
   "cell_type": "code",
   "execution_count": 35,
   "metadata": {},
   "outputs": [
    {
     "data": {
      "text/plain": [
       "array([ 1.03485446, -0.40126896])"
      ]
     },
     "execution_count": 35,
     "metadata": {},
     "output_type": "execute_result"
    }
   ],
   "source": [
    "coefficients"
   ]
  },
  {
   "cell_type": "markdown",
   "metadata": {},
   "source": [
    "So the first element of coefficients is the weight, while the second is the bias."
   ]
  },
  {
   "cell_type": "code",
   "execution_count": 46,
   "metadata": {
    "collapsed": true
   },
   "outputs": [],
   "source": [
    "dataset = np.random.uniform(-1,1,10) # create dataset of size 10."
   ]
  },
  {
   "cell_type": "code",
   "execution_count": 22,
   "metadata": {
    "collapsed": true
   },
   "outputs": [],
   "source": [
    "def create_target_function():\n",
    "    \"\"\"\n",
    "    create target function by initializing a line passing thru two random points in R2.\n",
    "    \"\"\"\n",
    "    pt1, pt2 = pick_two_random_points()\n",
    "    \n",
    "    # compute coefficients\n",
    "    coefficients = np.polyfit([pt1[0], pt1[1]], [pt2[0], pt2[1]], 1)\n",
    "    \n",
    "    weight = coefficients[0]\n",
    "    bias = coefficients[1]\n",
    "    \n",
    "    return weight, bias"
   ]
  },
  {
   "cell_type": "code",
   "execution_count": 86,
   "metadata": {
    "collapsed": true
   },
   "outputs": [],
   "source": [
    "def create_dataset(size):\n",
    "    dataset = []\n",
    "    for i in range(size):\n",
    "        x = np.random.uniform(-1,1,2) # generate (x,y)\n",
    "        dataset.append(x)\n",
    "        \n",
    "    return dataset"
   ]
  },
  {
   "cell_type": "code",
   "execution_count": 81,
   "metadata": {
    "collapsed": true
   },
   "outputs": [],
   "source": [
    "def eval_target_function(dataset, target_function):\n",
    "    \"\"\"\n",
    "    dataset will be an array of points in R2\n",
    "    target_function is a pair of values (weight, bias)\n",
    "    \n",
    "    use the target function with the dataset, return an array of values representing y values for each data point.\n",
    "    Say that we give 1 prediction if x is \"above\" the line. That is, (x1,x2) is above the line y = mx+b if\n",
    "    y1 = mx1 + b < x2\n",
    "    \"\"\"\n",
    "    (weight, bias) = target_function\n",
    "    # weight, bias = create_target_function() # line is weight*x + bias\n",
    "    y = np.zeros(len(dataset)) # size 10\n",
    "    \n",
    "    for index in range(len(dataset)):\n",
    "        x = dataset[index]\n",
    "        x1, x2 = x[0], x[1]\n",
    "        if weight*x1 + bias <= x2:\n",
    "            prediction = 1\n",
    "        else:\n",
    "            prediction = -1\n",
    "        y[index] = prediction\n",
    "        \n",
    "    return y"
   ]
  },
  {
   "cell_type": "code",
   "execution_count": 62,
   "metadata": {
    "collapsed": true
   },
   "outputs": [],
   "source": [
    "dataset = create_dataset(size=10)"
   ]
  },
  {
   "cell_type": "code",
   "execution_count": 63,
   "metadata": {},
   "outputs": [
    {
     "data": {
      "text/plain": [
       "[array([ 0.96931462, -0.82981663]),\n",
       " array([ 0.36924486,  0.45931993]),\n",
       " array([-0.57090423, -0.96858732]),\n",
       " array([-0.63475047,  0.33644747]),\n",
       " array([ 0.10710692, -0.52540432]),\n",
       " array([-0.85902423, -0.07505821]),\n",
       " array([-0.64696782,  0.3620291 ]),\n",
       " array([-0.50893985, -0.61079892]),\n",
       " array([-0.25689862,  0.00222871])]"
      ]
     },
     "execution_count": 63,
     "metadata": {},
     "output_type": "execute_result"
    }
   ],
   "source": [
    "dataset"
   ]
  },
  {
   "cell_type": "code",
   "execution_count": 64,
   "metadata": {
    "collapsed": true
   },
   "outputs": [],
   "source": [
    "y = eval_target_function(dataset)"
   ]
  },
  {
   "cell_type": "code",
   "execution_count": 65,
   "metadata": {},
   "outputs": [
    {
     "data": {
      "text/plain": [
       "array([-1.,  1.,  1.,  1.,  1.,  1.,  1.,  1.,  1.])"
      ]
     },
     "execution_count": 65,
     "metadata": {},
     "output_type": "execute_result"
    }
   ],
   "source": [
    "y"
   ]
  },
  {
   "cell_type": "code",
   "execution_count": 45,
   "metadata": {
    "collapsed": true
   },
   "outputs": [],
   "source": [
    "def perceptron_random_pts(value):\n",
    "    # used to evaluate training examples.\n",
    "    x = value[0]\n",
    "    y = value[1]\n",
    "    weight, bias = create_target_function()\n",
    "    \n",
    "    if weight*x + bias >= 0: \n",
    "        prediction = 1\n",
    "    else:\n",
    "        prediction = -1\n",
    "    \n",
    "    \n",
    "    # check that prediction matches value of y in the training sample\n",
    "    if prediction == y:\n",
    "        return True\n",
    "    else:\n",
    "        return False"
   ]
  },
  {
   "cell_type": "code",
   "execution_count": 241,
   "metadata": {
    "collapsed": true
   },
   "outputs": [],
   "source": [
    "def misclassified(value, target_function, hypothesis):\n",
    "    \"\"\"\n",
    "    tells us if hypothesis output for a training example is correct or not, based on target function.\n",
    "    \"\"\"\n",
    "    x = value[0]\n",
    "    y = value[1]\n",
    "    \n",
    "    true_val = eval_target_function([value], target_function)[0]\n",
    "    # print('true val: '+ str(true_val))\n",
    "    \n",
    "    return not (hypothesis == true_val) # true if the value is indeed misclassified."
   ]
  },
  {
   "cell_type": "code",
   "execution_count": 69,
   "metadata": {
    "collapsed": true
   },
   "outputs": [],
   "source": [
    "import random"
   ]
  },
  {
   "cell_type": "code",
   "execution_count": 72,
   "metadata": {},
   "outputs": [
    {
     "data": {
      "text/plain": [
       "array([6, 6])"
      ]
     },
     "execution_count": 72,
     "metadata": {},
     "output_type": "execute_result"
    }
   ],
   "source": [
    "np.multiply(3, [2,2])"
   ]
  },
  {
   "cell_type": "code",
   "execution_count": 74,
   "metadata": {},
   "outputs": [
    {
     "data": {
      "text/plain": [
       "-1"
      ]
     },
     "execution_count": 74,
     "metadata": {},
     "output_type": "execute_result"
    }
   ],
   "source": [
    "np.sign(-6)"
   ]
  },
  {
   "cell_type": "code",
   "execution_count": 242,
   "metadata": {
    "collapsed": true
   },
   "outputs": [],
   "source": [
    "def get_all_misclassified(dataset, target_function, weight_vector):\n",
    "    misclassified_idx = []\n",
    "    for index in range(len(dataset)):\n",
    "        # print(\"value: \" + str(dataset[index]))\n",
    "        hypothesis = np.sign(np.inner(weight_vector, dataset[index]))\n",
    "        #print(\"hypothesis: \" + str(hypothesis))\n",
    "        if misclassified(dataset[index], target_function, hypothesis):\n",
    "            misclassified_idx.append(index)\n",
    "            \n",
    "    return misclassified_idx"
   ]
  },
  {
   "cell_type": "code",
   "execution_count": 288,
   "metadata": {
    "collapsed": true
   },
   "outputs": [],
   "source": [
    "def PLA(dataset, target_function, debug=False):\n",
    "    \"\"\"\n",
    "    the Perceptron Learning Algorithm, for full dataset\n",
    "    \"\"\"\n",
    "    y_vals = eval_target_function(dataset, target_function) # get the array of y values for each point in dataset.\n",
    "    w = np.zeros(2) # init weight vector to 2 zeros: inner product of w,x is 0 --> sign(wTx) = 0\n",
    "    num_iters = 0 # keep track of num iterations\n",
    "    \n",
    "    indices = [i for i in range(len(dataset))]\n",
    "    misclassified_indices = indices # everything is misclassified at first\n",
    "    \n",
    "    while misclassified_indices:\n",
    "        # keep running until nothing is misclassified\n",
    "        num_iters += 1\n",
    "        \n",
    "        # randomly pick a value from the misclassified indices to evaluate.\n",
    "        chosen_idx = random.choice(misclassified_indices)\n",
    "        chosen_value = dataset[chosen_idx]\n",
    "        \n",
    "        # update weight vector: w <-- w + y_n * x_n\n",
    "        w = w + np.multiply(y_vals[chosen_idx], dataset[chosen_idx]) # the second element is (1,2) since mult el't-wise.\n",
    "        \n",
    "        # update misclassified indices\n",
    "        misclassified_indices = get_all_misclassified(dataset, target_function, w)\n",
    "        \n",
    "        if debug:\n",
    "            print(\"misclassified indices now: \" + str(misclassified_indices))\n",
    "        \n",
    "    # now that nothing is misclassified, we get our hypothesis as a vector\n",
    "    g = []\n",
    "    for x in dataset:\n",
    "        prediction = np.sign(np.inner(w,x))\n",
    "        g.append(prediction)\n",
    "        \n",
    "    if debug:\n",
    "        print(\"g is: \" + str(g))\n",
    "        \n",
    "    # calcualte P[g != f] where f was the target function.\n",
    "    size = len(g)\n",
    "    num_wrong = 0\n",
    "    f = y_vals\n",
    "    for i in range(size):\n",
    "        if debug:\n",
    "            print(\"i is: \" + str(i))\n",
    "        if g[i] != f[i]:\n",
    "            num_wrong += 1\n",
    "            \n",
    "    prob_different = num_wrong / size # this is the probability P[g != f] where g is the hypothesis values.\n",
    "    \n",
    "    return num_wrong, num_iters"
   ]
  },
  {
   "cell_type": "code",
   "execution_count": 216,
   "metadata": {
    "collapsed": true
   },
   "outputs": [],
   "source": [
    "dataset = create_dataset(size=3)"
   ]
  },
  {
   "cell_type": "code",
   "execution_count": 217,
   "metadata": {},
   "outputs": [
    {
     "data": {
      "text/plain": [
       "[array([ 0.5569381 , -0.47479243]),\n",
       " array([-0.19605403, -0.38043545]),\n",
       " array([-0.79218672, -0.28998409])]"
      ]
     },
     "execution_count": 217,
     "metadata": {},
     "output_type": "execute_result"
    }
   ],
   "source": [
    "dataset"
   ]
  },
  {
   "cell_type": "code",
   "execution_count": 218,
   "metadata": {
    "collapsed": true
   },
   "outputs": [],
   "source": [
    "target_function = create_target_function()"
   ]
  },
  {
   "cell_type": "code",
   "execution_count": 219,
   "metadata": {
    "collapsed": true
   },
   "outputs": [],
   "source": [
    "f = eval_target_function(dataset, target_function)"
   ]
  },
  {
   "cell_type": "code",
   "execution_count": 220,
   "metadata": {},
   "outputs": [
    {
     "data": {
      "text/plain": [
       "array([-1., -1., -1.])"
      ]
     },
     "execution_count": 220,
     "metadata": {},
     "output_type": "execute_result"
    }
   ],
   "source": [
    "f # true values."
   ]
  },
  {
   "cell_type": "code",
   "execution_count": 182,
   "metadata": {
    "collapsed": true
   },
   "outputs": [],
   "source": [
    "num_wrong, num_iters = PLA(dataset, target_function)"
   ]
  },
  {
   "cell_type": "code",
   "execution_count": 183,
   "metadata": {},
   "outputs": [
    {
     "data": {
      "text/plain": [
       "(1, 3)"
      ]
     },
     "execution_count": 183,
     "metadata": {},
     "output_type": "execute_result"
    }
   ],
   "source": [
    "num_wrong, num_iters"
   ]
  },
  {
   "cell_type": "code",
   "execution_count": 221,
   "metadata": {
    "collapsed": true
   },
   "outputs": [],
   "source": [
    "w = np.zeros(2)\n",
    "num_iters = 0 # keep track of num iterations\n",
    "    \n",
    "indices = [i for i in range(len(dataset))]\n",
    "misclassified_indices = indices # everything is misclassified"
   ]
  },
  {
   "cell_type": "code",
   "execution_count": 222,
   "metadata": {},
   "outputs": [
    {
     "data": {
      "text/plain": [
       "[0, 1, 2]"
      ]
     },
     "execution_count": 222,
     "metadata": {},
     "output_type": "execute_result"
    }
   ],
   "source": [
    "indices"
   ]
  },
  {
   "cell_type": "code",
   "execution_count": 223,
   "metadata": {},
   "outputs": [
    {
     "name": "stdout",
     "output_type": "stream",
     "text": [
      "value: [ 0.5569381  -0.47479243]\n",
      "hypothesis: 0.0\n",
      "true val: -1.0\n",
      "value: [-0.19605403 -0.38043545]\n",
      "hypothesis: 0.0\n",
      "true val: -1.0\n",
      "value: [-0.79218672 -0.28998409]\n",
      "hypothesis: 0.0\n",
      "true val: -1.0\n"
     ]
    },
    {
     "data": {
      "text/plain": [
       "[0, 1, 2]"
      ]
     },
     "execution_count": 223,
     "metadata": {},
     "output_type": "execute_result"
    }
   ],
   "source": [
    "get_all_misclassified(dataset, target_function, w)"
   ]
  },
  {
   "cell_type": "code",
   "execution_count": 224,
   "metadata": {
    "collapsed": true
   },
   "outputs": [],
   "source": [
    "y_vals = eval_target_function(dataset, target_function)"
   ]
  },
  {
   "cell_type": "code",
   "execution_count": 225,
   "metadata": {},
   "outputs": [
    {
     "data": {
      "text/plain": [
       "array([-1., -1., -1.])"
      ]
     },
     "execution_count": 225,
     "metadata": {},
     "output_type": "execute_result"
    }
   ],
   "source": [
    "y_vals"
   ]
  },
  {
   "cell_type": "code",
   "execution_count": 226,
   "metadata": {},
   "outputs": [
    {
     "name": "stdout",
     "output_type": "stream",
     "text": [
      "chosen idx: 0\n",
      "w: [-0.5569381   0.47479243]\n"
     ]
    }
   ],
   "source": [
    "chosen_idx = random.choice(misclassified_indices)\n",
    "print(\"chosen idx: \" + str(chosen_idx))\n",
    "chosen_value = dataset[chosen_idx]\n",
    "\n",
    "# update weight vector: w <-- w + y_n * x_n\n",
    "w = w + np.multiply(y_vals[chosen_idx], dataset[chosen_idx])\n",
    "\n",
    "print(\"w: \" + str(w))"
   ]
  },
  {
   "cell_type": "code",
   "execution_count": 227,
   "metadata": {},
   "outputs": [
    {
     "name": "stdout",
     "output_type": "stream",
     "text": [
      "value: [ 0.5569381  -0.47479243]\n",
      "hypothesis: -1.0\n",
      "true val: -1.0\n",
      "value: [-0.19605403 -0.38043545]\n",
      "hypothesis: -1.0\n",
      "true val: -1.0\n",
      "value: [-0.79218672 -0.28998409]\n",
      "hypothesis: 1.0\n",
      "true val: -1.0\n"
     ]
    },
    {
     "data": {
      "text/plain": [
       "[2]"
      ]
     },
     "execution_count": 227,
     "metadata": {},
     "output_type": "execute_result"
    }
   ],
   "source": [
    "get_all_misclassified(dataset, target_function, w)"
   ]
  },
  {
   "cell_type": "code",
   "execution_count": 232,
   "metadata": {
    "collapsed": true
   },
   "outputs": [],
   "source": [
    "w = [-0.5569381, 0.47479243]"
   ]
  },
  {
   "cell_type": "code",
   "execution_count": 233,
   "metadata": {},
   "outputs": [
    {
     "name": "stdout",
     "output_type": "stream",
     "text": [
      "value: [ 0.5569381  -0.47479243]\n",
      "hypothesis: -1.0\n",
      "true val: -1.0\n",
      "value: [-0.19605403 -0.38043545]\n",
      "hypothesis: -1.0\n",
      "true val: -1.0\n",
      "value: [-0.79218672 -0.28998409]\n",
      "hypothesis: 1.0\n",
      "true val: -1.0\n"
     ]
    }
   ],
   "source": [
    "misclassified_indices = get_all_misclassified(dataset, target_function, w)"
   ]
  },
  {
   "cell_type": "code",
   "execution_count": 234,
   "metadata": {},
   "outputs": [
    {
     "data": {
      "text/plain": [
       "[2]"
      ]
     },
     "execution_count": 234,
     "metadata": {},
     "output_type": "execute_result"
    }
   ],
   "source": [
    "misclassified_indices"
   ]
  },
  {
   "cell_type": "code",
   "execution_count": 235,
   "metadata": {},
   "outputs": [
    {
     "name": "stdout",
     "output_type": "stream",
     "text": [
      "chosen idx: 2\n",
      "w: [ 0.23524862  0.76477652]\n"
     ]
    }
   ],
   "source": [
    "chosen_idx = random.choice(misclassified_indices)\n",
    "print(\"chosen idx: \" + str(chosen_idx))\n",
    "chosen_value = dataset[chosen_idx]\n",
    "\n",
    "# update weight vector: w <-- w + y_n * x_n\n",
    "w = w + np.multiply(y_vals[chosen_idx], dataset[chosen_idx])\n",
    "\n",
    "print(\"w: \" + str(w))"
   ]
  },
  {
   "cell_type": "code",
   "execution_count": 236,
   "metadata": {},
   "outputs": [
    {
     "name": "stdout",
     "output_type": "stream",
     "text": [
      "value: [ 0.5569381  -0.47479243]\n",
      "hypothesis: -1.0\n",
      "true val: -1.0\n",
      "value: [-0.19605403 -0.38043545]\n",
      "hypothesis: -1.0\n",
      "true val: -1.0\n",
      "value: [-0.79218672 -0.28998409]\n",
      "hypothesis: -1.0\n",
      "true val: -1.0\n"
     ]
    },
    {
     "data": {
      "text/plain": [
       "[]"
      ]
     },
     "execution_count": 236,
     "metadata": {},
     "output_type": "execute_result"
    }
   ],
   "source": [
    "get_all_misclassified(dataset, target_function, w)"
   ]
  },
  {
   "cell_type": "code",
   "execution_count": 294,
   "metadata": {
    "collapsed": true
   },
   "outputs": [],
   "source": [
    "def run_experiments(dataset, num_experiments):\n",
    "    \"\"\"\n",
    "    runs a number of experiments, returns average num iterations and correctness.\n",
    "    \"\"\"\n",
    "    total_num_wrong = 0\n",
    "    total_num_iters = 0\n",
    "    \n",
    "    for i in range(num_experiments):\n",
    "        target_function = create_target_function() # create a new target function every iter\n",
    "        \n",
    "        num_wrong, num_iters = PLA(dataset, target_function)\n",
    "        print(\"num wrong: \" + str(num_wrong))\n",
    "        print(\"num iters: \" + str(num_iters))\n",
    "        \n",
    "        total_num_wrong += num_wrong\n",
    "        total_num_iters += num_iters\n",
    "        \n",
    "    avg_wrong = total_num_wrong / num_experiments\n",
    "    avg_iters = total_num_iters / num_experiments\n",
    "    \n",
    "    return avg_wrong, avg_iters"
   ]
  },
  {
   "cell_type": "markdown",
   "metadata": {},
   "source": [
    "## Toying Around"
   ]
  },
  {
   "cell_type": "markdown",
   "metadata": {},
   "source": [
    "First, create the dataset."
   ]
  },
  {
   "cell_type": "code",
   "execution_count": 4,
   "metadata": {
    "collapsed": true
   },
   "outputs": [],
   "source": [
    "dataset = []"
   ]
  },
  {
   "cell_type": "code",
   "execution_count": 9,
   "metadata": {
    "collapsed": true
   },
   "outputs": [],
   "source": [
    "k = np.random.uniform(-1,1,2)"
   ]
  },
  {
   "cell_type": "code",
   "execution_count": 10,
   "metadata": {},
   "outputs": [
    {
     "data": {
      "text/plain": [
       "array([-0.65931984, -0.79239507])"
      ]
     },
     "execution_count": 10,
     "metadata": {},
     "output_type": "execute_result"
    }
   ],
   "source": [
    "k"
   ]
  },
  {
   "cell_type": "code",
   "execution_count": 13,
   "metadata": {},
   "outputs": [],
   "source": [
    "k = np.insert(k,0,1)"
   ]
  },
  {
   "cell_type": "code",
   "execution_count": 14,
   "metadata": {},
   "outputs": [
    {
     "data": {
      "text/plain": [
       "array([ 1.        , -0.65931984, -0.79239507])"
      ]
     },
     "execution_count": 14,
     "metadata": {},
     "output_type": "execute_result"
    }
   ],
   "source": [
    "k"
   ]
  },
  {
   "cell_type": "code",
   "execution_count": 15,
   "metadata": {
    "collapsed": true
   },
   "outputs": [],
   "source": [
    "# make dataset size 10.\n",
    "for i in range(10):\n",
    "    x = np.random.uniform(-1,1,2) # generate (x,y)\n",
    "    x = np.insert(x,0,1) # we want x_0 = 1.\n",
    "    dataset.append(x)"
   ]
  },
  {
   "cell_type": "code",
   "execution_count": 16,
   "metadata": {},
   "outputs": [
    {
     "data": {
      "text/plain": [
       "[array([ 1.        , -0.83357909, -0.65557992]),\n",
       " array([ 1.        , -0.62108246,  0.26966018]),\n",
       " array([ 1.        ,  0.22518042,  0.84570679]),\n",
       " array([ 1.        ,  0.05194516, -0.08916991]),\n",
       " array([ 1.        , -0.35100132, -0.14337638]),\n",
       " array([ 1.        ,  0.427136  , -0.79099269]),\n",
       " array([ 1.        , -0.76353379,  0.18367232]),\n",
       " array([ 1.        , -0.75880796, -0.87006413]),\n",
       " array([ 1.        ,  0.89793907, -0.8874835 ]),\n",
       " array([ 1.        ,  0.57937807, -0.44308955])]"
      ]
     },
     "execution_count": 16,
     "metadata": {},
     "output_type": "execute_result"
    }
   ],
   "source": [
    "dataset"
   ]
  },
  {
   "cell_type": "markdown",
   "metadata": {},
   "source": [
    "Above is the dataset we'll actually use. We use dataset_2d for visualization."
   ]
  },
  {
   "cell_type": "code",
   "execution_count": 17,
   "metadata": {
    "collapsed": true
   },
   "outputs": [],
   "source": [
    "dataset_2d = []"
   ]
  },
  {
   "cell_type": "code",
   "execution_count": 19,
   "metadata": {},
   "outputs": [],
   "source": [
    "for x in dataset:\n",
    "    x = np.delete(x,0) # remove first element\n",
    "    dataset_2d.append(x)"
   ]
  },
  {
   "cell_type": "code",
   "execution_count": 20,
   "metadata": {},
   "outputs": [
    {
     "data": {
      "text/plain": [
       "[array([-0.83357909, -0.65557992]),\n",
       " array([-0.62108246,  0.26966018]),\n",
       " array([ 0.22518042,  0.84570679]),\n",
       " array([ 0.05194516, -0.08916991]),\n",
       " array([-0.35100132, -0.14337638]),\n",
       " array([ 0.427136  , -0.79099269]),\n",
       " array([-0.76353379,  0.18367232]),\n",
       " array([-0.75880796, -0.87006413]),\n",
       " array([ 0.89793907, -0.8874835 ]),\n",
       " array([ 0.57937807, -0.44308955])]"
      ]
     },
     "execution_count": 20,
     "metadata": {},
     "output_type": "execute_result"
    }
   ],
   "source": [
    "dataset_2d"
   ]
  },
  {
   "cell_type": "markdown",
   "metadata": {},
   "source": [
    "Now we'll create the separator line."
   ]
  },
  {
   "cell_type": "code",
   "execution_count": 25,
   "metadata": {
    "collapsed": true
   },
   "outputs": [],
   "source": [
    "target_function = create_target_function()"
   ]
  },
  {
   "cell_type": "code",
   "execution_count": 26,
   "metadata": {},
   "outputs": [
    {
     "data": {
      "text/plain": [
       "(1.1802585289485523, -0.12196990811294144)"
      ]
     },
     "execution_count": 26,
     "metadata": {},
     "output_type": "execute_result"
    }
   ],
   "source": [
    "target_function"
   ]
  },
  {
   "cell_type": "code",
   "execution_count": 27,
   "metadata": {
    "collapsed": true
   },
   "outputs": [],
   "source": [
    "x_vals = [x[1] for x in dataset]\n",
    "y_vals = [x[2] for x in dataset]\n",
    "\n",
    "polynomial = np.poly1d(target_function)"
   ]
  },
  {
   "cell_type": "code",
   "execution_count": 56,
   "metadata": {},
   "outputs": [
    {
     "data": {
      "text/plain": [
       "poly1d([ 1.18025853, -0.12196991])"
      ]
     },
     "execution_count": 56,
     "metadata": {},
     "output_type": "execute_result"
    }
   ],
   "source": [
    "polynomial"
   ]
  },
  {
   "cell_type": "code",
   "execution_count": 28,
   "metadata": {
    "collapsed": true
   },
   "outputs": [],
   "source": [
    "x_axis = np.linspace(-1, 1)\n",
    "y_axis = polynomial(x_axis)"
   ]
  },
  {
   "cell_type": "code",
   "execution_count": 29,
   "metadata": {},
   "outputs": [
    {
     "data": {
      "image/png": "[encoded data removed]",
      "text/plain": [
       "<matplotlib.figure.Figure at 0x1ea453e5a58>"
      ]
     },
     "metadata": {},
     "output_type": "display_data"
    }
   ],
   "source": [
    "fig = plt.figure()\n",
    "axes = plt.axes()\n",
    "axes.plot(x_axis, y_axis)\n",
    "plt.axhline(0, color='k')\n",
    "plt.axvline(0, color='k')\n",
    "axes.plot(x_vals, y_vals, 'ro')\n",
    "plt.show()"
   ]
  },
  {
   "cell_type": "markdown",
   "metadata": {},
   "source": [
    "The data is clearly linearly separable. The 6 points above the line are classified with value 1, while the 4 below have value 2.\n",
    "\n",
    "The goal is now to create a prediction line separating the data that is the same as this."
   ]
  },
  {
   "cell_type": "markdown",
   "metadata": {},
   "source": [
    "We'll create a y-vector storing the values."
   ]
  },
  {
   "cell_type": "code",
   "execution_count": 30,
   "metadata": {
    "collapsed": true
   },
   "outputs": [],
   "source": [
    "(weight, bias) = target_function\n",
    "# weight, bias = create_target_function() # line is weight*x + bias\n",
    "y = np.zeros(len(dataset)) # size 10"
   ]
  },
  {
   "cell_type": "markdown",
   "metadata": {},
   "source": [
    "We'll fill up y with the actual values for x. These aren't \"predictions\" persay but actual ground-truth values."
   ]
  },
  {
   "cell_type": "code",
   "execution_count": 31,
   "metadata": {
    "collapsed": true
   },
   "outputs": [],
   "source": [
    "for index in range(len(dataset)):\n",
    "    x = dataset[index]\n",
    "    x1, x2 = x[1], x[2] # b/c x[0] = x_0 is 1\n",
    "    if weight*x1 + bias <= x2:\n",
    "        true_val = 1\n",
    "    else:\n",
    "        true_val = -1\n",
    "    y[index] = true_val"
   ]
  },
  {
   "cell_type": "code",
   "execution_count": 32,
   "metadata": {},
   "outputs": [
    {
     "data": {
      "text/plain": [
       "([array([ 1.        , -0.83357909, -0.65557992]),\n",
       "  array([ 1.        , -0.62108246,  0.26966018]),\n",
       "  array([ 1.        ,  0.22518042,  0.84570679]),\n",
       "  array([ 1.        ,  0.05194516, -0.08916991]),\n",
       "  array([ 1.        , -0.35100132, -0.14337638]),\n",
       "  array([ 1.        ,  0.427136  , -0.79099269]),\n",
       "  array([ 1.        , -0.76353379,  0.18367232]),\n",
       "  array([ 1.        , -0.75880796, -0.87006413]),\n",
       "  array([ 1.        ,  0.89793907, -0.8874835 ]),\n",
       "  array([ 1.        ,  0.57937807, -0.44308955])],\n",
       " array([ 1.,  1.,  1., -1.,  1., -1.,  1.,  1., -1., -1.]))"
      ]
     },
     "execution_count": 32,
     "metadata": {},
     "output_type": "execute_result"
    }
   ],
   "source": [
    "dataset, y"
   ]
  },
  {
   "cell_type": "markdown",
   "metadata": {},
   "source": [
    "Now we can see which truth values correspond to which elements."
   ]
  },
  {
   "cell_type": "markdown",
   "metadata": {},
   "source": [
    "Now, we want a target_function that will take the value in the dataset and return the corresponding value in the array."
   ]
  },
  {
   "cell_type": "code",
   "execution_count": 36,
   "metadata": {},
   "outputs": [
    {
     "data": {
      "text/plain": [
       "[array([ 1.        , -0.83357909, -0.65557992]),\n",
       " array([ 1.        , -0.62108246,  0.26966018]),\n",
       " array([ 1.        ,  0.22518042,  0.84570679]),\n",
       " array([ 1.        ,  0.05194516, -0.08916991]),\n",
       " array([ 1.        , -0.35100132, -0.14337638]),\n",
       " array([ 1.        ,  0.427136  , -0.79099269]),\n",
       " array([ 1.        , -0.76353379,  0.18367232]),\n",
       " array([ 1.        , -0.75880796, -0.87006413]),\n",
       " array([ 1.        ,  0.89793907, -0.8874835 ]),\n",
       " array([ 1.        ,  0.57937807, -0.44308955])]"
      ]
     },
     "execution_count": 36,
     "metadata": {},
     "output_type": "execute_result"
    }
   ],
   "source": [
    "list(dataset)"
   ]
  },
  {
   "cell_type": "code",
   "execution_count": 41,
   "metadata": {},
   "outputs": [
    {
     "data": {
      "text/plain": [
       "(array([0, 1, 2, 3, 4, 5, 6, 7, 8, 9], dtype=int64),\n",
       " array([0, 0, 0, 0, 0, 0, 0, 0, 0, 0], dtype=int64))"
      ]
     },
     "execution_count": 41,
     "metadata": {},
     "output_type": "execute_result"
    }
   ],
   "source": [
    "np.where(dataset==np.array([ 1.        , -0.83357909, -0.65557992]))"
   ]
  },
  {
   "cell_type": "code",
   "execution_count": 42,
   "metadata": {
    "collapsed": true
   },
   "outputs": [],
   "source": [
    "def target_function(point):\n",
    "    \"\"\"\n",
    "    take a point in the dataset and return the value 1 or -1, depending on if it's above/below the line.\n",
    "    \"\"\"\n",
    "    \n",
    "    x1, x2 = point[1], point[2] # b/c x[0] = x_0 is 1\n",
    "    if weight*x1 + bias <= x2:\n",
    "        return 1\n",
    "    else:\n",
    "        return -1"
   ]
  },
  {
   "cell_type": "code",
   "execution_count": 43,
   "metadata": {
    "collapsed": true
   },
   "outputs": [],
   "source": [
    "test = dataset[0]"
   ]
  },
  {
   "cell_type": "code",
   "execution_count": 44,
   "metadata": {},
   "outputs": [
    {
     "data": {
      "text/plain": [
       "array([ 1.        , -0.83357909, -0.65557992])"
      ]
     },
     "execution_count": 44,
     "metadata": {},
     "output_type": "execute_result"
    }
   ],
   "source": [
    "test"
   ]
  },
  {
   "cell_type": "code",
   "execution_count": 45,
   "metadata": {},
   "outputs": [
    {
     "data": {
      "text/plain": [
       "1"
      ]
     },
     "execution_count": 45,
     "metadata": {},
     "output_type": "execute_result"
    }
   ],
   "source": [
    "target_function(test)"
   ]
  },
  {
   "cell_type": "markdown",
   "metadata": {},
   "source": [
    "Now, we'll create a weight vector and do things."
   ]
  },
  {
   "cell_type": "code",
   "execution_count": 60,
   "metadata": {
    "collapsed": true
   },
   "outputs": [],
   "source": [
    "w = np.zeros(3)"
   ]
  },
  {
   "cell_type": "code",
   "execution_count": 61,
   "metadata": {
    "collapsed": true
   },
   "outputs": [],
   "source": [
    "done = False"
   ]
  },
  {
   "cell_type": "code",
   "execution_count": 62,
   "metadata": {},
   "outputs": [
    {
     "name": "stderr",
     "output_type": "stream",
     "text": [
      "C:\\Python35\\lib\\site-packages\\ipykernel_launcher.py:5: RuntimeWarning: overflow encountered in add\n",
      "  \"\"\"\n",
      "C:\\Python35\\lib\\site-packages\\ipykernel_launcher.py:4: RuntimeWarning: invalid value encountered in sign\n",
      "  after removing the cwd from sys.path.\n"
     ]
    },
    {
     "ename": "KeyboardInterrupt",
     "evalue": "",
     "output_type": "error",
     "traceback": [
      "\u001b[1;31m---------------------------------------------------------------------------\u001b[0m",
      "\u001b[1;31mKeyboardInterrupt\u001b[0m                         Traceback (most recent call last)",
      "\u001b[1;32m<ipython-input-62-954882f5bac0>\u001b[0m in \u001b[0;36m<module>\u001b[1;34m()\u001b[0m\n\u001b[0;32m      2\u001b[0m     \u001b[0mnum_wrong\u001b[0m \u001b[1;33m=\u001b[0m \u001b[1;36m0\u001b[0m\u001b[1;33m\u001b[0m\u001b[0m\n\u001b[0;32m      3\u001b[0m     \u001b[1;32mfor\u001b[0m \u001b[0mpoint\u001b[0m \u001b[1;32min\u001b[0m \u001b[0mdataset\u001b[0m\u001b[1;33m:\u001b[0m\u001b[1;33m\u001b[0m\u001b[0m\n\u001b[1;32m----> 4\u001b[1;33m         \u001b[1;32mif\u001b[0m \u001b[0mnp\u001b[0m\u001b[1;33m.\u001b[0m\u001b[0msign\u001b[0m\u001b[1;33m(\u001b[0m\u001b[0mnp\u001b[0m\u001b[1;33m.\u001b[0m\u001b[0mdot\u001b[0m\u001b[1;33m(\u001b[0m\u001b[0mw\u001b[0m\u001b[1;33m,\u001b[0m\u001b[0mpoint\u001b[0m\u001b[1;33m)\u001b[0m\u001b[1;33m)\u001b[0m \u001b[1;33m!=\u001b[0m \u001b[0mtarget_function\u001b[0m\u001b[1;33m(\u001b[0m\u001b[0mpoint\u001b[0m\u001b[1;33m)\u001b[0m\u001b[1;33m:\u001b[0m\u001b[1;33m\u001b[0m\u001b[0m\n\u001b[0m\u001b[0;32m      5\u001b[0m             \u001b[0mw\u001b[0m \u001b[1;33m+=\u001b[0m \u001b[0mnp\u001b[0m\u001b[1;33m.\u001b[0m\u001b[0madd\u001b[0m\u001b[1;33m(\u001b[0m\u001b[0mw\u001b[0m\u001b[1;33m,\u001b[0m \u001b[0mtarget_function\u001b[0m\u001b[1;33m(\u001b[0m\u001b[0mpoint\u001b[0m\u001b[1;33m)\u001b[0m \u001b[1;33m*\u001b[0m \u001b[0mpoint\u001b[0m\u001b[1;33m)\u001b[0m \u001b[1;31m# move w in right direction\u001b[0m\u001b[1;33m\u001b[0m\u001b[0m\n\u001b[0;32m      6\u001b[0m             \u001b[0mnum_wrong\u001b[0m \u001b[1;33m+=\u001b[0m \u001b[1;36m1\u001b[0m\u001b[1;33m\u001b[0m\u001b[0m\n",
      "\u001b[1;31mKeyboardInterrupt\u001b[0m: "
     ]
    }
   ],
   "source": [
    "while not done:\n",
    "    num_wrong = 0\n",
    "    for point in dataset:\n",
    "        if np.sign(np.dot(w,point)) != target_function(point):\n",
    "            w += np.add(w, target_function(point) * point) # move w in right direction\n",
    "            num_wrong += 1\n",
    "            break\n",
    "            \n",
    "    if num_wrong == 0:\n",
    "        done = True"
   ]
  },
  {
   "cell_type": "code",
   "execution_count": 64,
   "metadata": {},
   "outputs": [
    {
     "data": {
      "text/plain": [
       "array([ inf, -inf, -inf])"
      ]
     },
     "execution_count": 64,
     "metadata": {},
     "output_type": "execute_result"
    }
   ],
   "source": [
    "w"
   ]
  },
  {
   "cell_type": "code",
   "execution_count": 49,
   "metadata": {},
   "outputs": [
    {
     "data": {
      "text/plain": [
       "array([ 1.        , -1.71910335, -1.22198993])"
      ]
     },
     "execution_count": 49,
     "metadata": {},
     "output_type": "execute_result"
    }
   ],
   "source": [
    "w"
   ]
  },
  {
   "cell_type": "code",
   "execution_count": 50,
   "metadata": {
    "collapsed": true
   },
   "outputs": [],
   "source": [
    "params = np.delete(w,0)"
   ]
  },
  {
   "cell_type": "code",
   "execution_count": 51,
   "metadata": {},
   "outputs": [
    {
     "data": {
      "text/plain": [
       "array([-1.71910335, -1.22198993])"
      ]
     },
     "execution_count": 51,
     "metadata": {},
     "output_type": "execute_result"
    }
   ],
   "source": [
    "params"
   ]
  },
  {
   "cell_type": "markdown",
   "metadata": {},
   "source": [
    "Now let's plot an overlay."
   ]
  },
  {
   "cell_type": "code",
   "execution_count": 52,
   "metadata": {
    "collapsed": true
   },
   "outputs": [],
   "source": [
    "poly = np.poly1d(params)"
   ]
  },
  {
   "cell_type": "code",
   "execution_count": 53,
   "metadata": {},
   "outputs": [
    {
     "data": {
      "text/plain": [
       "poly1d([-1.71910335, -1.22198993])"
      ]
     },
     "execution_count": 53,
     "metadata": {},
     "output_type": "execute_result"
    }
   ],
   "source": [
    "poly"
   ]
  },
  {
   "cell_type": "code",
   "execution_count": 54,
   "metadata": {
    "collapsed": true
   },
   "outputs": [],
   "source": [
    "x_new = np.linspace(-1, 1)\n",
    "y_new = poly(x_axis)"
   ]
  },
  {
   "cell_type": "code",
   "execution_count": 55,
   "metadata": {},
   "outputs": [
    {
     "data": {
      "image/png": "[encoded data removed]",
      "text/plain": [
       "<matplotlib.figure.Figure at 0x1ea4565fe80>"
      ]
     },
     "metadata": {},
     "output_type": "display_data"
    }
   ],
   "source": [
    "fig = plt.figure()\n",
    "axes = plt.axes()\n",
    "axes.plot(x_new, y_new)\n",
    "plt.axhline(0, color='k')\n",
    "plt.axvline(0, color='k')\n",
    "axes.plot(x_vals, y_vals, 'ro')\n",
    "plt.show()"
   ]
  },
  {
   "cell_type": "code",
   "execution_count": 58,
   "metadata": {},
   "outputs": [
    {
     "name": "stdout",
     "output_type": "stream",
     "text": [
      "1\n",
      "1\n",
      "1\n",
      "-1\n",
      "1\n",
      "-1\n",
      "1\n",
      "1\n",
      "-1\n",
      "-1\n"
     ]
    }
   ],
   "source": [
    "for point in dataset:\n",
    "    print(target_function(point))"
   ]
  },
  {
   "cell_type": "code",
   "execution_count": 59,
   "metadata": {},
   "outputs": [
    {
     "name": "stdout",
     "output_type": "stream",
     "text": [
      "1.0\n",
      "1.0\n",
      "-1.0\n",
      "1.0\n",
      "1.0\n",
      "1.0\n",
      "1.0\n",
      "1.0\n",
      "1.0\n",
      "1.0\n"
     ]
    }
   ],
   "source": [
    "for point in dataset:\n",
    "    print(np.sign(np.dot(w, point)))"
   ]
  },
  {
   "cell_type": "code",
   "execution_count": 69,
   "metadata": {
    "collapsed": true
   },
   "outputs": [],
   "source": [
    "small_dataset = dataset[0:4]"
   ]
  },
  {
   "cell_type": "code",
   "execution_count": 70,
   "metadata": {},
   "outputs": [
    {
     "data": {
      "text/plain": [
       "[array([ 1.        , -0.83357909, -0.65557992]),\n",
       " array([ 1.        , -0.62108246,  0.26966018]),\n",
       " array([ 1.        ,  0.22518042,  0.84570679]),\n",
       " array([ 1.        ,  0.05194516, -0.08916991])]"
      ]
     },
     "execution_count": 70,
     "metadata": {},
     "output_type": "execute_result"
    }
   ],
   "source": [
    "small_dataset"
   ]
  },
  {
   "cell_type": "code",
   "execution_count": 71,
   "metadata": {
    "collapsed": true
   },
   "outputs": [],
   "source": [
    "x_vals = [x[1] for x in small_dataset]\n",
    "y_vals = [x[2] for x in small_dataset]\n",
    "\n",
    "polynomial = np.poly1d(target_function)"
   ]
  },
  {
   "cell_type": "code",
   "execution_count": 72,
   "metadata": {},
   "outputs": [
    {
     "data": {
      "image/png": "[encoded data removed]",
      "text/plain": [
       "<matplotlib.figure.Figure at 0x1ea453bb898>"
      ]
     },
     "metadata": {},
     "output_type": "display_data"
    }
   ],
   "source": [
    "fig = plt.figure()\n",
    "axes = plt.axes()\n",
    "axes.plot(x_axis, y_axis)\n",
    "plt.axhline(0, color='k')\n",
    "plt.axvline(0, color='k')\n",
    "axes.plot(x_vals, y_vals, 'ro')\n",
    "plt.show()"
   ]
  },
  {
   "cell_type": "code",
   "execution_count": 73,
   "metadata": {},
   "outputs": [
    {
     "name": "stdout",
     "output_type": "stream",
     "text": [
      "1\n",
      "1\n",
      "1\n",
      "-1\n"
     ]
    }
   ],
   "source": [
    "for point in small_dataset:\n",
    "    print(target_function(point))"
   ]
  },
  {
   "cell_type": "code",
   "execution_count": 74,
   "metadata": {
    "collapsed": true
   },
   "outputs": [],
   "source": [
    "w = np.zeros(3)"
   ]
  },
  {
   "cell_type": "code",
   "execution_count": null,
   "metadata": {
    "collapsed": true
   },
   "outputs": [],
   "source": [
    "if np.sign(np.dot(w,point)) != target_function(point):\n",
    "            w += np.add(w, target_function(point) * point) # move w in right direction\n",
    "            num_wrong += 1\n",
    "            break"
   ]
  },
  {
   "cell_type": "code",
   "execution_count": 75,
   "metadata": {
    "collapsed": true
   },
   "outputs": [],
   "source": [
    "point = small_dataset[0]"
   ]
  },
  {
   "cell_type": "code",
   "execution_count": 76,
   "metadata": {},
   "outputs": [
    {
     "data": {
      "text/plain": [
       "0.0"
      ]
     },
     "execution_count": 76,
     "metadata": {},
     "output_type": "execute_result"
    }
   ],
   "source": [
    "np.sign(np.dot(w,point))"
   ]
  },
  {
   "cell_type": "code",
   "execution_count": 77,
   "metadata": {},
   "outputs": [
    {
     "data": {
      "text/plain": [
       "1"
      ]
     },
     "execution_count": 77,
     "metadata": {},
     "output_type": "execute_result"
    }
   ],
   "source": [
    "target_function(point)"
   ]
  },
  {
   "cell_type": "code",
   "execution_count": 78,
   "metadata": {},
   "outputs": [
    {
     "data": {
      "text/plain": [
       "False"
      ]
     },
     "execution_count": 78,
     "metadata": {},
     "output_type": "execute_result"
    }
   ],
   "source": [
    "np.sign(np.dot(w,point)) == target_function(point)"
   ]
  },
  {
   "cell_type": "code",
   "execution_count": 79,
   "metadata": {},
   "outputs": [
    {
     "data": {
      "text/plain": [
       "array([ 1.        , -0.83357909, -0.65557992])"
      ]
     },
     "execution_count": 79,
     "metadata": {},
     "output_type": "execute_result"
    }
   ],
   "source": [
    "target_function(point) * point"
   ]
  },
  {
   "cell_type": "code",
   "execution_count": 80,
   "metadata": {
    "collapsed": true
   },
   "outputs": [],
   "source": [
    "w += np.add(w, target_function(point) * point)"
   ]
  },
  {
   "cell_type": "code",
   "execution_count": 81,
   "metadata": {},
   "outputs": [
    {
     "data": {
      "text/plain": [
       "array([ 1.        , -0.83357909, -0.65557992])"
      ]
     },
     "execution_count": 81,
     "metadata": {},
     "output_type": "execute_result"
    }
   ],
   "source": [
    "w"
   ]
  },
  {
   "cell_type": "code",
   "execution_count": 82,
   "metadata": {
    "collapsed": true
   },
   "outputs": [],
   "source": [
    "params = np.delete(w,0)"
   ]
  },
  {
   "cell_type": "code",
   "execution_count": 83,
   "metadata": {
    "collapsed": true
   },
   "outputs": [],
   "source": [
    "poly =  np.poly1d(params)"
   ]
  },
  {
   "cell_type": "code",
   "execution_count": 84,
   "metadata": {
    "collapsed": true
   },
   "outputs": [],
   "source": [
    "x_new = np.linspace(-1, 1)\n",
    "y_new = poly(x_axis)"
   ]
  },
  {
   "cell_type": "markdown",
   "metadata": {},
   "source": [
    "So after 1 iter we get this:"
   ]
  },
  {
   "cell_type": "code",
   "execution_count": 85,
   "metadata": {},
   "outputs": [
    {
     "data": {
      "image/png": "[encoded data removed]",
      "text/plain": [
       "<matplotlib.figure.Figure at 0x1ea45859dd8>"
      ]
     },
     "metadata": {},
     "output_type": "display_data"
    }
   ],
   "source": [
    "fig = plt.figure()\n",
    "axes = plt.axes()\n",
    "axes.plot(x_new, y_new)\n",
    "plt.axhline(0, color='k')\n",
    "plt.axvline(0, color='k')\n",
    "axes.plot(x_vals, y_vals, 'ro')\n",
    "plt.show()"
   ]
  },
  {
   "cell_type": "code",
   "execution_count": 86,
   "metadata": {
    "collapsed": true
   },
   "outputs": [],
   "source": [
    "w += np.add(w, target_function(small_dataset[1]) * small_dataset[1])"
   ]
  },
  {
   "cell_type": "code",
   "execution_count": null,
   "metadata": {
    "collapsed": true
   },
   "outputs": [],
   "source": [
    "params = np.delete(w,0)\n",
    "\n",
    "poly =  np.poly1d(params)\n",
    "x_new = np.linspace(-1, 1)\n",
    "y_new = poly(x_axis)\n",
    "\n",
    "fig = plt.figure()\n",
    "axes = plt.axes()\n",
    "axes.plot(x_new, y_new)\n",
    "plt.axhline(0, color='k')\n",
    "plt.axvline(0, color='k')\n",
    "axes.plot(x_vals, y_vals, 'ro')\n",
    "plt.show()"
   ]
  },
  {
   "cell_type": "code",
   "execution_count": null,
   "metadata": {
    "collapsed": true
   },
   "outputs": [],
   "source": []
  },
  {
   "cell_type": "code",
   "execution_count": null,
   "metadata": {
    "collapsed": true
   },
   "outputs": [],
   "source": []
  },
  {
   "cell_type": "code",
   "execution_count": null,
   "metadata": {
    "collapsed": true
   },
   "outputs": [],
   "source": []
  },
  {
   "cell_type": "code",
   "execution_count": null,
   "metadata": {
    "collapsed": true
   },
   "outputs": [],
   "source": []
  },
  {
   "cell_type": "code",
   "execution_count": null,
   "metadata": {
    "collapsed": true
   },
   "outputs": [],
   "source": []
  },
  {
   "cell_type": "code",
   "execution_count": null,
   "metadata": {
    "collapsed": true
   },
   "outputs": [],
   "source": []
  },
  {
   "cell_type": "markdown",
   "metadata": {},
   "source": [
    "## Problem 7"
   ]
  },
  {
   "cell_type": "markdown",
   "metadata": {},
   "source": [
    "Now that we've written the code, let's try a number of tests with 10 training points."
   ]
  },
  {
   "cell_type": "code",
   "execution_count": 295,
   "metadata": {
    "collapsed": true
   },
   "outputs": [],
   "source": [
    "dataset = create_dataset(size=10)\n",
    "target_function = create_target_function()"
   ]
  },
  {
   "cell_type": "code",
   "execution_count": 296,
   "metadata": {},
   "outputs": [
    {
     "data": {
      "text/plain": [
       "([array([ 0.50447079,  0.44472886]),\n",
       "  array([-0.34692215,  0.34655712]),\n",
       "  array([-0.64452244, -0.77717203]),\n",
       "  array([ 0.91292556, -0.14183649]),\n",
       "  array([-0.76035426,  0.79586278]),\n",
       "  array([-0.43567624, -0.72772066]),\n",
       "  array([ 0.95099553, -0.20865969]),\n",
       "  array([ 0.90991103, -0.80259751]),\n",
       "  array([ 0.1466349 ,  0.53204653]),\n",
       "  array([ 0.74161213, -0.19608327])],\n",
       " (-1.0734419554609853, -0.73607613101628888))"
      ]
     },
     "execution_count": 296,
     "metadata": {},
     "output_type": "execute_result"
    }
   ],
   "source": [
    "dataset, target_function"
   ]
  },
  {
   "cell_type": "code",
   "execution_count": 307,
   "metadata": {
    "collapsed": true
   },
   "outputs": [],
   "source": [
    "x_vals = [x[0] for x in dataset]\n",
    "y_vals = [x[1] for x in dataset]\n",
    "\n",
    "polynomial = np.poly1d(target_function)\n",
    "\n",
    "x_axis = np.linspace(-1, 1)\n",
    "y_axis = polynomial(x_axis)"
   ]
  },
  {
   "cell_type": "code",
   "execution_count": 308,
   "metadata": {},
   "outputs": [
    {
     "data": {
      "image/png": "[encoded data removed]",
      "text/plain": [
       "<matplotlib.figure.Figure at 0x1b7fedf54e0>"
      ]
     },
     "metadata": {},
     "output_type": "display_data"
    }
   ],
   "source": [
    "fig = plt.figure()\n",
    "axes = plt.axes()\n",
    "axes.plot(x_axis, y_axis)\n",
    "plt.axhline(0, color='k')\n",
    "plt.axvline(0, color='k')\n",
    "axes.plot(x_vals, y_vals, 'ro')\n",
    "plt.show()"
   ]
  },
  {
   "cell_type": "code",
   "execution_count": 303,
   "metadata": {
    "collapsed": true
   },
   "outputs": [],
   "source": [
    "y_vals = eval_target_function(dataset, target_function)"
   ]
  },
  {
   "cell_type": "code",
   "execution_count": 304,
   "metadata": {},
   "outputs": [
    {
     "data": {
      "text/plain": [
       "array([ 1.,  1., -1.,  1.,  1., -1.,  1.,  1.,  1.,  1.])"
      ]
     },
     "execution_count": 304,
     "metadata": {},
     "output_type": "execute_result"
    }
   ],
   "source": [
    "y_vals"
   ]
  },
  {
   "cell_type": "markdown",
   "metadata": {},
   "source": [
    "This makes sense. We have two points that are \"under\" the line."
   ]
  },
  {
   "cell_type": "code",
   "execution_count": 309,
   "metadata": {
    "collapsed": true
   },
   "outputs": [],
   "source": [
    "w = np.zeros(2) # init weight vector to 2 zeros: inner product of w,x is 0 --> sign(wTx) = 0\n",
    "indices = [i for i in range(len(dataset))]\n",
    "misclassified_indices = indices # everything is misclassified at first"
   ]
  },
  {
   "cell_type": "code",
   "execution_count": 310,
   "metadata": {},
   "outputs": [
    {
     "data": {
      "text/plain": [
       "[0, 1, 2, 3, 4, 5, 6, 7, 8, 9]"
      ]
     },
     "execution_count": 310,
     "metadata": {},
     "output_type": "execute_result"
    }
   ],
   "source": [
    "misclassified_indices"
   ]
  },
  {
   "cell_type": "markdown",
   "metadata": {},
   "source": [
    "Let's do one iteration."
   ]
  },
  {
   "cell_type": "code",
   "execution_count": 311,
   "metadata": {},
   "outputs": [
    {
     "name": "stdout",
     "output_type": "stream",
     "text": [
      "chosen idx: 7\n",
      "new weight vector: [-0.73029233  0.64416277]\n",
      "misclassifieds now: [0, 3, 6, 7, 9]\n"
     ]
    }
   ],
   "source": [
    "chosen_idx = random.choice(misclassified_indices)\n",
    "print(\"chosen idx: \" + str(chosen_idx))\n",
    "chosen_value = dataset[chosen_idx]\n",
    "\n",
    "# update weight vector: w <-- w + y_n * x_n\n",
    "w = w + np.multiply(y_vals[chosen_idx], dataset[chosen_idx]) # the second element is (1,2) since mult el't-wise.\n",
    "print(\"new weight vector: \" + str(w))\n",
    "\n",
    "# update misclassified indices\n",
    "misclassified_indices = get_all_misclassified(dataset, target_function, w)\n",
    "print(\"misclassifieds now: \" + str(misclassified_indices))"
   ]
  },
  {
   "cell_type": "markdown",
   "metadata": {},
   "source": [
    "Let's see what graph looks like after one iter."
   ]
  },
  {
   "cell_type": "code",
   "execution_count": 312,
   "metadata": {
    "collapsed": true
   },
   "outputs": [],
   "source": [
    "polynomial = np.poly1d(w)\n",
    "\n",
    "x_axis = np.linspace(-1, 1)\n",
    "y_axis = polynomial(x_axis)"
   ]
  },
  {
   "cell_type": "code",
   "execution_count": 313,
   "metadata": {},
   "outputs": [
    {
     "data": {
      "image/png": "[encoded data removed]",
      "text/plain": [
       "<matplotlib.figure.Figure at 0x1b7fef99320>"
      ]
     },
     "metadata": {},
     "output_type": "display_data"
    }
   ],
   "source": [
    "fig = plt.figure()\n",
    "axes = plt.axes()\n",
    "axes.plot(x_axis, y_axis)\n",
    "plt.axhline(0, color='k')\n",
    "plt.axvline(0, color='k')\n",
    "axes.plot(x_vals, y_vals, 'ro')\n",
    "plt.show()"
   ]
  },
  {
   "cell_type": "code",
   "execution_count": 314,
   "metadata": {},
   "outputs": [
    {
     "name": "stdout",
     "output_type": "stream",
     "text": [
      "chosen idx: 6\n",
      "new weight vector: [-0.92872676  0.68770163]\n",
      "misclassifieds now: [0, 2, 3, 6, 7, 9]\n"
     ]
    }
   ],
   "source": [
    "chosen_idx = random.choice(misclassified_indices)\n",
    "print(\"chosen idx: \" + str(chosen_idx))\n",
    "chosen_value = dataset[chosen_idx]\n",
    "\n",
    "# update weight vector: w <-- w + y_n * x_n\n",
    "w = w + np.multiply(y_vals[chosen_idx], dataset[chosen_idx]) # the second element is (1,2) since mult el't-wise.\n",
    "print(\"new weight vector: \" + str(w))\n",
    "\n",
    "# update misclassified indices\n",
    "misclassified_indices = get_all_misclassified(dataset, target_function, w)\n",
    "print(\"misclassifieds now: \" + str(misclassified_indices))"
   ]
  },
  {
   "cell_type": "code",
   "execution_count": 315,
   "metadata": {},
   "outputs": [
    {
     "name": "stdout",
     "output_type": "stream",
     "text": [
      "chosen idx: 6\n",
      "new weight vector: [-1.12716119  0.7312405 ]\n",
      "misclassifieds now: [0, 2, 3, 6, 7, 9]\n"
     ]
    }
   ],
   "source": [
    "chosen_idx = random.choice(misclassified_indices)\n",
    "print(\"chosen idx: \" + str(chosen_idx))\n",
    "chosen_value = dataset[chosen_idx]\n",
    "\n",
    "# update weight vector: w <-- w + y_n * x_n\n",
    "w = w + np.multiply(y_vals[chosen_idx], dataset[chosen_idx]) # the second element is (1,2) since mult el't-wise.\n",
    "print(\"new weight vector: \" + str(w))\n",
    "\n",
    "# update misclassified indices\n",
    "misclassified_indices = get_all_misclassified(dataset, target_function, w)\n",
    "print(\"misclassifieds now: \" + str(misclassified_indices))"
   ]
  },
  {
   "cell_type": "code",
   "execution_count": 316,
   "metadata": {},
   "outputs": [
    {
     "name": "stdout",
     "output_type": "stream",
     "text": [
      "chosen idx: 3\n",
      "new weight vector: [-1.25664735  0.75135809]\n",
      "misclassifieds now: [0, 2, 3, 5, 6, 7, 9]\n"
     ]
    }
   ],
   "source": [
    "chosen_idx = random.choice(misclassified_indices)\n",
    "print(\"chosen idx: \" + str(chosen_idx))\n",
    "chosen_value = dataset[chosen_idx]\n",
    "\n",
    "# update weight vector: w <-- w + y_n * x_n\n",
    "w = w + np.multiply(y_vals[chosen_idx], dataset[chosen_idx]) # the second element is (1,2) since mult el't-wise.\n",
    "print(\"new weight vector: \" + str(w))\n",
    "\n",
    "# update misclassified indices\n",
    "misclassified_indices = get_all_misclassified(dataset, target_function, w)\n",
    "print(\"misclassifieds now: \" + str(misclassified_indices))"
   ]
  },
  {
   "cell_type": "code",
   "execution_count": 317,
   "metadata": {},
   "outputs": [
    {
     "name": "stdout",
     "output_type": "stream",
     "text": [
      "chosen idx: 5\n",
      "new weight vector: [-0.93959675  1.28093545]\n",
      "misclassifieds now: [3, 6, 7, 9]\n"
     ]
    }
   ],
   "source": [
    "chosen_idx = random.choice(misclassified_indices)\n",
    "print(\"chosen idx: \" + str(chosen_idx))\n",
    "chosen_value = dataset[chosen_idx]\n",
    "\n",
    "# update weight vector: w <-- w + y_n * x_n\n",
    "w = w + np.multiply(y_vals[chosen_idx], dataset[chosen_idx]) # the second element is (1,2) since mult el't-wise.\n",
    "print(\"new weight vector: \" + str(w))\n",
    "\n",
    "# update misclassified indices\n",
    "misclassified_indices = get_all_misclassified(dataset, target_function, w)\n",
    "print(\"misclassifieds now: \" + str(misclassified_indices))"
   ]
  },
  {
   "cell_type": "code",
   "execution_count": 318,
   "metadata": {},
   "outputs": [
    {
     "name": "stdout",
     "output_type": "stream",
     "text": [
      "chosen idx: 7\n",
      "new weight vector: [-1.66988908  1.92509821]\n",
      "misclassifieds now: [3, 6, 7, 9]\n",
      "chosen idx: 7\n",
      "new weight vector: [-2.4001814   2.56926098]\n",
      "misclassifieds now: [0, 3, 6, 7, 9]\n",
      "chosen idx: 3\n",
      "new weight vector: [-2.52966756  2.58937857]\n",
      "misclassifieds now: [0, 3, 6, 7, 9]\n",
      "chosen idx: 3\n",
      "new weight vector: [-2.65915371  2.60949616]\n",
      "misclassifieds now: [0, 3, 6, 7, 9]\n",
      "chosen idx: 7\n",
      "new weight vector: [-3.38944604  3.25365892]\n",
      "misclassifieds now: [0, 3, 6, 7, 9]\n",
      "chosen idx: 6\n",
      "new weight vector: [-3.58788047  3.29719779]\n",
      "misclassifieds now: [0, 3, 6, 7, 9]\n",
      "chosen idx: 0\n",
      "new weight vector: [-3.36352775  3.49498155]\n",
      "misclassifieds now: [0, 3, 6, 7, 9]\n"
     ]
    }
   ],
   "source": [
    "for i in range(7):\n",
    "    chosen_idx = random.choice(misclassified_indices)\n",
    "    print(\"chosen idx: \" + str(chosen_idx))\n",
    "    chosen_value = dataset[chosen_idx]\n",
    "\n",
    "    # update weight vector: w <-- w + y_n * x_n\n",
    "    w = w + np.multiply(y_vals[chosen_idx], dataset[chosen_idx]) # the second element is (1,2) since mult el't-wise.\n",
    "    print(\"new weight vector: \" + str(w))\n",
    "\n",
    "    # update misclassified indices\n",
    "    misclassified_indices = get_all_misclassified(dataset, target_function, w)\n",
    "    print(\"misclassifieds now: \" + str(misclassified_indices))"
   ]
  },
  {
   "cell_type": "code",
   "execution_count": null,
   "metadata": {
    "collapsed": true
   },
   "outputs": [],
   "source": []
  },
  {
   "cell_type": "code",
   "execution_count": null,
   "metadata": {
    "collapsed": true
   },
   "outputs": [],
   "source": []
  },
  {
   "cell_type": "code",
   "execution_count": null,
   "metadata": {
    "collapsed": true
   },
   "outputs": [],
   "source": []
  },
  {
   "cell_type": "code",
   "execution_count": null,
   "metadata": {
    "collapsed": true
   },
   "outputs": [],
   "source": []
  },
  {
   "cell_type": "code",
   "execution_count": null,
   "metadata": {
    "collapsed": true
   },
   "outputs": [],
   "source": []
  },
  {
   "cell_type": "code",
   "execution_count": 292,
   "metadata": {},
   "outputs": [
    {
     "data": {
      "text/plain": [
       "(0, 1)"
      ]
     },
     "execution_count": 292,
     "metadata": {},
     "output_type": "execute_result"
    }
   ],
   "source": [
    "PLA(dataset, target_function)"
   ]
  },
  {
   "cell_type": "code",
   "execution_count": 293,
   "metadata": {},
   "outputs": [
    {
     "name": "stdout",
     "output_type": "stream",
     "text": [
      "dataset: [array([-0.91887986,  0.12242646]), array([ 0.29485131,  0.36714039]), array([-0.75202978,  0.55250081]), array([-0.08770358,  0.37521122]), array([ 0.42128342, -0.28876555]), array([-0.8781402 , -0.97776301]), array([-0.96335881, -0.35727012]), array([ 0.90668915, -0.9141707 ]), array([-0.0141492 ,  0.58359236]), array([ 0.7289281 , -0.80355146])]\n",
      "target function: (0.54930840235756095, 0.30138891179843041)\n"
     ]
    },
    {
     "ename": "KeyboardInterrupt",
     "evalue": "",
     "output_type": "error",
     "traceback": [
      "\u001b[1;31m---------------------------------------------------------------------------\u001b[0m",
      "\u001b[1;31mKeyboardInterrupt\u001b[0m                         Traceback (most recent call last)",
      "\u001b[1;32m<ipython-input-293-3e4ea6015c94>\u001b[0m in \u001b[0;36m<module>\u001b[1;34m()\u001b[0m\n\u001b[1;32m----> 1\u001b[1;33m \u001b[0mrun_experiments\u001b[0m\u001b[1;33m(\u001b[0m\u001b[1;36m10\u001b[0m\u001b[1;33m,\u001b[0m \u001b[1;36m20\u001b[0m\u001b[1;33m)\u001b[0m \u001b[1;31m# 20 times\u001b[0m\u001b[1;33m\u001b[0m\u001b[0m\n\u001b[0m",
      "\u001b[1;32m<ipython-input-250-674a970e11ee>\u001b[0m in \u001b[0;36mrun_experiments\u001b[1;34m(dataset_size, num_experiments)\u001b[0m\n\u001b[0;32m     13\u001b[0m \u001b[1;33m\u001b[0m\u001b[0m\n\u001b[0;32m     14\u001b[0m     \u001b[1;32mfor\u001b[0m \u001b[0mi\u001b[0m \u001b[1;32min\u001b[0m \u001b[0mrange\u001b[0m\u001b[1;33m(\u001b[0m\u001b[0mnum_experiments\u001b[0m\u001b[1;33m)\u001b[0m\u001b[1;33m:\u001b[0m\u001b[1;33m\u001b[0m\u001b[0m\n\u001b[1;32m---> 15\u001b[1;33m         \u001b[0mnum_wrong\u001b[0m\u001b[1;33m,\u001b[0m \u001b[0mnum_iters\u001b[0m \u001b[1;33m=\u001b[0m \u001b[0mPLA\u001b[0m\u001b[1;33m(\u001b[0m\u001b[0mdataset\u001b[0m\u001b[1;33m,\u001b[0m \u001b[0mtarget_function\u001b[0m\u001b[1;33m)\u001b[0m\u001b[1;33m\u001b[0m\u001b[0m\n\u001b[0m\u001b[0;32m     16\u001b[0m         \u001b[0mprint\u001b[0m\u001b[1;33m(\u001b[0m\u001b[1;34m\"num wrong: \"\u001b[0m \u001b[1;33m+\u001b[0m \u001b[0mstr\u001b[0m\u001b[1;33m(\u001b[0m\u001b[0mnum_wrong\u001b[0m\u001b[1;33m)\u001b[0m\u001b[1;33m)\u001b[0m\u001b[1;33m\u001b[0m\u001b[0m\n\u001b[0;32m     17\u001b[0m         \u001b[0mprint\u001b[0m\u001b[1;33m(\u001b[0m\u001b[1;34m\"num iters: \"\u001b[0m \u001b[1;33m+\u001b[0m \u001b[0mstr\u001b[0m\u001b[1;33m(\u001b[0m\u001b[0mnum_iters\u001b[0m\u001b[1;33m)\u001b[0m\u001b[1;33m)\u001b[0m\u001b[1;33m\u001b[0m\u001b[0m\n",
      "\u001b[1;32m<ipython-input-288-350948085305>\u001b[0m in \u001b[0;36mPLA\u001b[1;34m(dataset, target_function, debug)\u001b[0m\n\u001b[0;32m     27\u001b[0m \u001b[1;33m\u001b[0m\u001b[0m\n\u001b[0;32m     28\u001b[0m         \u001b[1;31m# update misclassified indices\u001b[0m\u001b[1;33m\u001b[0m\u001b[1;33m\u001b[0m\u001b[0m\n\u001b[1;32m---> 29\u001b[1;33m         \u001b[0mmisclassified_indices\u001b[0m \u001b[1;33m=\u001b[0m \u001b[0mget_all_misclassified\u001b[0m\u001b[1;33m(\u001b[0m\u001b[0mdataset\u001b[0m\u001b[1;33m,\u001b[0m \u001b[0mtarget_function\u001b[0m\u001b[1;33m,\u001b[0m \u001b[0mw\u001b[0m\u001b[1;33m)\u001b[0m\u001b[1;33m\u001b[0m\u001b[0m\n\u001b[0m\u001b[0;32m     30\u001b[0m \u001b[1;33m\u001b[0m\u001b[0m\n\u001b[0;32m     31\u001b[0m         \u001b[1;32mif\u001b[0m \u001b[0mdebug\u001b[0m\u001b[1;33m:\u001b[0m\u001b[1;33m\u001b[0m\u001b[0m\n",
      "\u001b[1;32m<ipython-input-242-09078ce4647f>\u001b[0m in \u001b[0;36mget_all_misclassified\u001b[1;34m(dataset, target_function, weight_vector)\u001b[0m\n\u001b[0;32m      3\u001b[0m     \u001b[1;32mfor\u001b[0m \u001b[0mindex\u001b[0m \u001b[1;32min\u001b[0m \u001b[0mrange\u001b[0m\u001b[1;33m(\u001b[0m\u001b[0mlen\u001b[0m\u001b[1;33m(\u001b[0m\u001b[0mdataset\u001b[0m\u001b[1;33m)\u001b[0m\u001b[1;33m)\u001b[0m\u001b[1;33m:\u001b[0m\u001b[1;33m\u001b[0m\u001b[0m\n\u001b[0;32m      4\u001b[0m         \u001b[1;31m# print(\"value: \" + str(dataset[index]))\u001b[0m\u001b[1;33m\u001b[0m\u001b[1;33m\u001b[0m\u001b[0m\n\u001b[1;32m----> 5\u001b[1;33m         \u001b[0mhypothesis\u001b[0m \u001b[1;33m=\u001b[0m \u001b[0mnp\u001b[0m\u001b[1;33m.\u001b[0m\u001b[0msign\u001b[0m\u001b[1;33m(\u001b[0m\u001b[0mnp\u001b[0m\u001b[1;33m.\u001b[0m\u001b[0minner\u001b[0m\u001b[1;33m(\u001b[0m\u001b[0mweight_vector\u001b[0m\u001b[1;33m,\u001b[0m \u001b[0mdataset\u001b[0m\u001b[1;33m[\u001b[0m\u001b[0mindex\u001b[0m\u001b[1;33m]\u001b[0m\u001b[1;33m)\u001b[0m\u001b[1;33m)\u001b[0m\u001b[1;33m\u001b[0m\u001b[0m\n\u001b[0m\u001b[0;32m      6\u001b[0m         \u001b[1;31m#print(\"hypothesis: \" + str(hypothesis))\u001b[0m\u001b[1;33m\u001b[0m\u001b[1;33m\u001b[0m\u001b[0m\n\u001b[0;32m      7\u001b[0m         \u001b[1;32mif\u001b[0m \u001b[0mmisclassified\u001b[0m\u001b[1;33m(\u001b[0m\u001b[0mdataset\u001b[0m\u001b[1;33m[\u001b[0m\u001b[0mindex\u001b[0m\u001b[1;33m]\u001b[0m\u001b[1;33m,\u001b[0m \u001b[0mtarget_function\u001b[0m\u001b[1;33m,\u001b[0m \u001b[0mhypothesis\u001b[0m\u001b[1;33m)\u001b[0m\u001b[1;33m:\u001b[0m\u001b[1;33m\u001b[0m\u001b[0m\n",
      "\u001b[1;31mKeyboardInterrupt\u001b[0m: "
     ]
    }
   ],
   "source": [
    "run_experiments(10, 20) # 20 times"
   ]
  },
  {
   "cell_type": "code",
   "execution_count": null,
   "metadata": {
    "collapsed": true
   },
   "outputs": [],
   "source": []
  }
 ],
 "metadata": {
  "kernelspec": {
   "display_name": "Python 3",
   "language": "python",
   "name": "python3"
  },
  "language_info": {
   "codemirror_mode": {
    "name": "ipython",
    "version": 3
   },
   "file_extension": ".py",
   "mimetype": "text/x-python",
   "name": "python",
   "nbconvert_exporter": "python",
   "pygments_lexer": "ipython3",
   "version": "3.5.3"
  }
 },
 "nbformat": 4,
 "nbformat_minor": 2
}
