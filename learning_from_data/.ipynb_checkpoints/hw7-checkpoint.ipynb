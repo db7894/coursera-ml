{
 "cells": [
  {
   "cell_type": "code",
   "execution_count": 1,
   "metadata": {
    "collapsed": true
   },
   "outputs": [],
   "source": [
    "from IPython.display import IFrame"
   ]
  },
  {
   "cell_type": "code",
   "execution_count": 2,
   "metadata": {},
   "outputs": [
    {
     "data": {
      "text/html": [
       "\n",
       "        <iframe\n",
       "            width=\"1000\"\n",
       "            height=\"1000\"\n",
       "            src=\"hw7.pdf\"\n",
       "            frameborder=\"0\"\n",
       "            allowfullscreen\n",
       "        ></iframe>\n",
       "        "
      ],
      "text/plain": [
       "<IPython.lib.display.IFrame at 0x1d028b56630>"
      ]
     },
     "execution_count": 2,
     "metadata": {},
     "output_type": "execute_result"
    }
   ],
   "source": [
    "IFrame(\"hw7.pdf\", width=1000, height=1000)"
   ]
  },
  {
   "cell_type": "code",
   "execution_count": 1,
   "metadata": {},
   "outputs": [],
   "source": [
    "import numpy as np\n",
    "import math\n",
    "from data_loader import LFD_Data\n",
    "from NLTransform import LinRegNLT2"
   ]
  },
  {
   "cell_type": "code",
   "execution_count": 5,
   "metadata": {
    "collapsed": true
   },
   "outputs": [],
   "source": [
    "train_dir = \"train.dta\"\n",
    "test_dir = \"test.dta\""
   ]
  },
  {
   "cell_type": "code",
   "execution_count": 7,
   "metadata": {},
   "outputs": [],
   "source": [
    "l = math.pow(10.0, -3) # lambda for regularization"
   ]
  },
  {
   "cell_type": "code",
   "execution_count": 8,
   "metadata": {
    "collapsed": true
   },
   "outputs": [],
   "source": [
    "data = LFD_Data(train_dir, test_dir)\n",
    "lin_reg = LinRegNLT2(data.dim, 7, l)"
   ]
  },
  {
   "cell_type": "code",
   "execution_count": 9,
   "metadata": {
    "collapsed": true
   },
   "outputs": [],
   "source": [
    "def print_error(alg, valid_X, valid_y, out_X, out_y):\n",
    "    e_valid = alg.calc_error(valid_X, valid_y)\n",
    "    eout = alg.calc_error(out_X, out_y)\n",
    "    print(\"E_valid: %f, E_out: %f\" % (e_valid, eout))"
   ]
  },
  {
   "cell_type": "markdown",
   "metadata": {},
   "source": [
    "## Problem 1"
   ]
  },
  {
   "cell_type": "markdown",
   "metadata": {},
   "source": [
    "__[d]__"
   ]
  },
  {
   "cell_type": "code",
   "execution_count": 10,
   "metadata": {
    "collapsed": true
   },
   "outputs": [],
   "source": [
    "k_vals = np.arange(3,8)"
   ]
  },
  {
   "cell_type": "code",
   "execution_count": 15,
   "metadata": {},
   "outputs": [
    {
     "name": "stdout",
     "output_type": "stream",
     "text": [
      "LinReg with NLT using the first 25 examples for training (last 10 for validation): \n",
      "k = 3 : \n",
      "E_valid: 0.300000, E_out: 0.420000\n",
      "k = 4 : \n",
      "E_valid: 0.500000, E_out: 0.416000\n",
      "k = 5 : \n",
      "E_valid: 0.200000, E_out: 0.188000\n",
      "k = 6 : \n",
      "E_valid: 0.000000, E_out: 0.084000\n",
      "k = 7 : \n",
      "E_valid: 0.100000, E_out: 0.072000\n"
     ]
    }
   ],
   "source": [
    "print(\"LinReg with NLT using the first 25 examples for training (last 10 for validation): \")\n",
    "for k in k_vals:\n",
    "    print(\"k = %d : \" % k)\n",
    "    lin_reg.set_k(k)\n",
    "    lin_reg.train(data.train_X[:25,:], data.train_Y[:25])\n",
    "    print_error(lin_reg, data.train_X[25:,:], data.train_Y[25:], data.test_X, data.test_Y)"
   ]
  },
  {
   "cell_type": "markdown",
   "metadata": {},
   "source": [
    "The validation error is smallest for $k=6$."
   ]
  },
  {
   "cell_type": "code",
   "execution_count": 16,
   "metadata": {},
   "outputs": [
    {
     "name": "stdout",
     "output_type": "stream",
     "text": [
      "LinReg with NLT using the first 25 examples for training (last 10 for validation): \n",
      "k = 3 : \n",
      "E_valid: 0.280000, E_out: 0.396000\n",
      "k = 4 : \n",
      "E_valid: 0.360000, E_out: 0.388000\n",
      "k = 5 : \n",
      "E_valid: 0.200000, E_out: 0.284000\n",
      "k = 6 : \n",
      "E_valid: 0.080000, E_out: 0.192000\n",
      "k = 7 : \n",
      "E_valid: 0.120000, E_out: 0.196000\n"
     ]
    }
   ],
   "source": [
    "print(\"LinReg with NLT using the first 25 examples for training (last 10 for validation): \")\n",
    "for k in k_vals:\n",
    "    print(\"k = %d : \" % k)\n",
    "    lin_reg.set_k(k)\n",
    "    lin_reg.train(data.train_X[25:,:], data.train_Y[25:])\n",
    "    print_error(lin_reg, data.train_X[:25,:], data.train_Y[:25], data.test_X, data.test_Y)"
   ]
  },
  {
   "cell_type": "markdown",
   "metadata": {},
   "source": [
    "## Problem 2"
   ]
  },
  {
   "cell_type": "markdown",
   "metadata": {},
   "source": [
    "__[e]__"
   ]
  },
  {
   "cell_type": "markdown",
   "metadata": {},
   "source": [
    "From the above, we see $E_{out}$ is smallest when $k=7$."
   ]
  },
  {
   "cell_type": "markdown",
   "metadata": {},
   "source": [
    "## Problem 3"
   ]
  },
  {
   "cell_type": "markdown",
   "metadata": {},
   "source": [
    "__[d]__"
   ]
  },
  {
   "cell_type": "markdown",
   "metadata": {},
   "source": [
    "The second cell tells us that $k=6$ gives the smallest validation error."
   ]
  },
  {
   "cell_type": "markdown",
   "metadata": {},
   "source": [
    "## Problem 4"
   ]
  },
  {
   "cell_type": "markdown",
   "metadata": {},
   "source": [
    "__[d]__"
   ]
  },
  {
   "cell_type": "markdown",
   "metadata": {},
   "source": [
    "In this run, we got the smallest $E_{out}$ with $k=6$."
   ]
  },
  {
   "cell_type": "markdown",
   "metadata": {},
   "source": [
    "## Problem 5"
   ]
  },
  {
   "cell_type": "markdown",
   "metadata": {},
   "source": [
    "__[b]__"
   ]
  },
  {
   "cell_type": "markdown",
   "metadata": {},
   "source": [
    "The best models in Problems 1 and 3 has $E_{out}$ values of roughly $0.1$ and $0.2$, respectively."
   ]
  },
  {
   "cell_type": "markdown",
   "metadata": {},
   "source": [
    "## Problem 6"
   ]
  },
  {
   "cell_type": "markdown",
   "metadata": {},
   "source": [
    "__[d]__"
   ]
  },
  {
   "cell_type": "markdown",
   "metadata": {},
   "source": [
    "We'll generate some numbers and figure this out."
   ]
  },
  {
   "cell_type": "code",
   "execution_count": 20,
   "metadata": {
    "collapsed": true
   },
   "outputs": [],
   "source": [
    "nb_gen = 100000 # number of times to generate\n",
    "e1 = np.random.uniform(0, 1, nb_gen)\n",
    "e2 = np.random.uniform(0, 1, nb_gen)\n",
    "e = np.minimum(e1,e2)"
   ]
  },
  {
   "cell_type": "code",
   "execution_count": 21,
   "metadata": {
    "collapsed": true
   },
   "outputs": [],
   "source": [
    "exp_e1 = np.average(e1)\n",
    "exp_e2 = np.average(e2)\n",
    "exp_e = np.average(e)"
   ]
  },
  {
   "cell_type": "code",
   "execution_count": 22,
   "metadata": {},
   "outputs": [
    {
     "name": "stdout",
     "output_type": "stream",
     "text": [
      "Expectations: \n",
      "e: 0.332411\n",
      "e1: 0.499013\n",
      "e2: 0.500392\n"
     ]
    }
   ],
   "source": [
    "print(\"Expectations: \")\n",
    "print(\"e: %f\" % exp_e)\n",
    "print(\"e1: %f\" % exp_e1)\n",
    "print(\"e2: %f\" % exp_e2)"
   ]
  },
  {
   "cell_type": "markdown",
   "metadata": {},
   "source": [
    "So the expectations are roughly $e_1 = 0.5$, $e_2 = 0.5$, and $e = 0.33$."
   ]
  },
  {
   "cell_type": "markdown",
   "metadata": {},
   "source": [
    "## Problem 7"
   ]
  },
  {
   "cell_type": "markdown",
   "metadata": {},
   "source": []
  },
  {
   "cell_type": "markdown",
   "metadata": {},
   "source": []
  },
  {
   "cell_type": "markdown",
   "metadata": {},
   "source": []
  },
  {
   "cell_type": "markdown",
   "metadata": {},
   "source": []
  },
  {
   "cell_type": "markdown",
   "metadata": {},
   "source": [
    "## Problem 8"
   ]
  },
  {
   "cell_type": "markdown",
   "metadata": {},
   "source": [
    "__[d]__"
   ]
  },
  {
   "cell_type": "code",
   "execution_count": 2,
   "metadata": {},
   "outputs": [],
   "source": [
    "from pla import PLA\n",
    "from svm import SVM\n",
    "from line_test import LineTest"
   ]
  },
  {
   "cell_type": "code",
   "execution_count": 3,
   "metadata": {
    "collapsed": true
   },
   "outputs": [],
   "source": [
    "num_exp = [1000,100]\n",
    "n_vals = [10,100]\n",
    "n_test = 1000"
   ]
  },
  {
   "cell_type": "code",
   "execution_count": 4,
   "metadata": {},
   "outputs": [
    {
     "name": "stdout",
     "output_type": "stream",
     "text": [
      "=== For a training set with N = 10 with 1000 runs ===\n",
      "E_out avg for PLA: 0.083053\n",
      "E_out avg for SVM: 0.073997\n",
      "SVM improves on performance over PLA 67.300000% of the time\n",
      "Avg number of support vectors: 2.101000\n",
      "=== For a training set with N = 100 with 100 runs ===\n",
      "E_out avg for PLA: 0.011070\n",
      "E_out avg for SVM: 0.008490\n",
      "SVM improves on performance over PLA 70.000000% of the time\n",
      "Avg number of support vectors: 2.490000\n"
     ]
    }
   ],
   "source": [
    "for idx,n in enumerate(n_vals):\n",
    "    eout_pla = np.array([])\n",
    "    eout_svm = np.array([])\n",
    "    sv_svm = np.array([])\n",
    "    cur_exp = num_exp[idx]\n",
    "    my_pla = PLA(0) #threshold for number wrong since linearly separable\n",
    "    my_svm = SVM()\n",
    "    for my_exp in range(cur_exp):\n",
    "        my_test = LineTest(n,n_test)\n",
    "        my_pla.train(my_test.train_set,my_test.train_labels)\n",
    "        my_svm.train(my_test.train_set, my_test.train_labels)\n",
    "        pla_err = my_pla.calc_error(my_test.test_set, my_test.test_labels)\n",
    "        svm_err = my_svm.calc_error(my_test.test_set, my_test.test_labels)\n",
    "        n_sv = my_svm.num_alphas\n",
    "        cur_adv = svm_err < pla_err\n",
    "        eout_pla = np.concatenate((eout_pla, [pla_err]))\n",
    "        eout_svm = np.concatenate((eout_svm, [svm_err]))\n",
    "        sv_svm = np.concatenate((sv_svm, [n_sv]))\n",
    "    eavg_pla = np.average(eout_pla)\n",
    "    eavg_svm = np.average(eout_svm)\n",
    "    svm_adv = 100.0*np.average(np.less_equal(eout_svm, eout_pla))\n",
    "    sv_avg = np.average(sv_svm)\n",
    "    print(\"=== For a training set with N = %d with %d runs ===\" % (n, cur_exp))\n",
    "    print(\"E_out avg for PLA: %f\" % eavg_pla)\n",
    "    print(\"E_out avg for SVM: %f\" % eavg_svm)\n",
    "    print(\"SVM improves on performance over PLA %f%% of the time\" % svm_adv)\n",
    "    print(\"Avg number of support vectors: %f\" % sv_avg)"
   ]
  },
  {
   "cell_type": "markdown",
   "metadata": {},
   "source": [
    "## Problem 9"
   ]
  },
  {
   "cell_type": "markdown",
   "metadata": {},
   "source": [
    "__[d]__"
   ]
  },
  {
   "cell_type": "markdown",
   "metadata": {},
   "source": [
    "## Problem 10"
   ]
  },
  {
   "cell_type": "markdown",
   "metadata": {},
   "source": [
    "__[a]__"
   ]
  }
 ],
 "metadata": {
  "kernelspec": {
   "display_name": "Python 3",
   "language": "python",
   "name": "python3"
  },
  "language_info": {
   "codemirror_mode": {
    "name": "ipython",
    "version": 3
   },
   "file_extension": ".py",
   "mimetype": "text/x-python",
   "name": "python",
   "nbconvert_exporter": "python",
   "pygments_lexer": "ipython3",
   "version": "3.5.3"
  }
 },
 "nbformat": 4,
 "nbformat_minor": 2
}
