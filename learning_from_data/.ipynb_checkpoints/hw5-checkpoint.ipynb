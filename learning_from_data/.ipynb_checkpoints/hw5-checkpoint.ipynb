{
 "cells": [
  {
   "cell_type": "code",
   "execution_count": 1,
   "metadata": {
    "collapsed": true
   },
   "outputs": [],
   "source": [
    "from IPython.display import IFrame"
   ]
  },
  {
   "cell_type": "code",
   "execution_count": 3,
   "metadata": {},
   "outputs": [
    {
     "data": {
      "text/html": [
       "\n",
       "        <iframe\n",
       "            width=\"1000\"\n",
       "            height=\"1000\"\n",
       "            src=\"hw5.pdf\"\n",
       "            frameborder=\"0\"\n",
       "            allowfullscreen\n",
       "        ></iframe>\n",
       "        "
      ],
      "text/plain": [
       "<IPython.lib.display.IFrame at 0x1d05f6f8a20>"
      ]
     },
     "execution_count": 3,
     "metadata": {},
     "output_type": "execute_result"
    }
   ],
   "source": [
    "IFrame(\"hw5.pdf\", width=1000, height=1000)"
   ]
  },
  {
   "cell_type": "markdown",
   "metadata": {},
   "source": [
    "## Problem 1"
   ]
  },
  {
   "cell_type": "markdown",
   "metadata": {},
   "source": [
    "__[c]__"
   ]
  },
  {
   "cell_type": "markdown",
   "metadata": {},
   "source": [
    "For $\\sigma = 0.1$ and $d=8$, we want to solve the following inequality for $N$: $$ \\sigma^2 \\left( 1 - \\dfrac{d+1}{N} \\right) \\geq 0.008 $$"
   ]
  },
  {
   "cell_type": "markdown",
   "metadata": {},
   "source": [
    "Plugging things in we get $$ (0.1)^2 \\left( 1 - \\dfrac{9}{N} \\right) \\geq 0.008,$$\n",
    "where dividing out the $\\sigma$ value gives $$ \\left( 1 - \\dfrac{9}{N} \\right) \\geq 0.8, $$\n",
    "and by moving terms around more we have $$ 0.2 \\geq \\dfrac{9}{N}. $$"
   ]
  },
  {
   "cell_type": "markdown",
   "metadata": {},
   "source": [
    "Finally, multiplying both sides by $N$ and dividing through by $0.2$ gives us the solution $$ N \\geq 45. $$"
   ]
  },
  {
   "cell_type": "markdown",
   "metadata": {},
   "source": [
    "Among the answer choices, the smallest $N$ that gives us the desired expected value for $E_{in}$ is $N = 100$."
   ]
  },
  {
   "cell_type": "markdown",
   "metadata": {},
   "source": [
    "## Problem 2"
   ]
  },
  {
   "cell_type": "markdown",
   "metadata": {},
   "source": [
    "__[d]__"
   ]
  },
  {
   "cell_type": "markdown",
   "metadata": {},
   "source": [
    "Let's recall the basic equation for a hyperbola centered at $(0,0)$ and see if that helps (in terms of $x_1$ and $x_2$): $$ \\dfrac{x_1^2}{a} - \\dfrac{x_2^2}{b} = 1, $$ where the distance between the vertices is $2a$ and distance between foci is $2c$ where $c^2 = a^2+b^2$, _not that we actually care about any of that information_."
   ]
  },
  {
   "cell_type": "markdown",
   "metadata": {},
   "source": [
    "Note that the decision boundary assigns a positive value $+1$ to a training example $(1,x_1,x_2)$ if it falls __in between the hyperbola boundaries__. \n",
    "\n",
    "Let's simplify things further and get rid of the annoying $a$ and $b$ to yield the equation $$ x_1^2 - x_2^2 = 1, $$ which tells us we want something like $$ x_1^2 - x_2^2 < 1. $$"
   ]
  },
  {
   "cell_type": "markdown",
   "metadata": {},
   "source": [
    "In the $\\mathcal{Z}$-space, we have $ z_1 = x_1^2 $ and $ z_2 = x_2^2 $. Our linear hypothesis looks like $$ \\tilde{w}^T\\boldsymbol{z} = \\tilde{w}_0z_0 + \\tilde{w}_1z_1 + \\tilde{w}_2z_2 = \\tilde{w}_0 + \\tilde{w}_1x_1^2 + \\tilde{w}_2x_2^2. $$"
   ]
  },
  {
   "cell_type": "markdown",
   "metadata": {},
   "source": [
    "We want $ \\tilde{w}_1 < 0 $ and $ \\tilde{w}_2 > 0 $."
   ]
  },
  {
   "cell_type": "markdown",
   "metadata": {},
   "source": [
    "## Problem 3"
   ]
  },
  {
   "cell_type": "markdown",
   "metadata": {},
   "source": [
    "__[c]__"
   ]
  },
  {
   "cell_type": "markdown",
   "metadata": {},
   "source": [
    "The transformed space has $15$ dimensions."
   ]
  },
  {
   "cell_type": "markdown",
   "metadata": {},
   "source": [
    "## Problem 4"
   ]
  },
  {
   "cell_type": "markdown",
   "metadata": {},
   "source": [
    "__[e]__"
   ]
  },
  {
   "cell_type": "markdown",
   "metadata": {},
   "source": [
    "We want the partial derivative $ \\frac{\\partial E}{\\partial u} $ of $$ E(u,v) = (ue^v - 2ve^{-u})^2 $$"
   ]
  },
  {
   "cell_type": "markdown",
   "metadata": {},
   "source": [
    "Using the chain rule,we get $$ \\dfrac{\\partial E}{\\partial u} = 2(ue^v - 2ve^{-u})(e^v + 2ve^{-u}), $$ noting that the $u$ does not come down from the exponential because we differentiated with respect to $u$ (just as $ \\frac{d}{du}e^u = e^u $)."
   ]
  },
  {
   "cell_type": "markdown",
   "metadata": {},
   "source": [
    "## Problem 5"
   ]
  },
  {
   "cell_type": "markdown",
   "metadata": {},
   "source": [
    "__[d]__"
   ]
  },
  {
   "cell_type": "markdown",
   "metadata": {},
   "source": [
    "We also want the partial derivative of $E$ with respect to $v$: $$ \\dfrac{\\partial E}{\\partial v} = 2(ue^v - 2ve^{-u})(ue^v - 2e^{-u}) $$"
   ]
  },
  {
   "cell_type": "code",
   "execution_count": 5,
   "metadata": {
    "collapsed": true
   },
   "outputs": [],
   "source": [
    "import numpy as np"
   ]
  },
  {
   "cell_type": "code",
   "execution_count": 6,
   "metadata": {
    "collapsed": true
   },
   "outputs": [],
   "source": [
    "def gradientError(u, v):\n",
    "    return (u*np.exp(v) - 2*v*np.exp(-u))**2"
   ]
  },
  {
   "cell_type": "code",
   "execution_count": 14,
   "metadata": {
    "collapsed": true
   },
   "outputs": [],
   "source": [
    "def dE_du(u, v):\n",
    "    \"\"\"\n",
    "    returns the partial derivative of E(u,v) w/r/t u\n",
    "    \"\"\"\n",
    "    return 2 * (u * np.exp(v) - 2 * v * np.exp(-u)) * (np.exp(v) + 2 * v * np.exp(-u))"
   ]
  },
  {
   "cell_type": "code",
   "execution_count": 8,
   "metadata": {
    "collapsed": true
   },
   "outputs": [],
   "source": [
    "def dE_dv(u, v):\n",
    "    \"\"\"\n",
    "    returns the partial derivative of E(u,v) w/r/t v\n",
    "    \"\"\"\n",
    "    return 2 * (u * np.exp(v) - 2 * v * np.exp(-u)) * (u * np.exp(v) - 2 * np.exp(-u))"
   ]
  },
  {
   "cell_type": "code",
   "execution_count": 9,
   "metadata": {
    "collapsed": true
   },
   "outputs": [],
   "source": [
    "def updateWeights(weights, nabla):\n",
    "    '''\n",
    "    assuming there are just 2 weights we care about\n",
    "    new_weight = old_weight - (learning rate) * (partial derivative w.r.t. u or v)\n",
    "    '''\n",
    "    u = weights[0]\n",
    "    v = weights[1]\n",
    "    \n",
    "    # perform update\n",
    "    weights[0] -= nabla * dE_du(u,v)\n",
    "    weights[1] -= nabla * dE_dv(u,v)\n",
    "    \n",
    "    return weights"
   ]
  },
  {
   "cell_type": "code",
   "execution_count": 10,
   "metadata": {
    "collapsed": true
   },
   "outputs": [],
   "source": [
    "def q5():\n",
    "    nabla = 0.1 # Lr given in problem\n",
    "    thresh = 10 ** -14 # thresh we want error to get below\n",
    "    weights = [1.0,1.0] # initial weight values\n",
    "    num_iters = 0\n",
    "    \n",
    "    while True:\n",
    "        error = gradientError(weights[0], weights[1]) # calculate current error\n",
    "        num_iters += 1\n",
    "        \n",
    "        if error < thresh or num_iters > 10000:\n",
    "            print(\"num iterations: \" + str(num_iters))\n",
    "            break\n",
    "        else:\n",
    "            weights = updateWeights(weights, nabla) # perform GD\n",
    "            \n",
    "    print(\"Error: \" + str(gradientError(weights[0], weights[1])))\n",
    "    return weights"
   ]
  },
  {
   "cell_type": "code",
   "execution_count": 15,
   "metadata": {},
   "outputs": [
    {
     "name": "stdout",
     "output_type": "stream",
     "text": [
      "num iterations: 11\n",
      "Error: 1.20868339442e-15\n"
     ]
    },
    {
     "data": {
      "text/plain": [
       "[0.044736290397782069, 0.023958714099141746]"
      ]
     },
     "execution_count": 15,
     "metadata": {},
     "output_type": "execute_result"
    }
   ],
   "source": [
    "q5()"
   ]
  },
  {
   "cell_type": "markdown",
   "metadata": {},
   "source": [
    "Among the answer choices, $10$ is the closest to the actual number of iterations we get."
   ]
  },
  {
   "cell_type": "markdown",
   "metadata": {},
   "source": [
    "## Problem 6"
   ]
  },
  {
   "cell_type": "markdown",
   "metadata": {},
   "source": [
    "__[e]__"
   ]
  },
  {
   "cell_type": "markdown",
   "metadata": {},
   "source": [
    "We returned the weights above so we can just use the values we got, which are closest to the answer pair $[0.045, 0.024]$."
   ]
  },
  {
   "cell_type": "markdown",
   "metadata": {},
   "source": [
    "## Problem 7"
   ]
  },
  {
   "cell_type": "markdown",
   "metadata": {},
   "source": [
    "__[a]__"
   ]
  },
  {
   "cell_type": "markdown",
   "metadata": {},
   "source": [
    "We'll want methods to update u,v separately so let's write those."
   ]
  },
  {
   "cell_type": "code",
   "execution_count": 16,
   "metadata": {
    "collapsed": true
   },
   "outputs": [],
   "source": [
    "def updateU(weights, nabla):\n",
    "    weights[0] -= nabla # since u is the first coord we update weights[0]\n",
    "    return weights"
   ]
  },
  {
   "cell_type": "code",
   "execution_count": 17,
   "metadata": {
    "collapsed": true
   },
   "outputs": [],
   "source": [
    "def updateV(weights, nabla):\n",
    "    weights[1] -= nabla\n",
    "    return weights"
   ]
  },
  {
   "cell_type": "code",
   "execution_count": 18,
   "metadata": {
    "collapsed": true
   },
   "outputs": [],
   "source": [
    "def q7():\n",
    "    nabla = 0.1\n",
    "    weights = [1.0, 1.0]\n",
    "    num_iters = 15\n",
    "    \n",
    "    for i in range(num_iters):\n",
    "        weights = updateU(weights, nabla) # update u first\n",
    "        weights = updateV(weights, nabla) # then update v\n",
    "        \n",
    "    print(\"error: \" + str(gradientError(weights[0], weights[1])))\n",
    "    return weights"
   ]
  },
  {
   "cell_type": "code",
   "execution_count": 19,
   "metadata": {},
   "outputs": [
    {
     "name": "stdout",
     "output_type": "stream",
     "text": [
      "error: 1.81025168875\n"
     ]
    },
    {
     "data": {
      "text/plain": [
       "[-0.4999999999999999, -0.4999999999999999]"
      ]
     },
     "execution_count": 19,
     "metadata": {},
     "output_type": "execute_result"
    }
   ],
   "source": [
    "q7()"
   ]
  },
  {
   "cell_type": "markdown",
   "metadata": {},
   "source": [
    "Our error is roughly 1.81, which is closest to the answer value $10^{-1}$."
   ]
  },
  {
   "cell_type": "markdown",
   "metadata": {},
   "source": [
    "## Problem 8"
   ]
  },
  {
   "cell_type": "code",
   "execution_count": null,
   "metadata": {
    "collapsed": true
   },
   "outputs": [],
   "source": []
  }
 ],
 "metadata": {
  "kernelspec": {
   "display_name": "Python 3",
   "language": "python",
   "name": "python3"
  },
  "language_info": {
   "codemirror_mode": {
    "name": "ipython",
    "version": 3
   },
   "file_extension": ".py",
   "mimetype": "text/x-python",
   "name": "python",
   "nbconvert_exporter": "python",
   "pygments_lexer": "ipython3",
   "version": "3.5.3"
  }
 },
 "nbformat": 4,
 "nbformat_minor": 2
}
