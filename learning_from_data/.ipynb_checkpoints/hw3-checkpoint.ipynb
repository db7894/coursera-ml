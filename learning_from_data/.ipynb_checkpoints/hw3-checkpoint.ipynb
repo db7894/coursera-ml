{
 "cells": [
  {
   "cell_type": "code",
   "execution_count": 1,
   "metadata": {
    "collapsed": true
   },
   "outputs": [],
   "source": [
    "from IPython.display import IFrame"
   ]
  },
  {
   "cell_type": "code",
   "execution_count": 2,
   "metadata": {},
   "outputs": [
    {
     "data": {
      "text/html": [
       "\n",
       "        <iframe\n",
       "            width=\"1000\"\n",
       "            height=\"1000\"\n",
       "            src=\"hw3.pdf\"\n",
       "            frameborder=\"0\"\n",
       "            allowfullscreen\n",
       "        ></iframe>\n",
       "        "
      ],
      "text/plain": [
       "<IPython.lib.display.IFrame at 0x14cdc689438>"
      ]
     },
     "execution_count": 2,
     "metadata": {},
     "output_type": "execute_result"
    }
   ],
   "source": [
    "IFrame(\"hw3.pdf\", width=1000, height=1000)"
   ]
  },
  {
   "cell_type": "markdown",
   "metadata": {},
   "source": [
    "## Problem 1"
   ]
  },
  {
   "cell_type": "markdown",
   "metadata": {},
   "source": [
    "__[b]__\n",
    "\n",
    "According to the problem, we have $$ \\mathbb{P}[ \\vert E_{in}(g) - E_{out}(g) \\vert > \\epsilon ] \\leq 2Me^{-2\\epsilon^2N}. $$\n",
    "We are given $\\epsilon = 0.05$, and want the minimum $N$ such that $ 2Me^{-2\\epsilon^2N} \\leq 0.03 $."
   ]
  },
  {
   "cell_type": "markdown",
   "metadata": {},
   "source": [
    "If we rearrange and plug in $M=1$ , we first have $$ e^{-2\\epsilon^2N} \\leq \\dfrac{0.03}{2} $$\n",
    "and taking the $\\ln$ of both sides, we get $$ -2\\epsilon^2N \\leq \\ln(0.015). $$\n",
    "\n",
    "Flipping signs and plugging in $N=0.05$, $$ 2(0.05)^2N \\geq -\\ln(0.015) $$\n",
    "and we can now solve for $N$: $$ N \\geq 840 $$ which is closest to the answer $1000$."
   ]
  },
  {
   "cell_type": "markdown",
   "metadata": {},
   "source": [
    "## Problem 2"
   ]
  },
  {
   "cell_type": "markdown",
   "metadata": {},
   "source": [
    "__[c]__\n",
    "\n",
    "To do $M=10$ and the next problem, let's solve for $N$ in a more general case, leaving in $M$. $$ e^{-2\\epsilon^2N} \\leq \\dfrac{0.03}{2M} $$ and taking the $\\ln$ gives us $$ -2\\epsilon^2N \\leq \\ln(\\dfrac{0.015}{M}). $$ Again, flipping signs and dividing by $2\\epsilon$, we get $$ N \\geq -\\dfrac{1}{2(0.05)^2}\\ln(\\dfrac{0.015}{M}). $$\n",
    "\n",
    "Finally, plugging in $M=10$ gives us $$ N \\geq 1301. $$\n",
    "This makes sense--we have a larger value for $M$ meaning that there is a looser bound on the probaility that in-sample and out-of-sample error vary by more than $\\epsilon$. So, to counteract that, we need a larger value for $N$, the number of examples in our sample. We expect an even higher value for problem 3. "
   ]
  },
  {
   "cell_type": "markdown",
   "metadata": {},
   "source": [
    "## Problem 3"
   ]
  },
  {
   "cell_type": "markdown",
   "metadata": {},
   "source": [
    "__[d]__\n",
    "\n",
    "As before, we have $$ N \\geq -\\dfrac{1}{2(0.05)^2}\\ln(\\dfrac{0.015}{M}). $$ We plug in $M=100$ to get $$ N \\geq 1761. $$"
   ]
  },
  {
   "cell_type": "markdown",
   "metadata": {},
   "source": [
    "## Problem 4"
   ]
  },
  {
   "cell_type": "markdown",
   "metadata": {},
   "source": [
    "__[b]__\n",
    "\n",
    "Since we have a perceptron in $\\mathbb{R}^3$, what we are trying to do is shatter a set of points in 3-D space with a plane.\n",
    "Let's consider $k=3$. If the points are colinear then we are stuck, but it is not hard to visualize that if we lay out the points like a triangle then we are fine. Recall that the break point is that point at which for __any__  arrangement of that number of points, there is __some__ dichotomy that we cannot generate. \n",
    "\n",
    "Therefore, if for $k$ points, there exists an arramgement of those points where we can generate __all__ possibile dichotomies, then $k$ is not a break point.\n",
    "\n",
    "So it makes sense that $k=4$."
   ]
  },
  {
   "cell_type": "markdown",
   "metadata": {},
   "source": [
    "## Problem 5"
   ]
  },
  {
   "cell_type": "markdown",
   "metadata": {},
   "source": [
    "__[b]__"
   ]
  },
  {
   "cell_type": "markdown",
   "metadata": {},
   "source": [
    "We know $$ m_{\\mathcal{H}}(N) \\leq \\sum_{i=0}^{k-1}{N \\choose i} $$"
   ]
  },
  {
   "cell_type": "markdown",
   "metadata": {},
   "source": [
    "If we let $k=2$ then we get $N+1$, or i)."
   ]
  },
  {
   "cell_type": "markdown",
   "metadata": {},
   "source": [
    "Let's consider (ii), which says $$ m_{\\mathcal{H}}(N) = 1 + N + {N \\choose 2}. $$"
   ]
  },
  {
   "cell_type": "markdown",
   "metadata": {},
   "source": [
    "If we take $N=1$, we get $$ m_{\\mathcal{H}}(1) = 2, $$ meaning that our hypothesis set $\\mathcal{H}$ can generate __two__ hypotheses for a single point. \n",
    "\n",
    "If we take $N=2$, we get $$ m_{\\mathcal{H}}(1) = 4, $$ meaning that our hypothesis set can generate __four__ hypotheses for two points, which is consistent with what we would get if we were to count this by hand. So this growth function makes sense."
   ]
  },
  {
   "cell_type": "markdown",
   "metadata": {},
   "source": [
    "(iii) looks sketchy, so let's check if it can be a growth function. This is $$ \\sum_{i=1}^{\\lfloor\\sqrt{N} \\rfloor}{N \\choose i}$$"
   ]
  },
  {
   "cell_type": "markdown",
   "metadata": {},
   "source": [
    "If $N=1$, then the formula tells us the growth function is exactly $N$, which is just $1$. This means that $1$ is the maximum number of dichotomies that can be generated by $\\mathcal{H}$ on $N=1$ points. This means that all $h \\in \\mathcal{H}$ generate the same dichotomy, since the entire hypothesis set is only capable of generating one dichotomy on that one point."
   ]
  },
  {
   "cell_type": "markdown",
   "metadata": {},
   "source": [
    "Now let us take two points. We know that for each point, $\\mathcal{H}$ can only generate one dichotomy, and that for any hypothesis, the dichotomy produced will thus be the same as if we had used any other hypothesis. So if we take two different points then the dichotomies produced on them by any hypothesis $h \\in \\mathcal{H}$ will be the same, meaning that $m_{\\mathcal{H}}(2) = 1$. But the formula gives $m_{\\mathcal{H}}(2) = 2$, so this cannot be a growth function."
   ]
  },
  {
   "cell_type": "markdown",
   "metadata": {},
   "source": [
    "(iv) states that $$ m_{\\mathcal{H}}(N) = 2^{\\lfloor N/2 \\rfloor}. $$"
   ]
  },
  {
   "cell_type": "markdown",
   "metadata": {},
   "source": [
    "If we consider $N=1$, then we have $$ m_{\\mathcal{H}}(1) = 1, $$ meaning that for a single point, $\\mathcal{H}$ can only generate one dichotomy. Thus by the same logic as for (iii), if we have a point $x$, then for any $h \\in \\mathcal{H}$, $h(x)$ will be the same."
   ]
  },
  {
   "cell_type": "markdown",
   "metadata": {},
   "source": [
    "Now if we have two points $x$ and $y$, then the growth function is again $1$ because any hypothesis $h \\in \\mathcal{H}$ will assign each point the same dichotomy, since for each of these two points $\\mathcal{H}$ _can_ only generate a single dichotomy. But again for $N=2$, the growth function gives $m_{\\mathcal{H}}(2) = 2$, contradicting what we just argued. So (iv) is __not__ a growth function."
   ]
  },
  {
   "cell_type": "markdown",
   "metadata": {},
   "source": [
    "We have seen an example of (i) before, and know that the upper bound on a growth function is $2^N$, so we are finished."
   ]
  },
  {
   "cell_type": "markdown",
   "metadata": {},
   "source": [
    "## Problem 6"
   ]
  },
  {
   "cell_type": "markdown",
   "metadata": {},
   "source": [
    "__[c]__"
   ]
  },
  {
   "cell_type": "markdown",
   "metadata": {},
   "source": [
    "Recall that for one interval the break point is $3$. This is for the (tricky) reason that our interval assigns points _inside_ it to +1 and outside to -1, so if we have 3 points where the middle is -1 and the outer two are +1 then we're shit outta luck."
   ]
  },
  {
   "cell_type": "markdown",
   "metadata": {},
   "source": [
    "Let's think about $k=3$ for two intervals now. This is EZ because we can put each interval around one of the two points on the side for the case we were worried about before and we've dealt with that. Done."
   ]
  },
  {
   "cell_type": "markdown",
   "metadata": {},
   "source": [
    "$k=4$: Let's consider cases: We could alternate +1 and -1, but that's fine since we can just bound w/ two invtervals. If we have all +1 or all -1 we're also fine. If we have two +1 and two -1 we're also good as we would be with one. Basically anything that one interval can do, two can since this is a more powerful \"learning algorithm\". So it's not $k=4$."
   ]
  },
  {
   "cell_type": "markdown",
   "metadata": {},
   "source": [
    "$k=5$: Consider the arrangement of points +1 -1 +1 -1 +1. We have three values equal to +1 here. If our intervals had -1 on the inside we'd be good but we're not, so..."
   ]
  },
  {
   "cell_type": "markdown",
   "metadata": {},
   "source": [
    "## Problem 7"
   ]
  },
  {
   "cell_type": "markdown",
   "metadata": {},
   "source": [
    "__[d]__"
   ]
  },
  {
   "cell_type": "markdown",
   "metadata": {},
   "source": [
    "We know that $$ m_{\\mathcal{H}}(N) \\leq \\sum_{i=0}^{k-1}{N \\choose i}, $$ and for this particular hypothesis set $k=5$ is the breakpoint, so if we plug in k (and make an assumption about equality) we have $$ m_{\\mathcal{H}}(N) \\leq \\sum_{i=0}^{4}{N \\choose i}. $$\n",
    "\n",
    "We can see that this is the same as answer d."
   ]
  },
  {
   "cell_type": "markdown",
   "metadata": {},
   "source": [
    "## Problem 8"
   ]
  },
  {
   "cell_type": "markdown",
   "metadata": {},
   "source": [
    "__[d]__"
   ]
  },
  {
   "cell_type": "markdown",
   "metadata": {},
   "source": [
    "We can see a bit of a pattern here--for $M=1$ our breakpoint was $k=3$, and for $M=2$ our breakpoint was $k=5$. \n",
    "\n",
    "Claim: For an $M$-interval hypothesis set, the breakpoint is $$ k = 2M+1. $$"
   ]
  },
  {
   "cell_type": "markdown",
   "metadata": {},
   "source": [
    "Proof: By induction.\n",
    "\n",
    "We have already established a base case for $M=1$. \n",
    "\n",
    "Now suppose that for $n$ intervals, the breakpoint is $$k = 2n+1.$$ Our objective is to show that if we add another interval and have $n+1$ intervals, then the new breakpoint is $$ k = 2(n+1) + 1, $$ or $$ k = 2n + 3 $$"
   ]
  },
  {
   "cell_type": "markdown",
   "metadata": {},
   "source": [
    "We know that for $n$ intervals that $k=2n+1$ _is_ a number of points we can't shatter because of the arrangement +1 -1 + 1 -1 ... +1. By the inductive assumption we also say that it is the breakpoint."
   ]
  },
  {
   "cell_type": "markdown",
   "metadata": {},
   "source": [
    "We can see that by adding another interval, the problem is solved since we can \"bracket\" all of the +1 values, as there are $n+1$ of them. We also see that we can shatter $2n+2$ points when we have $n+1$ intervals, but if we add another one then we run into a break point for the same reason as before. Actually we probably didn't even need induction to show this. Uh..."
   ]
  },
  {
   "cell_type": "markdown",
   "metadata": {},
   "source": [
    "## Problem 9"
   ]
  },
  {
   "cell_type": "markdown",
   "metadata": {},
   "source": [
    "__[d]__ (I guessed on this one)"
   ]
  },
  {
   "cell_type": "markdown",
   "metadata": {},
   "source": [
    "Drawing this out on paper, we see we're fine for $k=1$ and $k=3$. "
   ]
  },
  {
   "cell_type": "markdown",
   "metadata": {},
   "source": [
    "We're also fine for $k=5$ since there's some arrangement of $5$ points where we can generate every possible dichotomy using a triangle."
   ]
  },
  {
   "cell_type": "markdown",
   "metadata": {},
   "source": [
    "There isn't really a systematic way of doing it, but placing points on the perimeter of a circle is a start."
   ]
  },
  {
   "cell_type": "markdown",
   "metadata": {},
   "source": [
    "## Problem 10"
   ]
  },
  {
   "cell_type": "markdown",
   "metadata": {},
   "source": [
    "__[b]__"
   ]
  },
  {
   "cell_type": "markdown",
   "metadata": {},
   "source": [
    "We'll get the growth function if we can figure out the break point $k$ for two concentric circles."
   ]
  },
  {
   "cell_type": "markdown",
   "metadata": {},
   "source": [
    "We can see that we can generate all possible dichotomies for $k=1$ and $k=2$ points, so let's move on to more."
   ]
  },
  {
   "cell_type": "markdown",
   "metadata": {},
   "source": [
    "An interesting thing is we might be able to map this to a 1D version--that is, it's basically equivalent to the interval hypothesis set on a line."
   ]
  },
  {
   "cell_type": "markdown",
   "metadata": {},
   "source": [
    "So the answer is $$ {N+1 \\choose 2} + 1, $$ since we have $N+1$ spaces in between the $N$ points and can choose $2$ for the points, and then we finally have one more thing as in the argument from before."
   ]
  }
 ],
 "metadata": {
  "kernelspec": {
   "display_name": "Python 3",
   "language": "python",
   "name": "python3"
  },
  "language_info": {
   "codemirror_mode": {
    "name": "ipython",
    "version": 3
   },
   "file_extension": ".py",
   "mimetype": "text/x-python",
   "name": "python",
   "nbconvert_exporter": "python",
   "pygments_lexer": "ipython3",
   "version": "3.5.3"
  }
 },
 "nbformat": 4,
 "nbformat_minor": 2
}
