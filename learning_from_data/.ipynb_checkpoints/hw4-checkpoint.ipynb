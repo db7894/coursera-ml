{
 "cells": [
  {
   "cell_type": "code",
   "execution_count": 1,
   "metadata": {
    "collapsed": true
   },
   "outputs": [],
   "source": [
    "from IPython.display import IFrame"
   ]
  },
  {
   "cell_type": "code",
   "execution_count": 2,
   "metadata": {},
   "outputs": [
    {
     "data": {
      "text/html": [
       "\n",
       "        <iframe\n",
       "            width=\"1000\"\n",
       "            height=\"1000\"\n",
       "            src=\"hw4.pdf\"\n",
       "            frameborder=\"0\"\n",
       "            allowfullscreen\n",
       "        ></iframe>\n",
       "        "
      ],
      "text/plain": [
       "<IPython.lib.display.IFrame at 0x1be11eb84e0>"
      ]
     },
     "execution_count": 2,
     "metadata": {},
     "output_type": "execute_result"
    }
   ],
   "source": [
    "IFrame(\"hw4.pdf\", width=1000, height=1000)"
   ]
  },
  {
   "cell_type": "markdown",
   "metadata": {},
   "source": [
    "## Problem 1"
   ]
  },
  {
   "cell_type": "markdown",
   "metadata": {},
   "source": [
    "__[d]__"
   ]
  },
  {
   "cell_type": "markdown",
   "metadata": {},
   "source": [
    "Recall our relation of $\\epsilon$ and $\\delta$ from lecture: $$ \\epsilon = \\sqrt{ \\dfrac{8}{N} \\ln{\\dfrac{4 m_{\\mathcal{H}}(2N)}{\\delta}} } $$\n",
    "where plugging in the bound $ m_{\\mathcal{H}}(N) = N^{d_{VC}} $ gives $$ \\epsilon = \\sqrt{ \\dfrac{8}{N} \\ln{\\dfrac{4 \\cdot (2N)^{d_{VC}}}{\\delta}} }. $$"
   ]
  },
  {
   "cell_type": "markdown",
   "metadata": {},
   "source": [
    "We want 95% confidence that the generalization error is at most 0.05, or, in other words, $ \\epsilon = 0.05 $ and $ \\delta = 0.05 $, and we are given $ d_{VC} = 10 $. We want to find $N$ in the above equation, so we can plug these values in."
   ]
  },
  {
   "cell_type": "markdown",
   "metadata": {},
   "source": [
    "Plugging into our handy-dandy Wolfram Alpha and solving for $N$, we get $$ N = 452,957, $$ which is closest to the answer $ 460,000 $."
   ]
  },
  {
   "cell_type": "markdown",
   "metadata": {},
   "source": [
    "## Problem 2"
   ]
  },
  {
   "cell_type": "markdown",
   "metadata": {},
   "source": [
    "With $ d_{VC} = 50 $ and $ \\delta = 0.05 $, we want to plot the bounds\n",
    "1. $$ \\epsilon \\leq \\sqrt{ \\dfrac{8}{N} \\ln{\\dfrac{4 m_{\\mathcal{H}}(2N)}{\\delta}} } $$\n",
    "2. $$ \\epsilon \\leq \\sqrt{ \\dfrac{2 \\ln(2Nm_{\\mathcal{H}}(N))}{N} } + \\sqrt{ \\dfrac{2}{N} \\ln \\dfrac{1}{\\delta} } + \\dfrac{1}{N} $$\n",
    "3. $$ \\epsilon \\leq \\sqrt{ \\dfrac{1}{N} \\left( 2 \\epsilon + \\ln \\dfrac{6m_{\\mathcal{H}}(2N)}{\\delta} \\right) }$$\n",
    "4. $$ \\epsilon \\leq \\sqrt{ \\dfrac{1}{2N} \\left( 4\\epsilon(1+\\epsilon) + \\ln \\dfrac{4m_{\\mathcal{H}}(N^2)}{\\delta} \\right) }$$"
   ]
  },
  {
   "cell_type": "markdown",
   "metadata": {},
   "source": [
    "Let's try just one of these to see how things go."
   ]
  },
  {
   "cell_type": "code",
   "execution_count": 3,
   "metadata": {
    "collapsed": true
   },
   "outputs": [],
   "source": [
    "import numpy as np\n",
    "import math\n",
    "import matplotlib.pyplot as plt"
   ]
  },
  {
   "cell_type": "code",
   "execution_count": 4,
   "metadata": {
    "collapsed": true
   },
   "outputs": [],
   "source": [
    "def VC_bound(n):\n",
    "    return math.sqrt( (8 / n) * math.log((n**(50)) / 0.05) )"
   ]
  },
  {
   "cell_type": "code",
   "execution_count": 10,
   "metadata": {
    "collapsed": true
   },
   "outputs": [],
   "source": [
    "def RP_bound(n):\n",
    "    return math.sqrt( (2 * math.log( 2 * n * n**(50) ) / n) ) + math.sqrt( (2 / n) * math.log(1 / 0.05) ) + (1/n)"
   ]
  },
  {
   "cell_type": "code",
   "execution_count": null,
   "metadata": {
    "collapsed": true
   },
   "outputs": [],
   "source": [
    "def PVB_bound(n):\n",
    "    return math.sqrt( (8 / n) * ( 2 math.log((n**(50)) / 0.05) ) )"
   ]
  },
  {
   "cell_type": "code",
   "execution_count": 24,
   "metadata": {
    "collapsed": true
   },
   "outputs": [],
   "source": [
    "delta = 100\n",
    "xrange = np.arange(1, 10000, delta)\n",
    "yrange = np.arange(1, 10000, delta)\n",
    "n, e = np.meshgrid(xrange,yrange)"
   ]
  },
  {
   "cell_type": "code",
   "execution_count": 25,
   "metadata": {},
   "outputs": [
    {
     "name": "stderr",
     "output_type": "stream",
     "text": [
      "C:\\Python35\\lib\\site-packages\\ipykernel_launcher.py:2: RuntimeWarning: invalid value encountered in log\n",
      "  \n"
     ]
    }
   ],
   "source": [
    "F = e\n",
    "G = np.sqrt( (1 / n) * ( 2*e + np.log( (6 * n**(50)) / 0.05 )  ) )\n",
    "# G = np.vectorize(G1)"
   ]
  },
  {
   "cell_type": "code",
   "execution_count": 26,
   "metadata": {},
   "outputs": [
    {
     "data": {
      "image/png": "[encoded data removed]",
      "text/plain": [
       "<matplotlib.figure.Figure at 0x1be12f59080>"
      ]
     },
     "metadata": {},
     "output_type": "display_data"
    }
   ],
   "source": [
    "plt.contour((F - G), [0])\n",
    "plt.show()"
   ]
  },
  {
   "cell_type": "code",
   "execution_count": null,
   "metadata": {
    "collapsed": true
   },
   "outputs": [],
   "source": [
    "def D_bound(n):\n",
    "    return math.sqrt( (1 / n) * math.log((n**(50)) / 0.05) )"
   ]
  },
  {
   "cell_type": "code",
   "execution_count": 7,
   "metadata": {
    "collapsed": true
   },
   "outputs": [],
   "source": [
    "f = np.vectorize(VC_bound)"
   ]
  },
  {
   "cell_type": "code",
   "execution_count": 12,
   "metadata": {
    "collapsed": true
   },
   "outputs": [],
   "source": [
    "f2 = np.vectorize(RP_bound)"
   ]
  },
  {
   "cell_type": "code",
   "execution_count": null,
   "metadata": {
    "collapsed": true
   },
   "outputs": [],
   "source": [
    "# we'll write the confusing PVB bound so it can  be placed below."
   ]
  },
  {
   "cell_type": "code",
   "execution_count": 13,
   "metadata": {},
   "outputs": [
    {
     "data": {
      "image/png": "[encoded data removed]",
      "text/plain": [
       "<matplotlib.figure.Figure at 0x1be12c5e160>"
      ]
     },
     "metadata": {},
     "output_type": "display_data"
    }
   ],
   "source": [
    "t = np.arange(1.0, 10000.0, 100)\n",
    "\n",
    "plt.plot(t, f(t), 'r', t, f2(t), 'b')\n",
    "plt.xlabel(\"Number of examples, N\")\n",
    "plt.ylabel(\"Generalization Error\")\n",
    "plt.show()"
   ]
  },
  {
   "cell_type": "code",
   "execution_count": null,
   "metadata": {
    "collapsed": true
   },
   "outputs": [],
   "source": []
  },
  {
   "cell_type": "markdown",
   "metadata": {},
   "source": [
    "## Problem 3"
   ]
  },
  {
   "cell_type": "markdown",
   "metadata": {},
   "source": []
  },
  {
   "cell_type": "markdown",
   "metadata": {},
   "source": [
    "## Problem 4"
   ]
  },
  {
   "cell_type": "markdown",
   "metadata": {},
   "source": [
    "__[e]__"
   ]
  },
  {
   "cell_type": "markdown",
   "metadata": {},
   "source": [
    "We want to minimize the mean-squared error $ \\left( \\overline{g}(x) - f(x) \\right)^2 $, or in this case the area of $ \\left( \\hat{a}x - \\sin(\\pi x) \\right)^2 $."
   ]
  },
  {
   "cell_type": "markdown",
   "metadata": {},
   "source": [
    "So we'll minimize $$ \\int_{-1}^{1} \\left( \\sin(\\pi x) - \\hat{a}x \\right)^2 dx $$"
   ]
  },
  {
   "cell_type": "markdown",
   "metadata": {},
   "source": [
    "We'll ask wolfram for \"derivative of integral of (sin(pi*x)-(a*x))^2 from -1 to 1 with respect to a\", which gives $$ \\dfrac{4a}{3} - \\dfrac{4}{\\pi}. $$"
   ]
  },
  {
   "cell_type": "markdown",
   "metadata": {},
   "source": [
    "We'll simulate this by picking two random points from $ \\sin(\\pi x) $ in the interval $ [-1,1] $, approximating with $ax$ to get the minimum squared error and use that."
   ]
  },
  {
   "cell_type": "code",
   "execution_count": 28,
   "metadata": {},
   "outputs": [
    {
     "data": {
      "text/plain": [
       "1.2246467991473532e-16"
      ]
     },
     "execution_count": 28,
     "metadata": {},
     "output_type": "execute_result"
    }
   ],
   "source": [
    "math.sin(math.pi)"
   ]
  },
  {
   "cell_type": "code",
   "execution_count": 52,
   "metadata": {
    "collapsed": true
   },
   "outputs": [],
   "source": [
    "def pick_two_points():\n",
    "    # returns two random values from sin(pi * x) in the interval x = [-1,1], with both the x and y values.\n",
    "    x1 = np.random.uniform(-1,1)\n",
    "    x2 = np.random.uniform(-1,1)\n",
    "    \n",
    "    y1 = math.sin(math.pi * x1)\n",
    "    y2 = math.sin(math.pi * x2)\n",
    "    \n",
    "    pt1 = np.array([x1,y1])\n",
    "    pt2 = np.array([x2,y2])\n",
    "    \n",
    "    return pt1,pt2"
   ]
  },
  {
   "cell_type": "code",
   "execution_count": 53,
   "metadata": {
    "collapsed": true
   },
   "outputs": [],
   "source": [
    "x1,x2 = pick_two_points()"
   ]
  },
  {
   "cell_type": "code",
   "execution_count": 54,
   "metadata": {},
   "outputs": [
    {
     "data": {
      "text/plain": [
       "(array([-0.06878031, -0.21440216]), array([-0.64963093, -0.89153232]))"
      ]
     },
     "execution_count": 54,
     "metadata": {},
     "output_type": "execute_result"
    }
   ],
   "source": [
    "x1,x2"
   ]
  },
  {
   "cell_type": "code",
   "execution_count": 55,
   "metadata": {},
   "outputs": [
    {
     "data": {
      "text/plain": [
       "-0.21440216378085486"
      ]
     },
     "execution_count": 55,
     "metadata": {},
     "output_type": "execute_result"
    }
   ],
   "source": [
    "x1[1]"
   ]
  },
  {
   "cell_type": "code",
   "execution_count": 35,
   "metadata": {
    "collapsed": true
   },
   "outputs": [],
   "source": [
    "x1[1] = math.sin(math.pi * x1[1])"
   ]
  },
  {
   "cell_type": "code",
   "execution_count": 36,
   "metadata": {},
   "outputs": [
    {
     "data": {
      "text/plain": [
       "array([-0.90496046,  0.91412441])"
      ]
     },
     "execution_count": 36,
     "metadata": {},
     "output_type": "execute_result"
    }
   ],
   "source": [
    "x1"
   ]
  },
  {
   "cell_type": "code",
   "execution_count": 56,
   "metadata": {},
   "outputs": [],
   "source": [
    "X = np.array([[x1[0]], [x2[0]]])"
   ]
  },
  {
   "cell_type": "code",
   "execution_count": 57,
   "metadata": {},
   "outputs": [
    {
     "data": {
      "text/plain": [
       "array([[-0.06878031],\n",
       "       [-0.64963093]])"
      ]
     },
     "execution_count": 57,
     "metadata": {},
     "output_type": "execute_result"
    }
   ],
   "source": [
    "X"
   ]
  },
  {
   "cell_type": "code",
   "execution_count": 58,
   "metadata": {
    "collapsed": true
   },
   "outputs": [],
   "source": [
    "y = np.array([[x1[1]], [x2[1]]])"
   ]
  },
  {
   "cell_type": "code",
   "execution_count": 59,
   "metadata": {},
   "outputs": [
    {
     "data": {
      "text/plain": [
       "array([[-0.21440216],\n",
       "       [-0.89153232]])"
      ]
     },
     "execution_count": 59,
     "metadata": {},
     "output_type": "execute_result"
    }
   ],
   "source": [
    "y"
   ]
  },
  {
   "cell_type": "code",
   "execution_count": 60,
   "metadata": {},
   "outputs": [
    {
     "data": {
      "text/plain": [
       "array([[-0.16117197, -1.52227134]])"
      ]
     },
     "execution_count": 60,
     "metadata": {},
     "output_type": "execute_result"
    }
   ],
   "source": [
    "X_inv = np.linalg.pinv(X)\n",
    "X_inv"
   ]
  },
  {
   "cell_type": "code",
   "execution_count": 61,
   "metadata": {},
   "outputs": [
    {
     "data": {
      "image/png": "[encoded data removed]",
      "text/plain": [
       "<matplotlib.figure.Figure at 0x1be1427efd0>"
      ]
     },
     "metadata": {},
     "output_type": "display_data"
    }
   ],
   "source": [
    "plt.plot(X,y)\n",
    "plt.show()"
   ]
  },
  {
   "cell_type": "code",
   "execution_count": 45,
   "metadata": {
    "collapsed": true
   },
   "outputs": [],
   "source": [
    "w = X_inv.dot(y)"
   ]
  },
  {
   "cell_type": "code",
   "execution_count": 46,
   "metadata": {},
   "outputs": [
    {
     "data": {
      "text/plain": [
       "array([[-0.46268055]])"
      ]
     },
     "execution_count": 46,
     "metadata": {},
     "output_type": "execute_result"
    }
   ],
   "source": [
    "w"
   ]
  },
  {
   "cell_type": "markdown",
   "metadata": {},
   "source": [
    "This is the value of a that we have to work with."
   ]
  },
  {
   "cell_type": "code",
   "execution_count": 47,
   "metadata": {
    "collapsed": true
   },
   "outputs": [],
   "source": [
    "def approx_line(pt1, pt2):\n",
    "    \"\"\"\n",
    "    creates a line of the form y = ax that gives the best approximation to the line between two points\n",
    "    \"\"\"\n",
    "    X = np.array([[pt1[0]], [pt2[0]]])\n",
    "    y = np.array([[pt1[1]],[pt2[1]]])\n",
    "    \n",
    "    X_inv = np.linalg.pinv(X)\n",
    "    a = X_inv.dot(y)\n",
    "    \n",
    "    return a"
   ]
  },
  {
   "cell_type": "code",
   "execution_count": 65,
   "metadata": {
    "collapsed": true
   },
   "outputs": [],
   "source": [
    "def target(x):\n",
    "    return np.sin(np.pi * x[0])"
   ]
  },
  {
   "cell_type": "code",
   "execution_count": 86,
   "metadata": {},
   "outputs": [
    {
     "data": {
      "text/plain": [
       "[array([-0.27711117]), array([-0.17907893])]"
      ]
     },
     "execution_count": 86,
     "metadata": {},
     "output_type": "execute_result"
    }
   ],
   "source": [
    "training_set = np.array([[random.uniform(-1, 1)] for n in range(1000)])\n",
    "subset = random.sample(list(training_set), 2)\n",
    "subset"
   ]
  },
  {
   "cell_type": "markdown",
   "metadata": {},
   "source": [
    "For testing purposes going to use another LR."
   ]
  },
  {
   "cell_type": "code",
   "execution_count": 81,
   "metadata": {
    "collapsed": true
   },
   "outputs": [],
   "source": [
    "class Model:\n",
    "    def __init__(self,\n",
    "                 training_set=None,\n",
    "                 testing_set=None):\n",
    "        self.training_set = training_set\n",
    "        self.testing_set = testing_set"
   ]
  },
  {
   "cell_type": "code",
   "execution_count": 82,
   "metadata": {},
   "outputs": [],
   "source": [
    "class LinearRegression(Model):\n",
    "    def __init__(self, training_set=None, testing_set=None):\n",
    "        Model.__init__(self, training_set, testing_set)\n",
    "        self.weights = np.array([0., 0., 0.])\n",
    "        # points that define the target function\n",
    "        self.point1 = (random.uniform(-1, 1), random.uniform(-1, 1))\n",
    "        self.point2 = (random.uniform(-1, 1), random.uniform(-1, 1))\n",
    "\n",
    "    def target(self, feature):\n",
    "        x = feature[1]\n",
    "        y = feature[2]\n",
    "        x1, y1 = self.point1\n",
    "        x2, y2 = self.point2\n",
    "        slope = (y2 - y1) / (x2 - x1)\n",
    "        # simple check to see if point (x, y) is above or below the line\n",
    "        return 1 if y > (slope * (x - x1) + y1) else -1\n",
    "\n",
    "    def train(self, noise=None):\n",
    "        data_matrix = np.array(self.training_set)\n",
    "        target_vector = np.array([[self.target(point)] for point in self.training_set])\n",
    "\n",
    "        if noise is not None:\n",
    "            self.add_noise(target_vector, noise)\n",
    "\n",
    "        # normal equations linear regression\n",
    "        pinv = np.linalg.pinv(data_matrix)\n",
    "        self.weights = np.dot(pinv, target_vector)\n",
    "\n",
    "    def add_noise(self, targets, noise):\n",
    "        noisy_points = set()\n",
    "        num_points = len(self.testing_set)\n",
    "        cap = int(num_points * noise)\n",
    "\n",
    "        while len(noisy_points) < cap:\n",
    "            index = random.randint(0, num_points - 1)\n",
    "            if not index in noisy_points:\n",
    "                targets[index][0] *= -1\n",
    "                noisy_points.add(index)\n",
    "\n",
    "    def test(self, noise=None):\n",
    "        targets = np.array([[self.target(point)] for point in self.testing_set])\n",
    "\n",
    "        if noise is not None:\n",
    "            self.add_noise(targets, noise)\n",
    "\n",
    "        tys = np.sign(np.dot(self.testing_set, self.weights))\n",
    "        return len(targets[tys != targets]) / float(len(targets))"
   ]
  },
  {
   "cell_type": "code",
   "execution_count": 78,
   "metadata": {
    "collapsed": true
   },
   "outputs": [],
   "source": [
    "import random"
   ]
  },
  {
   "cell_type": "code",
   "execution_count": 89,
   "metadata": {},
   "outputs": [],
   "source": [
    "def run_experiment(num_times):\n",
    "    \"\"\"\n",
    "    run a number of experiments where we generate points on sinusoid distribution and get value of a\n",
    "    \"\"\"\n",
    "    \n",
    "    weights = []\n",
    "    avg_a = 0\n",
    "    \n",
    "    training_set = np.array([[random.uniform(-1, 1)] for i in range(num_times)])\n",
    "    targets = np.array([[target(point)] for point in training_set])\n",
    "    \n",
    "    for i in range(num_times):\n",
    "        subset = random.sample(list(training_set), 2)\n",
    "        lr = LinearRegression(subset)\n",
    "        lr.target = target\n",
    "        lr.train()\n",
    "        weights += [lr.weights.T[0]]\n",
    "        \n",
    "    gbar = np.mean(weights)\n",
    "    \n",
    "    gbar_targets = np.dot(training_set, gbar.T)\n",
    "    \n",
    "    # bias is the squared error\n",
    "    bias = np.mean((gbar_targets - targets) ** 2)\n",
    "    \n",
    "    weights = np.array(weights)\n",
    "    \n",
    "    # now compare every generated hypothesis in weights\n",
    "    # with the average hypothesis gbar\n",
    "    ranked_hypotheses = np.dot(training_set, weights.T)\n",
    "    variance = []\n",
    "    \n",
    "    for i in range(len(ranked_hypotheses)):\n",
    "        g = np.array([ranked_hypotheses[:, i]]).T\n",
    "        variance += [np.mean((g - gbar_targets) ** 2)]\n",
    "                     \n",
    "    variance = np.mean(variance)\n",
    "\n",
    "    return (gbar, bias, variance)"
   ]
  },
  {
   "cell_type": "code",
   "execution_count": 90,
   "metadata": {},
   "outputs": [],
   "source": [
    "gbar, bias, variance = run_experiment(10000)"
   ]
  },
  {
   "cell_type": "code",
   "execution_count": 91,
   "metadata": {},
   "outputs": [
    {
     "data": {
      "text/plain": [
       "1.4336332651390957"
      ]
     },
     "execution_count": 91,
     "metadata": {},
     "output_type": "execute_result"
    }
   ],
   "source": [
    "gbar"
   ]
  },
  {
   "cell_type": "markdown",
   "metadata": {},
   "source": [
    "We are asked to match an _exact_ value--we get 1.43, which matches __none__ of the multiple-choice answers."
   ]
  },
  {
   "cell_type": "markdown",
   "metadata": {},
   "source": [
    "## Problem 5"
   ]
  },
  {
   "cell_type": "markdown",
   "metadata": {},
   "source": [
    "__[b]__"
   ]
  },
  {
   "cell_type": "code",
   "execution_count": 92,
   "metadata": {},
   "outputs": [
    {
     "data": {
      "text/plain": [
       "0.27087272836959397"
      ]
     },
     "execution_count": 92,
     "metadata": {},
     "output_type": "execute_result"
    }
   ],
   "source": [
    "bias"
   ]
  },
  {
   "cell_type": "markdown",
   "metadata": {},
   "source": [
    "## Problem 6"
   ]
  },
  {
   "cell_type": "markdown",
   "metadata": {},
   "source": [
    "__[a]__"
   ]
  },
  {
   "cell_type": "code",
   "execution_count": 93,
   "metadata": {},
   "outputs": [
    {
     "data": {
      "text/plain": [
       "0.24002194647030187"
      ]
     },
     "execution_count": 93,
     "metadata": {},
     "output_type": "execute_result"
    }
   ],
   "source": [
    "variance"
   ]
  },
  {
   "cell_type": "markdown",
   "metadata": {},
   "source": [
    "## Problem 7"
   ]
  },
  {
   "cell_type": "markdown",
   "metadata": {},
   "source": []
  },
  {
   "cell_type": "markdown",
   "metadata": {},
   "source": [
    "## Problem 8"
   ]
  },
  {
   "cell_type": "markdown",
   "metadata": {},
   "source": [
    "__[c]__"
   ]
  },
  {
   "cell_type": "markdown",
   "metadata": {},
   "source": [
    "For $ q > N $, $ {N \\choose q } = 0 $. So, until we reach a value of $N$ where $N \\geq q$, we have $ m_{\\mathcal{H}}(N+1) = 2m_{\\mathcal{H}}(N) $."
   ]
  },
  {
   "cell_type": "markdown",
   "metadata": {},
   "source": [
    "We know that for $N=1$, $m_{\\mathcal{H}}(N) = 2 = 2^1$, so until $N=q$ we have $m_{\\mathcal{H}}(N) = 2^N$."
   ]
  },
  {
   "cell_type": "markdown",
   "metadata": {},
   "source": [
    "Now we see that $$ m_{\\mathcal{H}}(q+1) = 2m_{\\mathcal{H}}(q) - {q \\choose q}, $$ which means $$ m_{\\mathcal{H}}(q+1) < 2^{q+1}. $$"
   ]
  },
  {
   "cell_type": "markdown",
   "metadata": {},
   "source": [
    "We have that if there is _no_ break point, then $ m_{\\mathcal{H}}(N) = 2^N $, which is true here until we get to $q+1$ meaning that $q+1$ is the break point.\n",
    "\n",
    "Thus, $$ d_{VC} = q. $$"
   ]
  },
  {
   "cell_type": "markdown",
   "metadata": {},
   "source": [
    "## Problem 9"
   ]
  },
  {
   "cell_type": "markdown",
   "metadata": {},
   "source": [
    "__[b]__"
   ]
  },
  {
   "cell_type": "markdown",
   "metadata": {},
   "source": []
  },
  {
   "cell_type": "markdown",
   "metadata": {},
   "source": [
    "## Problem 10"
   ]
  },
  {
   "cell_type": "markdown",
   "metadata": {},
   "source": []
  }
 ],
 "metadata": {
  "kernelspec": {
   "display_name": "Python 3",
   "language": "python",
   "name": "python3"
  },
  "language_info": {
   "codemirror_mode": {
    "name": "ipython",
    "version": 3
   },
   "file_extension": ".py",
   "mimetype": "text/x-python",
   "name": "python",
   "nbconvert_exporter": "python",
   "pygments_lexer": "ipython3",
   "version": "3.5.3"
  }
 },
 "nbformat": 4,
 "nbformat_minor": 2
}
