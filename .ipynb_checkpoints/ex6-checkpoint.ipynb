{
 "cells": [
  {
   "cell_type": "code",
   "execution_count": 1,
   "metadata": {
    "collapsed": true
   },
   "outputs": [],
   "source": [
    "import numpy as np  \n",
    "import pandas as pd  \n",
    "import matplotlib.pyplot as plt  \n",
    "import seaborn as sb  \n",
    "from scipy.io import loadmat  \n",
    "%matplotlib inline"
   ]
  },
  {
   "cell_type": "code",
   "execution_count": 2,
   "metadata": {
    "scrolled": true
   },
   "outputs": [
    {
     "data": {
      "text/plain": [
       "{'X': array([[ 1.9643  ,  4.5957  ],\n",
       "        [ 2.2753  ,  3.8589  ],\n",
       "        [ 2.9781  ,  4.5651  ],\n",
       "        [ 2.932   ,  3.5519  ],\n",
       "        [ 3.5772  ,  2.856   ],\n",
       "        [ 4.015   ,  3.1937  ],\n",
       "        [ 3.3814  ,  3.4291  ],\n",
       "        [ 3.9113  ,  4.1761  ],\n",
       "        [ 2.7822  ,  4.0431  ],\n",
       "        [ 2.5518  ,  4.6162  ],\n",
       "        [ 3.3698  ,  3.9101  ],\n",
       "        [ 3.1048  ,  3.0709  ],\n",
       "        [ 1.9182  ,  4.0534  ],\n",
       "        [ 2.2638  ,  4.3706  ],\n",
       "        [ 2.6555  ,  3.5008  ],\n",
       "        [ 3.1855  ,  4.2888  ],\n",
       "        [ 3.6579  ,  3.8692  ],\n",
       "        [ 3.9113  ,  3.4291  ],\n",
       "        [ 3.6002  ,  3.1221  ],\n",
       "        [ 3.0357  ,  3.3165  ],\n",
       "        [ 1.5841  ,  3.3575  ],\n",
       "        [ 2.0103  ,  3.2039  ],\n",
       "        [ 1.9527  ,  2.7843  ],\n",
       "        [ 2.2753  ,  2.7127  ],\n",
       "        [ 2.3099  ,  2.9584  ],\n",
       "        [ 2.8283  ,  2.6309  ],\n",
       "        [ 3.0473  ,  2.2931  ],\n",
       "        [ 2.4827  ,  2.0373  ],\n",
       "        [ 2.5057  ,  2.3853  ],\n",
       "        [ 1.8721  ,  2.0577  ],\n",
       "        [ 2.0103  ,  2.3546  ],\n",
       "        [ 1.2269  ,  2.3239  ],\n",
       "        [ 1.8951  ,  2.9174  ],\n",
       "        [ 1.561   ,  3.0709  ],\n",
       "        [ 1.5495  ,  2.6923  ],\n",
       "        [ 1.6878  ,  2.4057  ],\n",
       "        [ 1.4919  ,  2.0271  ],\n",
       "        [ 0.962   ,  2.682   ],\n",
       "        [ 1.1693  ,  2.9276  ],\n",
       "        [ 0.8122  ,  2.9992  ],\n",
       "        [ 0.9735  ,  3.3881  ],\n",
       "        [ 1.25    ,  3.1937  ],\n",
       "        [ 1.3191  ,  3.5109  ],\n",
       "        [ 2.2292  ,  2.201   ],\n",
       "        [ 2.4482  ,  2.6411  ],\n",
       "        [ 2.7938  ,  1.9656  ],\n",
       "        [ 2.091   ,  1.6177  ],\n",
       "        [ 2.5403  ,  2.8867  ],\n",
       "        [ 0.9044  ,  3.0198  ],\n",
       "        [ 0.76615 ,  2.5899  ],\n",
       "        [ 0.086405,  4.1045  ]]),\n",
       " '__globals__': [],\n",
       " '__header__': b'MATLAB 5.0 MAT-file, Platform: GLNXA64, Created on: Sun Nov 13 14:28:43 2011',\n",
       " '__version__': '1.0',\n",
       " 'y': array([[1],\n",
       "        [1],\n",
       "        [1],\n",
       "        [1],\n",
       "        [1],\n",
       "        [1],\n",
       "        [1],\n",
       "        [1],\n",
       "        [1],\n",
       "        [1],\n",
       "        [1],\n",
       "        [1],\n",
       "        [1],\n",
       "        [1],\n",
       "        [1],\n",
       "        [1],\n",
       "        [1],\n",
       "        [1],\n",
       "        [1],\n",
       "        [1],\n",
       "        [0],\n",
       "        [0],\n",
       "        [0],\n",
       "        [0],\n",
       "        [0],\n",
       "        [0],\n",
       "        [0],\n",
       "        [0],\n",
       "        [0],\n",
       "        [0],\n",
       "        [0],\n",
       "        [0],\n",
       "        [0],\n",
       "        [0],\n",
       "        [0],\n",
       "        [0],\n",
       "        [0],\n",
       "        [0],\n",
       "        [0],\n",
       "        [0],\n",
       "        [0],\n",
       "        [0],\n",
       "        [0],\n",
       "        [0],\n",
       "        [0],\n",
       "        [0],\n",
       "        [0],\n",
       "        [0],\n",
       "        [0],\n",
       "        [0],\n",
       "        [1]], dtype=uint8)}"
      ]
     },
     "execution_count": 2,
     "metadata": {},
     "output_type": "execute_result"
    }
   ],
   "source": [
    "raw_data = loadmat('data/ex6data1.mat')  \n",
    "raw_data"
   ]
  },
  {
   "cell_type": "code",
   "execution_count": 3,
   "metadata": {
    "collapsed": true
   },
   "outputs": [],
   "source": [
    "data = pd.DataFrame(raw_data['X'], columns=['X1', 'X2'])  \n",
    "data['y'] = raw_data['y']"
   ]
  },
  {
   "cell_type": "code",
   "execution_count": 4,
   "metadata": {
    "collapsed": true
   },
   "outputs": [],
   "source": [
    "positive = data[data['y'].isin([1])]  \n",
    "negative = data[data['y'].isin([0])]"
   ]
  },
  {
   "cell_type": "code",
   "execution_count": 5,
   "metadata": {},
   "outputs": [
    {
     "data": {
      "text/plain": [
       "<matplotlib.legend.Legend at 0x1b8d9765eb8>"
      ]
     },
     "execution_count": 5,
     "metadata": {},
     "output_type": "execute_result"
    },
    {
     "data": {
      "image/png": "[encoded data removed]",
      "text/plain": [
       "<matplotlib.figure.Figure at 0x1b8d9953ba8>"
      ]
     },
     "metadata": {},
     "output_type": "display_data"
    }
   ],
   "source": [
    "fig, ax = plt.subplots(figsize=(12,8))  \n",
    "ax.scatter(positive['X1'], positive['X2'], s=50, marker='x', label='Positive')  \n",
    "ax.scatter(negative['X1'], negative['X2'], s=50, marker='o', label='Negative')  \n",
    "ax.legend()"
   ]
  },
  {
   "cell_type": "markdown",
   "metadata": {},
   "source": [
    "Test C=1"
   ]
  },
  {
   "cell_type": "code",
   "execution_count": 6,
   "metadata": {},
   "outputs": [
    {
     "data": {
      "text/plain": [
       "LinearSVC(C=1, class_weight=None, dual=True, fit_intercept=True,\n",
       "     intercept_scaling=1, loss='hinge', max_iter=1000, multi_class='ovr',\n",
       "     penalty='l2', random_state=None, tol=0.0001, verbose=0)"
      ]
     },
     "execution_count": 6,
     "metadata": {},
     "output_type": "execute_result"
    }
   ],
   "source": [
    "from sklearn import svm  \n",
    "svc = svm.LinearSVC(C=1, loss='hinge', max_iter=1000)  \n",
    "svc"
   ]
  },
  {
   "cell_type": "code",
   "execution_count": 7,
   "metadata": {},
   "outputs": [
    {
     "data": {
      "text/plain": [
       "0.98039215686274506"
      ]
     },
     "execution_count": 7,
     "metadata": {},
     "output_type": "execute_result"
    }
   ],
   "source": [
    "svc.fit(data[['X1', 'X2']], data['y'])  \n",
    "svc.score(data[['X1', 'X2']], data['y']) "
   ]
  },
  {
   "cell_type": "code",
   "execution_count": 8,
   "metadata": {},
   "outputs": [
    {
     "data": {
      "text/plain": [
       "0.90196078431372551"
      ]
     },
     "execution_count": 8,
     "metadata": {},
     "output_type": "execute_result"
    }
   ],
   "source": [
    "svc2 = svm.LinearSVC(C=100, loss='hinge', max_iter=1000)  \n",
    "svc2.fit(data[['X1', 'X2']], data['y'])  \n",
    "svc2.score(data[['X1', 'X2']], data['y']) "
   ]
  },
  {
   "cell_type": "code",
   "execution_count": 9,
   "metadata": {
    "collapsed": true
   },
   "outputs": [],
   "source": [
    "data['SVM 1 Confidence'] = svc.decision_function(data[['X1', 'X2']])"
   ]
  },
  {
   "cell_type": "code",
   "execution_count": 10,
   "metadata": {},
   "outputs": [
    {
     "data": {
      "text/plain": [
       "<matplotlib.text.Text at 0x1b8da2f9f28>"
      ]
     },
     "execution_count": 10,
     "metadata": {},
     "output_type": "execute_result"
    },
    {
     "data": {
      "image/png": "[encoded data removed]",
      "text/plain": [
       "<matplotlib.figure.Figure at 0x1b8da2c6b70>"
      ]
     },
     "metadata": {},
     "output_type": "display_data"
    }
   ],
   "source": [
    "fig, ax = plt.subplots(figsize=(12,8))  \n",
    "ax.scatter(data['X1'], data['X2'], s=50, c=data['SVM 1 Confidence'], cmap='seismic')  \n",
    "ax.set_title('SVM (C=1) Decision Confidence')"
   ]
  },
  {
   "cell_type": "code",
   "execution_count": null,
   "metadata": {
    "collapsed": true
   },
   "outputs": [],
   "source": []
  }
 ],
 "metadata": {
  "kernelspec": {
   "display_name": "Python 3",
   "language": "python",
   "name": "python3"
  },
  "language_info": {
   "codemirror_mode": {
    "name": "ipython",
    "version": 3
   },
   "file_extension": ".py",
   "mimetype": "text/x-python",
   "name": "python",
   "nbconvert_exporter": "python",
   "pygments_lexer": "ipython3",
   "version": "3.5.3"
  }
 },
 "nbformat": 4,
 "nbformat_minor": 2
}
