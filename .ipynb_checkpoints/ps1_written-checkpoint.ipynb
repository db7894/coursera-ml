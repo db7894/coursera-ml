{
 "cells": [
  {
   "cell_type": "markdown",
   "metadata": {},
   "source": [
    "# Easy"
   ]
  },
  {
   "cell_type": "markdown",
   "metadata": {},
   "source": [
    "## Multivariable Calculus"
   ]
  },
  {
   "cell_type": "markdown",
   "metadata": {},
   "source": [
    "Find the partial derivative of $y$ with respect to $x$, where $$ y = x\\sin(z)e^{-x}. $$"
   ]
  },
  {
   "cell_type": "markdown",
   "metadata": {},
   "source": [
    "Differentiating and using the product rule, we obtain $$ \\dfrac{\\partial y}{\\partial x} = \\sin(z)e^{-x} - x\\sin(z)e^{-x} $$"
   ]
  },
  {
   "cell_type": "markdown",
   "metadata": {},
   "source": [
    "## Linear Algebra"
   ]
  },
  {
   "cell_type": "markdown",
   "metadata": {},
   "source": [
    "### Matrix Algebra"
   ]
  },
  {
   "cell_type": "markdown",
   "metadata": {},
   "source": [
    "We have the matrix $\\boldsymbol{X}$ and vectors $\\boldsymbol{y}$ and $\\boldsymbol{z}$ below: $$ \\boldsymbol{X} = \\begin{pmatrix} 2 & 4 \\\\ 1 & 3 \\end{pmatrix}, \\ \\boldsymbol{y} = \\begin{pmatrix} 1 \\\\ 3 \\end{pmatrix}, \\ \\boldsymbol{z} = \\begin{pmatrix} 2 \\\\ 3 \\end{pmatrix} $$"
   ]
  },
  {
   "cell_type": "markdown",
   "metadata": {},
   "source": [
    "The inner product $\\boldsymbol{y}^T\\boldsymbol{z}$ is $$ \\boldsymbol{y}^T\\boldsymbol{z} = 11.  $$"
   ]
  },
  {
   "cell_type": "markdown",
   "metadata": {},
   "source": [
    "The product $\\boldsymbol{X}\\boldsymbol{y}$ is $$ \\boldsymbol{X}\\boldsymbol{y} = \\begin{pmatrix} 14 \\\\ 10 \\end{pmatrix} $$"
   ]
  },
  {
   "cell_type": "markdown",
   "metadata": {},
   "source": [
    "$\\boldsymbol{X}$ is invertible because it has a nonzero determinant. Its inverse can be found by the equation $$ \\text{det} \\begin{pmatrix} a & b \\\\ c & d \\end{pmatrix} = \\frac{1}{ad-bc} \\begin{pmatrix} d & -b \\\\ -c & a \\end{pmatrix}. $$ Using this, we have $$ \\boldsymbol{X}^{-1} = \\frac{1}{2} \\begin{pmatrix} 3 & -4 \\\\ -1 & 2 \\end{pmatrix} = \\begin{pmatrix} \\frac{3}{2} & -2 \\\\ -\\frac{1}{2} & 1 \\end{pmatrix} $$"
   ]
  },
  {
   "cell_type": "markdown",
   "metadata": {},
   "source": [
    "To get the rank of $\\boldsymbol{X}$, we transform it to row-echelon form: $$ \\begin{pmatrix} 1 & 1 \\\\ 0 & 2 \\end{pmatrix} $$"
   ]
  },
  {
   "cell_type": "markdown",
   "metadata": {},
   "source": [
    "There are two non-zero rows, meaning $\\boldsymbol{X}$ has rank $2$."
   ]
  },
  {
   "cell_type": "markdown",
   "metadata": {},
   "source": [
    "### Vector and Matrix Calculus"
   ]
  },
  {
   "cell_type": "markdown",
   "metadata": {},
   "source": [
    "Consider the vectors $\\boldsymbol{x}$ and $\\boldsymbol{\\alpha}$ and the symmetric matrix $\\boldsymbol{A}$."
   ]
  },
  {
   "cell_type": "markdown",
   "metadata": {},
   "source": [
    "The first derivative of $\\boldsymbol{\\alpha}^T\\boldsymbol{x}$ with respect to $\\boldsymbol{x}$ is $$ \\boldsymbol{\\alpha}^T. $$ We can see that this is an inner product of $\\boldsymbol{\\alpha}$ and $\\boldsymbol{x}$, which denotes a sum over all terms of $\\boldsymbol{\\alpha}$ where every term has an element of $\\boldsymbol{x}$ in it."
   ]
  },
  {
   "cell_type": "markdown",
   "metadata": {},
   "source": [
    "Find the first and second derivatives of $\\boldsymbol{x}^T\\boldsymbol{A}\\boldsymbol{x}$ with respect to $\\boldsymbol{x}$:"
   ]
  },
  {
   "cell_type": "markdown",
   "metadata": {},
   "source": []
  },
  {
   "cell_type": "markdown",
   "metadata": {},
   "source": [
    "## Probability and Statistics"
   ]
  },
  {
   "cell_type": "markdown",
   "metadata": {},
   "source": [
    "Consider a sample of data _S_ obtained by flipping a coin _X_, where 0 denotes the coin turned up heads, and 1 denotes that it turned up tails: _S_ = {1,1,0,1,0}."
   ]
  },
  {
   "cell_type": "markdown",
   "metadata": {},
   "source": [
    "The sample mean for this data is $$ \\frac{3}{5} $$"
   ]
  },
  {
   "cell_type": "markdown",
   "metadata": {},
   "source": [
    "The variance is the average squared distance between each value and the mean, or $$ \\frac{1}{5} \\left( \\frac{2}{5} + \\frac{2}{5} + \\frac{3}{5} + \\frac{2}{5} + \\frac{3}{5} \\right) = \\frac{12}{25} $$"
   ]
  },
  {
   "cell_type": "markdown",
   "metadata": {},
   "source": [
    "The probability of observing this data given that a fair coin was used is $$ P(\\textit{S}) = \\left( \\frac{1}{2} \\right)^5 $$"
   ]
  },
  {
   "cell_type": "markdown",
   "metadata": {},
   "source": [
    "This data sample would have a greater probability if $P(X = 1)$ were not 0.5 but rather some other value. We'll find this by noting $$ P(\\textit{S}) = \\left( P(X = 1) \\right)^3 \\left( P(X = 0) \\right)^2 $$"
   ]
  },
  {
   "cell_type": "markdown",
   "metadata": {},
   "source": []
  },
  {
   "cell_type": "markdown",
   "metadata": {},
   "source": []
  },
  {
   "cell_type": "markdown",
   "metadata": {},
   "source": []
  },
  {
   "cell_type": "markdown",
   "metadata": {},
   "source": [
    "# Moderate"
   ]
  },
  {
   "cell_type": "markdown",
   "metadata": {},
   "source": [
    "## Probability and Random Variables"
   ]
  },
  {
   "cell_type": "markdown",
   "metadata": {},
   "source": [
    "### Probability"
   ]
  },
  {
   "cell_type": "markdown",
   "metadata": {},
   "source": [
    "The following statements are true: $$ P(A \\cup B) = P(A) + P(B) - P(A \\cap B) $$ $$ P(A_1 \\cap A_2 \\cap A_3) = P(A_3 \\mid (A_2 \\cap A_1)) P(A_2 \\mid A_1) P(A_1) $$"
   ]
  },
  {
   "cell_type": "markdown",
   "metadata": {},
   "source": [
    "### Mean, Variance, and Entropy"
   ]
  },
  {
   "cell_type": "markdown",
   "metadata": {},
   "source": [
    "1. What is the mean, variance, and entropy of a $Bernoulli(p)$ random variable?\n",
    "2. If the variance of a zero-mean random variable $X$ is $\\sigma^2$, what is the variance of $2X$? What about the variance of $X+2$?"
   ]
  },
  {
   "cell_type": "markdown",
   "metadata": {},
   "source": [
    "A Bernoulli random variable $X ~ \\text{Ber}(p)$ obeys the following distribution: $$ P(X=1) = p, \\ P(X=0) = 1 - p$$"
   ]
  },
  {
   "cell_type": "markdown",
   "metadata": {},
   "source": [
    "To find the mean and variance, we compute some expected values: $$ E(X) = 1(p) + 0(1-p) = p, $$ $$ E(X^2) = 1^2(p) + 0^2(1-p) = p. $$"
   ]
  },
  {
   "cell_type": "markdown",
   "metadata": {},
   "source": [
    "The mean is the expected value, or $p$. The Variance is $$ V(X) = E(X^2) - [E(X)]^2 = p - p^2 = p(1-p). $$"
   ]
  },
  {
   "cell_type": "markdown",
   "metadata": {},
   "source": [
    "The entropy of a discrete random variable such as $X$ is $$ H(X) = -\\sum_{x} p(x)\\log(p(x)) = -E(\\log(p(x)) $$"
   ]
  },
  {
   "cell_type": "markdown",
   "metadata": {},
   "source": [
    "Using the above formula, we have $$ H(X) = - p\\log(p) - (1-p)\\log(1-p). $$"
   ]
  },
  {
   "cell_type": "markdown",
   "metadata": {},
   "source": [
    "The variance of $2X$ will be $(2 \\sigma)^2$. The variance of $X+2$ will be the same: $\\sigma^2$."
   ]
  },
  {
   "cell_type": "markdown",
   "metadata": {},
   "source": [
    "### Mutual and Conditional Independence"
   ]
  },
  {
   "cell_type": "markdown",
   "metadata": {},
   "source": []
  },
  {
   "cell_type": "markdown",
   "metadata": {},
   "source": []
  },
  {
   "cell_type": "markdown",
   "metadata": {},
   "source": []
  },
  {
   "cell_type": "markdown",
   "metadata": {},
   "source": [
    "### Law of Large Numbers and Central Limit Theorem"
   ]
  },
  {
   "cell_type": "markdown",
   "metadata": {},
   "source": []
  },
  {
   "cell_type": "markdown",
   "metadata": {},
   "source": []
  }
 ],
 "metadata": {
  "kernelspec": {
   "display_name": "Python 3",
   "language": "python",
   "name": "python3"
  },
  "language_info": {
   "codemirror_mode": {
    "name": "ipython",
    "version": 3
   },
   "file_extension": ".py",
   "mimetype": "text/x-python",
   "name": "python",
   "nbconvert_exporter": "python",
   "pygments_lexer": "ipython3",
   "version": "3.5.3"
  }
 },
 "nbformat": 4,
 "nbformat_minor": 2
}
