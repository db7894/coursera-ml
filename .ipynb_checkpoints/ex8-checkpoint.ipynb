{
 "cells": [
  {
   "cell_type": "code",
   "execution_count": 1,
   "metadata": {
    "collapsed": true
   },
   "outputs": [],
   "source": [
    "import numpy as np  \n",
    "import pandas as pd  \n",
    "import matplotlib.pyplot as plt  \n",
    "import seaborn as sb  \n",
    "from scipy.io import loadmat  \n",
    "%matplotlib inline"
   ]
  },
  {
   "cell_type": "code",
   "execution_count": 2,
   "metadata": {},
   "outputs": [
    {
     "data": {
      "text/plain": [
       "(307, 2)"
      ]
     },
     "execution_count": 2,
     "metadata": {},
     "output_type": "execute_result"
    }
   ],
   "source": [
    "data = loadmat('data/ex8data1.mat')  \n",
    "X = data['X']  \n",
    "X.shape"
   ]
  },
  {
   "cell_type": "code",
   "execution_count": 3,
   "metadata": {},
   "outputs": [
    {
     "data": {
      "text/plain": [
       "<matplotlib.collections.PathCollection at 0x2caf65a5a90>"
      ]
     },
     "execution_count": 3,
     "metadata": {},
     "output_type": "execute_result"
    },
    {
     "data": {
      "image/png": "[encoded data removed]",
      "text/plain": [
       "<matplotlib.figure.Figure at 0x2caf630d630>"
      ]
     },
     "metadata": {},
     "output_type": "display_data"
    }
   ],
   "source": [
    "fig, ax = plt.subplots(figsize=(12,8))  \n",
    "ax.scatter(X[:,0], X[:,1])  "
   ]
  },
  {
   "cell_type": "code",
   "execution_count": 4,
   "metadata": {
    "collapsed": true
   },
   "outputs": [],
   "source": [
    "def estimate_gaussian(X):  \n",
    "    mu = X.mean(axis=0)\n",
    "    sigma = X.var(axis=0)\n",
    "\n",
    "    return mu, sigma"
   ]
  },
  {
   "cell_type": "code",
   "execution_count": 5,
   "metadata": {},
   "outputs": [
    {
     "data": {
      "text/plain": [
       "(array([ 14.11222578,  14.99771051]), array([ 1.83263141,  1.70974533]))"
      ]
     },
     "execution_count": 5,
     "metadata": {},
     "output_type": "execute_result"
    }
   ],
   "source": [
    "mu, sigma = estimate_gaussian(X)\n",
    "mu, sigma"
   ]
  },
  {
   "cell_type": "code",
   "execution_count": 6,
   "metadata": {
    "collapsed": true
   },
   "outputs": [],
   "source": [
    "Xval = data['Xval']  \n",
    "yval = data['yval']"
   ]
  },
  {
   "cell_type": "code",
   "execution_count": 8,
   "metadata": {},
   "outputs": [
    {
     "data": {
      "text/plain": [
       "((307, 2), (307, 1))"
      ]
     },
     "execution_count": 8,
     "metadata": {},
     "output_type": "execute_result"
    }
   ],
   "source": [
    "Xval.shape, yval.shape"
   ]
  },
  {
   "cell_type": "markdown",
   "metadata": {},
   "source": [
    "Check that data pt belongs to normal distrib"
   ]
  },
  {
   "cell_type": "code",
   "execution_count": 9,
   "metadata": {},
   "outputs": [
    {
     "data": {
      "text/plain": [
       "array([ 0.183842  ,  0.20221694,  0.21746136,  0.19778763,  0.20858956,\n",
       "        0.21652359,  0.16991291,  0.15123542,  0.1163989 ,  0.1594734 ,\n",
       "        0.21716057,  0.21760472,  0.20141857,  0.20157497,  0.21711385,\n",
       "        0.21758775,  0.21695576,  0.2138258 ,  0.21057069,  0.1173018 ,\n",
       "        0.20765108,  0.21717452,  0.19510663,  0.21702152,  0.17429399,\n",
       "        0.15413455,  0.21000109,  0.20223586,  0.21031898,  0.21313426,\n",
       "        0.16158946,  0.2170794 ,  0.17825767,  0.17414633,  0.1264951 ,\n",
       "        0.19723662,  0.14538809,  0.21766361,  0.21191386,  0.21729442,\n",
       "        0.21238912,  0.18799417,  0.21259798,  0.21752767,  0.20616968,\n",
       "        0.21520366,  0.1280081 ,  0.21768113,  0.21539967,  0.16913173])"
      ]
     },
     "execution_count": 9,
     "metadata": {},
     "output_type": "execute_result"
    }
   ],
   "source": [
    "from scipy import stats  \n",
    "dist = stats.norm(mu[0], sigma[0]) # normal distribution w/ these parms\n",
    "dist.pdf(X[:,0])[0:50] # get PDF--probabilities that the first 50 instances of X's first dim belong to above normal distribution"
   ]
  },
  {
   "cell_type": "code",
   "execution_count": 10,
   "metadata": {
    "collapsed": true
   },
   "outputs": [],
   "source": [
    "p = np.zeros((X.shape[0], X.shape[1]))  # save prob dens of each value in X given above Gaussian model params\n",
    "p[:,0] = stats.norm(mu[0], sigma[0]).pdf(X[:,0])\n",
    "p[:,1] = stats.norm(mu[1], sigma[1]).pdf(X[:,1])"
   ]
  },
  {
   "cell_type": "code",
   "execution_count": 11,
   "metadata": {},
   "outputs": [
    {
     "data": {
      "text/plain": [
       "(307, 2)"
      ]
     },
     "execution_count": 11,
     "metadata": {},
     "output_type": "execute_result"
    }
   ],
   "source": [
    "p.shape"
   ]
  },
  {
   "cell_type": "code",
   "execution_count": 12,
   "metadata": {
    "collapsed": true
   },
   "outputs": [],
   "source": [
    "pval = np.zeros((Xval.shape[0], Xval.shape[1])) # for val set\n",
    "pval[:,0] = stats.norm(mu[0], sigma[0]).pdf(Xval[:,0])\n",
    "pval[:,1] = stats.norm(mu[1], sigma[1]).pdf(Xval[:,1])"
   ]
  },
  {
   "cell_type": "code",
   "execution_count": 13,
   "metadata": {
    "collapsed": true
   },
   "outputs": [],
   "source": [
    "def select_threshold(pval, yval):\n",
    "    best_epsilon = 0\n",
    "    best_f1 = 0\n",
    "    f1 = 0\n",
    "\n",
    "    step = (pval.max() - pval.min()) / 1000\n",
    "    \n",
    "    for epsilon in np.arange(pval.min(), pval.max(), step):\n",
    "        preds = pval < epsilon\n",
    "        \n",
    "        # get true/false positive and false negative\n",
    "        tp = np.sum(np.logical_and(preds == 1, yval == 1)).astype(float)\n",
    "        fp = np.sum(np.logical_and(preds == 1, yval == 0)).astype(float)\n",
    "        fn = np.sum(np.logical_and(preds == 0, yval == 1)).astype(float)\n",
    "        \n",
    "        # calculate precision and recall\n",
    "        precision = tp / (tp + fp)\n",
    "        recall = tp / (tp + fn)\n",
    "        f1 = (2 * precision * recall) / (precision + recall)\n",
    "        \n",
    "        # update best epsilon\n",
    "        if f1 > best_f1:\n",
    "            best_f1 = f1\n",
    "            best_epsilon = epsilon\n",
    "            \n",
    "    return best_epsilon, best_f1"
   ]
  },
  {
   "cell_type": "code",
   "execution_count": 14,
   "metadata": {},
   "outputs": [
    {
     "name": "stderr",
     "output_type": "stream",
     "text": [
      "C:\\Python35\\lib\\site-packages\\ipykernel_launcher.py:17: RuntimeWarning: invalid value encountered in double_scalars\n"
     ]
    },
    {
     "data": {
      "text/plain": [
       "(0.0095667060059568421, 0.7142857142857143)"
      ]
     },
     "execution_count": 14,
     "metadata": {},
     "output_type": "execute_result"
    }
   ],
   "source": [
    "epsilon, f1 = select_threshold(pval, yval)  \n",
    "epsilon, f1"
   ]
  },
  {
   "cell_type": "code",
   "execution_count": 15,
   "metadata": {
    "collapsed": true
   },
   "outputs": [],
   "source": [
    "# get outlier indexes\n",
    "outliers = np.where(p < epsilon)"
   ]
  },
  {
   "cell_type": "code",
   "execution_count": 16,
   "metadata": {},
   "outputs": [
    {
     "data": {
      "text/plain": [
       "<matplotlib.collections.PathCollection at 0x2caf692ce10>"
      ]
     },
     "execution_count": 16,
     "metadata": {},
     "output_type": "execute_result"
    },
    {
     "data": {
      "image/png": "[encoded data removed]",
      "text/plain": [
       "<matplotlib.figure.Figure at 0x2caf68d5400>"
      ]
     },
     "metadata": {},
     "output_type": "display_data"
    }
   ],
   "source": [
    "fig, ax = plt.subplots(figsize=(12,8))\n",
    "ax.scatter(X[:,0], X[:,1])\n",
    "ax.scatter(X[outliers[0],0], X[outliers[0],1], s=50, color='r', marker='o')"
   ]
  },
  {
   "cell_type": "markdown",
   "metadata": {},
   "source": [
    "## Collaborative Filtering"
   ]
  },
  {
   "cell_type": "code",
   "execution_count": 17,
   "metadata": {
    "scrolled": true
   },
   "outputs": [
    {
     "data": {
      "text/plain": [
       "{'R': array([[1, 1, 0, ..., 1, 0, 0],\n",
       "        [1, 0, 0, ..., 0, 0, 1],\n",
       "        [1, 0, 0, ..., 0, 0, 0],\n",
       "        ..., \n",
       "        [0, 0, 0, ..., 0, 0, 0],\n",
       "        [0, 0, 0, ..., 0, 0, 0],\n",
       "        [0, 0, 0, ..., 0, 0, 0]], dtype=uint8),\n",
       " 'Y': array([[5, 4, 0, ..., 5, 0, 0],\n",
       "        [3, 0, 0, ..., 0, 0, 5],\n",
       "        [4, 0, 0, ..., 0, 0, 0],\n",
       "        ..., \n",
       "        [0, 0, 0, ..., 0, 0, 0],\n",
       "        [0, 0, 0, ..., 0, 0, 0],\n",
       "        [0, 0, 0, ..., 0, 0, 0]], dtype=uint8),\n",
       " '__globals__': [],\n",
       " '__header__': b'MATLAB 5.0 MAT-file, Platform: GLNXA64, Created on: Thu Dec  1 17:19:26 2011',\n",
       " '__version__': '1.0'}"
      ]
     },
     "execution_count": 17,
     "metadata": {},
     "output_type": "execute_result"
    }
   ],
   "source": [
    "data = loadmat('data/ex8_movies.mat')\n",
    "data"
   ]
  },
  {
   "cell_type": "code",
   "execution_count": 18,
   "metadata": {},
   "outputs": [
    {
     "data": {
      "text/plain": [
       "((1682, 943), (1682, 943))"
      ]
     },
     "execution_count": 18,
     "metadata": {},
     "output_type": "execute_result"
    }
   ],
   "source": [
    "Y = data['Y'] # array of dim (# movies) x (# users) containing ratings (1-5)\n",
    "R = data['R'] # indicator array of whether user j rated movie i\n",
    "Y.shape, R.shape"
   ]
  },
  {
   "cell_type": "code",
   "execution_count": 19,
   "metadata": {},
   "outputs": [
    {
     "data": {
      "text/plain": [
       "2.5832449628844114"
      ]
     },
     "execution_count": 19,
     "metadata": {},
     "output_type": "execute_result"
    }
   ],
   "source": [
    "Y[1,R[1,:]].mean() # get average rating by checking where a user actually rated a film"
   ]
  },
  {
   "cell_type": "code",
   "execution_count": 20,
   "metadata": {
    "scrolled": true
   },
   "outputs": [
    {
     "data": {
      "image/png": "[encoded data removed]",
      "text/plain": [
       "<matplotlib.figure.Figure at 0x2caf68d1cc0>"
      ]
     },
     "metadata": {},
     "output_type": "display_data"
    }
   ],
   "source": [
    "fig, ax = plt.subplots(figsize=(12,12))\n",
    "ax.imshow(Y)\n",
    "ax.set_xlabel('Users')\n",
    "ax.set_ylabel('Movies')\n",
    "fig.tight_layout()"
   ]
  },
  {
   "cell_type": "code",
   "execution_count": 21,
   "metadata": {
    "collapsed": true
   },
   "outputs": [],
   "source": [
    "def cost(params, Y, R, num_features):  \n",
    "    Y = np.matrix(Y)  # (1682, 943)\n",
    "    R = np.matrix(R)  # (1682, 943)\n",
    "    num_movies = Y.shape[0]\n",
    "    num_users = Y.shape[1]\n",
    "    \n",
    "    # reshape the parameter array into parameter matrices\n",
    "    X = np.matrix(np.reshape(params[:num_movies * num_features], (num_movies, num_features)))  # (1682, 10)\n",
    "    Theta = np.matrix(np.reshape(params[num_movies * num_features:], (num_users, num_features)))  # (943, 10)\n",
    "    \n",
    "    # init cost\n",
    "    cost = 0\n",
    "    \n",
    "    # update cost\n",
    "    error = np.multiply((X * Theta.T) - Y, R)  # (1682, 943)\n",
    "    squared_error = np.power(error, 2)  # (1682, 943)\n",
    "    cost = (1. / 2) * np.sum(squared_error)\n",
    "    \n",
    "    return cost"
   ]
  },
  {
   "cell_type": "code",
   "execution_count": 22,
   "metadata": {
    "collapsed": true
   },
   "outputs": [],
   "source": [
    "users = 4\n",
    "movies = 5\n",
    "features = 3"
   ]
  },
  {
   "cell_type": "code",
   "execution_count": 23,
   "metadata": {
    "collapsed": true
   },
   "outputs": [],
   "source": [
    "params_data = loadmat('data/ex8_movieParams.mat')  \n",
    "X = params_data['X']  \n",
    "Theta = params_data['Theta']"
   ]
  },
  {
   "cell_type": "code",
   "execution_count": 24,
   "metadata": {
    "collapsed": true
   },
   "outputs": [],
   "source": [
    "# look at subset\n",
    "X_sub = X[:movies, :features]  \n",
    "Theta_sub = Theta[:users, :features]  \n",
    "Y_sub = Y[:movies, :users]  \n",
    "R_sub = R[:movies, :users]"
   ]
  },
  {
   "cell_type": "code",
   "execution_count": 25,
   "metadata": {
    "collapsed": true
   },
   "outputs": [],
   "source": [
    "params = np.concatenate((np.ravel(X_sub), np.ravel(Theta_sub)))"
   ]
  },
  {
   "cell_type": "code",
   "execution_count": 26,
   "metadata": {},
   "outputs": [
    {
     "data": {
      "text/plain": [
       "22.224603725685675"
      ]
     },
     "execution_count": 26,
     "metadata": {},
     "output_type": "execute_result"
    }
   ],
   "source": [
    "cost(params, Y_sub, R_sub, features)"
   ]
  },
  {
   "cell_type": "code",
   "execution_count": 27,
   "metadata": {
    "collapsed": true
   },
   "outputs": [],
   "source": [
    "def cost(params, Y, R, num_features):\n",
    "    # cost but also compute grads\n",
    "    Y = np.matrix(Y)  # (1682, 943)\n",
    "    R = np.matrix(R)  # (1682, 943)\n",
    "    num_movies = Y.shape[0]\n",
    "    num_users = Y.shape[1]\n",
    "\n",
    "    # reshape the parameter array into parameter matrices\n",
    "    X = np.matrix(np.reshape(params[:num_movies * num_features], (num_movies, num_features)))  # (1682, 10)\n",
    "    Theta = np.matrix(np.reshape(params[num_movies * num_features:], (num_users, num_features)))  # (943, 10)\n",
    "\n",
    "    # initializations: cost and gradients\n",
    "    cost = 0\n",
    "    X_grad = np.zeros(X.shape)  # (1682, 10)\n",
    "    Theta_grad = np.zeros(Theta.shape)  # (943, 10)\n",
    "    \n",
    "    # cost computation\n",
    "    error = np.multiply((X * Theta.T) - Y, R)  # (1682, 943)\n",
    "    squared_error = np.power(error, 2)  # (1682, 943)\n",
    "    cost = (1. / 2) * np.sum(squared_error)\n",
    "    \n",
    "    # grads\n",
    "    X_grad = error * Theta\n",
    "    Theta_grad = error.T * X\n",
    "    \n",
    "    # put X_grad, Theta_grad into single arr\n",
    "    grad = np.concatenate((np.ravel(X_grad), np.ravel(Theta_grad)))\n",
    "    \n",
    "    return cost, grad"
   ]
  },
  {
   "cell_type": "code",
   "execution_count": 28,
   "metadata": {},
   "outputs": [
    {
     "data": {
      "text/plain": [
       "(22.224603725685675,\n",
       " array([ -2.52899165,   7.57570308,  -1.89979026,  -0.56819597,\n",
       "          3.35265031,  -0.52339845,  -0.83240713,   4.91163297,\n",
       "         -0.76677878,  -0.38358278,   2.26333698,  -0.35334048,\n",
       "         -0.80378006,   4.74271842,  -0.74040871, -10.5680202 ,\n",
       "          4.62776019,  -7.16004443,  -3.05099006,   1.16441367,\n",
       "         -3.47410789,   0.        ,   0.        ,   0.        ,\n",
       "          0.        ,   0.        ,   0.        ]))"
      ]
     },
     "execution_count": 28,
     "metadata": {},
     "output_type": "execute_result"
    }
   ],
   "source": [
    "cost, grad = cost(params, Y_sub, R_sub, features)  \n",
    "cost, grad"
   ]
  },
  {
   "cell_type": "code",
   "execution_count": 29,
   "metadata": {
    "collapsed": true
   },
   "outputs": [],
   "source": [
    "def cost_reg(params, Y, R, num_features, learning_rate):\n",
    "    # regularized cost\n",
    "    Y = np.matrix(Y)  # (1682, 943)\n",
    "    R = np.matrix(R)  # (1682, 943)\n",
    "    num_movies = Y.shape[0]\n",
    "    num_users = Y.shape[1]\n",
    "\n",
    "    # reshape the parameter array into parameter matrices\n",
    "    X = np.matrix(np.reshape(params[:num_movies * num_features], (num_movies, num_features)))  # (1682, 10)\n",
    "    Theta = np.matrix(np.reshape(params[num_movies * num_features:], (num_users, num_features)))  # (943, 10)\n",
    "\n",
    "    # initializations\n",
    "    cost = 0\n",
    "    X_grad = np.zeros(X.shape)  # (1682, 10)\n",
    "    Theta_grad = np.zeros(Theta.shape)  # (943, 10)\n",
    "\n",
    "    # compute the cost\n",
    "    error = np.multiply((X * Theta.T) - Y, R)  # (1682, 943)\n",
    "    squared_error = np.power(error, 2)  # (1682, 943)\n",
    "    cost = (1. / 2) * np.sum(squared_error)\n",
    "\n",
    "    # add the cost regularization\n",
    "    cost = cost + ((learning_rate / 2) * np.sum(np.power(Theta, 2)))\n",
    "    cost = cost + ((learning_rate / 2) * np.sum(np.power(X, 2)))\n",
    "\n",
    "    # calculate the gradients with regularization\n",
    "    X_grad = (error * Theta) + (learning_rate * X)\n",
    "    Theta_grad = (error.T * X) + (learning_rate * Theta)\n",
    "\n",
    "    # unravel the gradient matrices into a single array\n",
    "    grad = np.concatenate((np.ravel(X_grad), np.ravel(Theta_grad)))\n",
    "\n",
    "    return cost, grad"
   ]
  },
  {
   "cell_type": "code",
   "execution_count": null,
   "metadata": {
    "collapsed": true
   },
   "outputs": [],
   "source": [
    "J, grad = cost(params, Y_sub, R_sub, features, 1.5)  \n",
    "J, grad"
   ]
  }
 ],
 "metadata": {
  "kernelspec": {
   "display_name": "Python 3",
   "language": "python",
   "name": "python3"
  },
  "language_info": {
   "codemirror_mode": {
    "name": "ipython",
    "version": 3
   },
   "file_extension": ".py",
   "mimetype": "text/x-python",
   "name": "python",
   "nbconvert_exporter": "python",
   "pygments_lexer": "ipython3",
   "version": "3.5.3"
  }
 },
 "nbformat": 4,
 "nbformat_minor": 2
}
